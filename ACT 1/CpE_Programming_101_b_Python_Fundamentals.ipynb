{
  "nbformat": 4,
  "nbformat_minor": 0,
  "metadata": {
    "colab": {
      "name": "CpE_Programming_101_b_Python_Fundamentals.ipynb",
      "provenance": [],
      "collapsed_sections": [
        "9RgPwQR4YVG5",
        "N6jTqTZojnSg"
      ],
      "include_colab_link": true
    },
    "kernelspec": {
      "name": "python3",
      "display_name": "Python 3"
    }
  },
  "cells": [
    {
      "cell_type": "markdown",
      "metadata": {
        "id": "view-in-github",
        "colab_type": "text"
      },
      "source": [
        "<a href=\"https://colab.research.google.com/github/jovianparco/Numerical-Methods/blob/main/CpE_Programming_101_b_Python_Fundamentals.ipynb\" target=\"_parent\"><img src=\"https://colab.research.google.com/assets/colab-badge.svg\" alt=\"Open In Colab\"/></a>"
      ]
    },
    {
      "cell_type": "markdown",
      "metadata": {
        "id": "QnAdk8hy7Bl9"
      },
      "source": [
        "# Welcome to Python Fundamentals\r\n",
        "*by J.Parco  ©2021*\r\n",
        "\r\n",
        "In this module, we are going to establish or review our skills in Python programming. In this notebook we are going to cover:\r\n",
        "* Variables and Data Types \r\n",
        "* Operations\r\n",
        "* Input and Output Operations\r\n",
        "* Logic Control\r\n",
        "* Iterables\r\n",
        "* Functions"
      ]
    },
    {
      "cell_type": "markdown",
      "metadata": {
        "id": "T6ABRAjTT1Ta"
      },
      "source": [
        "## Variable and Data Types"
      ]
    },
    {
      "cell_type": "markdown",
      "metadata": {
        "id": "m-BPunzMUKk0"
      },
      "source": [
        "Variable is the place holders or a way to store data values; to use the variable in python; the user must declare a variable name followed by the equal sign \"=\" and the data, the data can have different forms such as integers for whole numbers, float for fractional numbers, a string for word or sentence and boolean for declaring True or False. \r\n",
        "\r\n",
        "The code snippets below shows how to use variable, showing the type of data, and changing data type using casting.\r\n"
      ]
    },
    {
      "cell_type": "code",
      "metadata": {
        "id": "G8JI3DTZ616F"
      },
      "source": [
        "## Declaring Variables\r\n",
        "x = 1       \r\n",
        "a,b = 0, -1"
      ],
      "execution_count": 1,
      "outputs": []
    },
    {
      "cell_type": "code",
      "metadata": {
        "id": "QLT9rz2dUJ95",
        "colab": {
          "base_uri": "https://localhost:8080/"
        },
        "outputId": "b3977174-f5bc-436d-b24b-a0ed2481c0e8"
      },
      "source": [
        "## Showing the type of data\r\n",
        "type(x) "
      ],
      "execution_count": 2,
      "outputs": [
        {
          "output_type": "execute_result",
          "data": {
            "text/plain": [
              "int"
            ]
          },
          "metadata": {
            "tags": []
          },
          "execution_count": 2
        }
      ]
    },
    {
      "cell_type": "code",
      "metadata": {
        "id": "TR_rvX4SUWqx",
        "colab": {
          "base_uri": "https://localhost:8080/"
        },
        "outputId": "699f9eea-ec50-4587-fe8f-684978ae4faf"
      },
      "source": [
        "## Showing the type of data ##\r\n",
        "y = 1.0\r\n",
        "type(y) "
      ],
      "execution_count": 3,
      "outputs": [
        {
          "output_type": "execute_result",
          "data": {
            "text/plain": [
              "float"
            ]
          },
          "metadata": {
            "tags": []
          },
          "execution_count": 3
        }
      ]
    },
    {
      "cell_type": "code",
      "metadata": {
        "id": "FqV2upOiXcnC",
        "colab": {
          "base_uri": "https://localhost:8080/"
        },
        "outputId": "740b906a-e3fa-40c8-f6d1-ddc960799f44"
      },
      "source": [
        "## Casting or changing data types \r\n",
        "x = float(x)\r\n",
        "type(x)"
      ],
      "execution_count": 4,
      "outputs": [
        {
          "output_type": "execute_result",
          "data": {
            "text/plain": [
              "float"
            ]
          },
          "metadata": {
            "tags": []
          },
          "execution_count": 4
        }
      ]
    },
    {
      "cell_type": "code",
      "metadata": {
        "id": "2tuyqwmyXiDb",
        "colab": {
          "base_uri": "https://localhost:8080/"
        },
        "outputId": "c886ff6c-3b54-4215-d1a0-015d36ecf435"
      },
      "source": [
        "s,t,u = \"0\", '1', 'one'\r\n",
        "type(u)"
      ],
      "execution_count": 5,
      "outputs": [
        {
          "output_type": "execute_result",
          "data": {
            "text/plain": [
              "str"
            ]
          },
          "metadata": {
            "tags": []
          },
          "execution_count": 5
        }
      ]
    },
    {
      "cell_type": "code",
      "metadata": {
        "id": "6JwWqHx3XlmB",
        "colab": {
          "base_uri": "https://localhost:8080/",
          "height": 197
        },
        "outputId": "b7012f6e-ef21-457f-cf68-9a7bb8f6886a"
      },
      "source": [
        "## Limitation of Casting\r\n",
        "u_int = int(u)\r\n",
        "u_int"
      ],
      "execution_count": 6,
      "outputs": [
        {
          "output_type": "error",
          "ename": "ValueError",
          "evalue": "ignored",
          "traceback": [
            "\u001b[0;31m---------------------------------------------------------------------------\u001b[0m",
            "\u001b[0;31mValueError\u001b[0m                                Traceback (most recent call last)",
            "\u001b[0;32m<ipython-input-6-971f9fdf88ba>\u001b[0m in \u001b[0;36m<module>\u001b[0;34m()\u001b[0m\n\u001b[1;32m      1\u001b[0m \u001b[0;31m## Limitation of Casting\u001b[0m\u001b[0;34m\u001b[0m\u001b[0;34m\u001b[0m\u001b[0;34m\u001b[0m\u001b[0m\n\u001b[0;32m----> 2\u001b[0;31m \u001b[0mu_int\u001b[0m \u001b[0;34m=\u001b[0m \u001b[0mint\u001b[0m\u001b[0;34m(\u001b[0m\u001b[0mu\u001b[0m\u001b[0;34m)\u001b[0m\u001b[0;34m\u001b[0m\u001b[0;34m\u001b[0m\u001b[0m\n\u001b[0m\u001b[1;32m      3\u001b[0m \u001b[0mu_int\u001b[0m\u001b[0;34m\u001b[0m\u001b[0;34m\u001b[0m\u001b[0m\n",
            "\u001b[0;31mValueError\u001b[0m: invalid literal for int() with base 10: 'one'"
          ]
        }
      ]
    },
    {
      "cell_type": "markdown",
      "metadata": {
        "id": "9RgPwQR4YVG5"
      },
      "source": [
        "## Operations"
      ]
    },
    {
      "cell_type": "markdown",
      "metadata": {
        "id": "mvoS_zuJYbsg"
      },
      "source": [
        "### Arithmetic"
      ]
    },
    {
      "cell_type": "markdown",
      "metadata": {
        "id": "YYPltkUPZj6R"
      },
      "source": [
        "Python can perform arithmetic such as addition, subtraction, multiplication, division, floor division, exponential, and modulo\r\n",
        "by the way, floor division disregards the decimal while modulo gets the remainder of two values.\r\n",
        "\r\n",
        "Below is the code snippets for python arithmetic."
      ]
    },
    {
      "cell_type": "code",
      "metadata": {
        "id": "DSjUO0KcYoE-"
      },
      "source": [
        "## Declaring Variables\r\n",
        "a,b,c,d = 2.0, -0.5, 0, -32"
      ],
      "execution_count": 55,
      "outputs": []
    },
    {
      "cell_type": "code",
      "metadata": {
        "id": "o_kk0XFzYX9o",
        "colab": {
          "base_uri": "https://localhost:8080/"
        },
        "outputId": "1f9726c1-472a-48e1-9328-3be9ee453ecd"
      },
      "source": [
        "## Addition\r\n",
        "S = a+b\r\n",
        "S"
      ],
      "execution_count": 56,
      "outputs": [
        {
          "output_type": "execute_result",
          "data": {
            "text/plain": [
              "1.5"
            ]
          },
          "metadata": {
            "tags": []
          },
          "execution_count": 56
        }
      ]
    },
    {
      "cell_type": "code",
      "metadata": {
        "id": "TC5oFq3MY4jk",
        "colab": {
          "base_uri": "https://localhost:8080/"
        },
        "outputId": "e14232d6-0eab-40f1-edbc-113491d1084f"
      },
      "source": [
        "## Subtraction\r\n",
        "D = b-d\r\n",
        "D"
      ],
      "execution_count": 57,
      "outputs": [
        {
          "output_type": "execute_result",
          "data": {
            "text/plain": [
              "31.5"
            ]
          },
          "metadata": {
            "tags": []
          },
          "execution_count": 57
        }
      ]
    },
    {
      "cell_type": "code",
      "metadata": {
        "id": "j0bGayj5Y9wr",
        "colab": {
          "base_uri": "https://localhost:8080/"
        },
        "outputId": "1329034f-b580-4174-c280-61abf5437f8b"
      },
      "source": [
        "## Multiplication\r\n",
        "P = a*d\r\n",
        "P"
      ],
      "execution_count": 58,
      "outputs": [
        {
          "output_type": "execute_result",
          "data": {
            "text/plain": [
              "-64.0"
            ]
          },
          "metadata": {
            "tags": []
          },
          "execution_count": 58
        }
      ]
    },
    {
      "cell_type": "code",
      "metadata": {
        "id": "FnMWmq5LZLEU",
        "colab": {
          "base_uri": "https://localhost:8080/"
        },
        "outputId": "529e3e39-eb72-4855-bf50-0d40442d68dc"
      },
      "source": [
        "## Division\r\n",
        "Q = c/a\r\n",
        "Q"
      ],
      "execution_count": 59,
      "outputs": [
        {
          "output_type": "execute_result",
          "data": {
            "text/plain": [
              "0.0"
            ]
          },
          "metadata": {
            "tags": []
          },
          "execution_count": 59
        }
      ]
    },
    {
      "cell_type": "code",
      "metadata": {
        "id": "cQeVcFIWZd8o",
        "colab": {
          "base_uri": "https://localhost:8080/"
        },
        "outputId": "adc4e818-dfba-4e63-b025-789351d5b30a"
      },
      "source": [
        "## Floor Division\r\n",
        "Fq = a//b\r\n",
        "Fq"
      ],
      "execution_count": 60,
      "outputs": [
        {
          "output_type": "execute_result",
          "data": {
            "text/plain": [
              "-4.0"
            ]
          },
          "metadata": {
            "tags": []
          },
          "execution_count": 60
        }
      ]
    },
    {
      "cell_type": "code",
      "metadata": {
        "id": "YLaUu6APZSzR",
        "colab": {
          "base_uri": "https://localhost:8080/"
        },
        "outputId": "d7a55353-bc68-4f61-e488-fcf5da541cf2"
      },
      "source": [
        "## Exponentiation\r\n",
        "E = a**b\r\n",
        "E"
      ],
      "execution_count": 61,
      "outputs": [
        {
          "output_type": "execute_result",
          "data": {
            "text/plain": [
              "0.7071067811865476"
            ]
          },
          "metadata": {
            "tags": []
          },
          "execution_count": 61
        }
      ]
    },
    {
      "cell_type": "code",
      "metadata": {
        "id": "uf_0sf4CZ1JT",
        "colab": {
          "base_uri": "https://localhost:8080/"
        },
        "outputId": "3f502f9f-9883-408c-b7d6-e6428b0d8a7a"
      },
      "source": [
        "## Modulo\r\n",
        "mod = d%a\r\n",
        "mod"
      ],
      "execution_count": 62,
      "outputs": [
        {
          "output_type": "execute_result",
          "data": {
            "text/plain": [
              "0.0"
            ]
          },
          "metadata": {
            "tags": []
          },
          "execution_count": 62
        }
      ]
    },
    {
      "cell_type": "markdown",
      "metadata": {
        "id": "afyWvb1ZaJJ6"
      },
      "source": [
        "### Assignment Operations"
      ]
    },
    {
      "cell_type": "markdown",
      "metadata": {
        "id": "xf9zly8BdeU8"
      },
      "source": [
        "Assignment operators are the same as arithmetic but with a shorter code, but use it with caution because a simple assignment operator can change the variable value if the code runs a second time or more. To mitigate this, the user must declare the value again at the start of the code so that the variable will not override the value again.\r\n",
        "\r\n",
        "Below is a sample of Assignment operators and it drawbacks and solution.\r\n"
      ]
    },
    {
      "cell_type": "code",
      "metadata": {
        "id": "rMZ8r4WhanaE"
      },
      "source": [
        "## Declaring Variables\r\n",
        "G, H, J, K = 0, 100, 2, 2"
      ],
      "execution_count": 39,
      "outputs": []
    },
    {
      "cell_type": "code",
      "metadata": {
        "id": "IX0EbJ8RaMih",
        "colab": {
          "base_uri": "https://localhost:8080/"
        },
        "outputId": "85195ba9-b857-4072-8b43-9b86695bf4a1"
      },
      "source": [
        "## When its run a second time it will add the vaule again\r\n",
        "G += a\r\n",
        "G"
      ],
      "execution_count": 40,
      "outputs": [
        {
          "output_type": "execute_result",
          "data": {
            "text/plain": [
              "2.0"
            ]
          },
          "metadata": {
            "tags": []
          },
          "execution_count": 40
        }
      ]
    },
    {
      "cell_type": "code",
      "metadata": {
        "id": "aIj4hA-JaRA0",
        "colab": {
          "base_uri": "https://localhost:8080/"
        },
        "outputId": "3bdd7425-e68a-4b72-a2dc-14ff10bfb7d0"
      },
      "source": [
        "## Solution for the problem\r\n",
        "H = 100\r\n",
        "H -= d\r\n",
        "H"
      ],
      "execution_count": 41,
      "outputs": [
        {
          "output_type": "execute_result",
          "data": {
            "text/plain": [
              "132"
            ]
          },
          "metadata": {
            "tags": []
          },
          "execution_count": 41
        }
      ]
    },
    {
      "cell_type": "code",
      "metadata": {
        "id": "vuuDbAbNaXgS",
        "colab": {
          "base_uri": "https://localhost:8080/"
        },
        "outputId": "0836776c-9cf0-47e8-fb87-89400cf7e868"
      },
      "source": [
        "## Using Multiplication\r\n",
        "J *= 2\r\n",
        "J"
      ],
      "execution_count": 42,
      "outputs": [
        {
          "output_type": "execute_result",
          "data": {
            "text/plain": [
              "4"
            ]
          },
          "metadata": {
            "tags": []
          },
          "execution_count": 42
        }
      ]
    },
    {
      "cell_type": "code",
      "metadata": {
        "id": "sGVXGduUaeAj",
        "colab": {
          "base_uri": "https://localhost:8080/"
        },
        "outputId": "68fc6fcf-5f84-4db5-9684-84b7c4acabdc"
      },
      "source": [
        "## Using Exponentiation\r\n",
        "K **= 2\r\n",
        "K"
      ],
      "execution_count": 43,
      "outputs": [
        {
          "output_type": "execute_result",
          "data": {
            "text/plain": [
              "4"
            ]
          },
          "metadata": {
            "tags": []
          },
          "execution_count": 43
        }
      ]
    },
    {
      "cell_type": "markdown",
      "metadata": {
        "id": "UGXuqhVNbW7R"
      },
      "source": [
        "### Comparators"
      ]
    },
    {
      "cell_type": "markdown",
      "metadata": {
        "id": "7CPlYUEPlr69"
      },
      "source": [
        "Comparators or Comparison Operator is a build-in function for Pyhton that compares two values and returns a boolean or True/False.\r\n",
        "\r\n",
        "\r\n",
        "Below is a sample code snippet for comparison operator."
      ]
    },
    {
      "cell_type": "code",
      "metadata": {
        "id": "Oj9xLaEaYeuY"
      },
      "source": [
        "## Declaring Variables\r\n",
        "res_1, res_2, res_3 = 1, 2.0, \"1\"\r\n",
        "true_val = 1.0"
      ],
      "execution_count": 44,
      "outputs": []
    },
    {
      "cell_type": "code",
      "metadata": {
        "id": "GEXm6RSsbA8Q",
        "colab": {
          "base_uri": "https://localhost:8080/"
        },
        "outputId": "a37667b1-9fbd-4f09-afaa-1d1f2aee8878"
      },
      "source": [
        "## Equality\r\n",
        "res_1 == true_val"
      ],
      "execution_count": 45,
      "outputs": [
        {
          "output_type": "execute_result",
          "data": {
            "text/plain": [
              "True"
            ]
          },
          "metadata": {
            "tags": []
          },
          "execution_count": 45
        }
      ]
    },
    {
      "cell_type": "code",
      "metadata": {
        "id": "SdHk_b58bZhD",
        "colab": {
          "base_uri": "https://localhost:8080/"
        },
        "outputId": "6945a948-352c-4cd2-b140-7b4b7fce72c5"
      },
      "source": [
        "## Non-equality\r\n",
        "res_2 != true_val"
      ],
      "execution_count": 46,
      "outputs": [
        {
          "output_type": "execute_result",
          "data": {
            "text/plain": [
              "True"
            ]
          },
          "metadata": {
            "tags": []
          },
          "execution_count": 46
        }
      ]
    },
    {
      "cell_type": "code",
      "metadata": {
        "id": "EnA4q50JbQB5",
        "colab": {
          "base_uri": "https://localhost:8080/"
        },
        "outputId": "497b7130-fbf4-4313-8e1f-52e37200e39b"
      },
      "source": [
        "## Inequality\r\n",
        "t1 = res_1 > res_2\r\n",
        "t2 = res_1 < res_2/2\r\n",
        "t3 = res_1 >= res_2/2\r\n",
        "t4 = res_1 <= res_2  \r\n",
        "t1"
      ],
      "execution_count": 47,
      "outputs": [
        {
          "output_type": "execute_result",
          "data": {
            "text/plain": [
              "False"
            ]
          },
          "metadata": {
            "tags": []
          },
          "execution_count": 47
        }
      ]
    },
    {
      "cell_type": "markdown",
      "metadata": {
        "id": "9WkfdvbfcC1Y"
      },
      "source": [
        "### Logical\r\n"
      ]
    },
    {
      "cell_type": "markdown",
      "metadata": {
        "id": "mNPNkRh_ml42"
      },
      "source": [
        "Using Logical Operators uses a conditional statement to output a boolean or True/False.\r\n",
        "\r\n",
        "Below is a code snippet of logical operators."
      ]
    },
    {
      "cell_type": "code",
      "metadata": {
        "id": "cYVG6YeNb-Gz",
        "colab": {
          "base_uri": "https://localhost:8080/"
        },
        "outputId": "9b15dd7c-c135-42e6-db23-fff254500bfa"
      },
      "source": [
        "res_1 == true_val"
      ],
      "execution_count": 48,
      "outputs": [
        {
          "output_type": "execute_result",
          "data": {
            "text/plain": [
              "True"
            ]
          },
          "metadata": {
            "tags": []
          },
          "execution_count": 48
        }
      ]
    },
    {
      "cell_type": "code",
      "metadata": {
        "id": "rLe6hpkHcN-z",
        "colab": {
          "base_uri": "https://localhost:8080/"
        },
        "outputId": "566835d8-a977-4864-ac1f-7eded16019e5"
      },
      "source": [
        "## Using \"is\" output's \"False\" because the file type is not he same\r\n",
        "res_1 is true_val"
      ],
      "execution_count": 49,
      "outputs": [
        {
          "output_type": "execute_result",
          "data": {
            "text/plain": [
              "False"
            ]
          },
          "metadata": {
            "tags": []
          },
          "execution_count": 49
        }
      ]
    },
    {
      "cell_type": "code",
      "metadata": {
        "id": "tr5qxHQmcO-C",
        "colab": {
          "base_uri": "https://localhost:8080/"
        },
        "outputId": "9a1b360c-7a0b-40cd-fc8e-dc655245b257"
      },
      "source": [
        "## Using the \"not\" oprator\r\n",
        "res_1 is not true_val"
      ],
      "execution_count": 50,
      "outputs": [
        {
          "output_type": "execute_result",
          "data": {
            "text/plain": [
              "True"
            ]
          },
          "metadata": {
            "tags": []
          },
          "execution_count": 50
        }
      ]
    },
    {
      "cell_type": "code",
      "metadata": {
        "id": "3GU72N-Gcslz",
        "colab": {
          "base_uri": "https://localhost:8080/"
        },
        "outputId": "fe6bd4d7-0086-4284-f131-d0c8cef3c674"
      },
      "source": [
        "## Using \"and\" operator will only outputs \"True\" id both values are \"True\" \r\n",
        "p, q = True, False\r\n",
        "conj = p and q\r\n",
        "conj"
      ],
      "execution_count": 51,
      "outputs": [
        {
          "output_type": "execute_result",
          "data": {
            "text/plain": [
              "False"
            ]
          },
          "metadata": {
            "tags": []
          },
          "execution_count": 51
        }
      ]
    },
    {
      "cell_type": "code",
      "metadata": {
        "id": "ihMxcT6KcvQj",
        "colab": {
          "base_uri": "https://localhost:8080/"
        },
        "outputId": "213058b6-dec7-44bb-dc07-1ed8538f9dfe"
      },
      "source": [
        "## Using \"or\" operator only outputs \"True\" if one of the values is \"True\"\r\n",
        "p, q = True, False\r\n",
        "disj = p or q\r\n",
        "disj"
      ],
      "execution_count": 52,
      "outputs": [
        {
          "output_type": "execute_result",
          "data": {
            "text/plain": [
              "True"
            ]
          },
          "metadata": {
            "tags": []
          },
          "execution_count": 52
        }
      ]
    },
    {
      "cell_type": "code",
      "metadata": {
        "id": "T-QfmeYgcyGQ",
        "colab": {
          "base_uri": "https://localhost:8080/"
        },
        "outputId": "b7c30363-349d-488e-a144-934ea8f353ab"
      },
      "source": [
        "## Using the negation of \"and\" or \"nand\" operator which is the opposite of \"and\" operator \r\n",
        "p, q = True, False\r\n",
        "nand = not(p and q)\r\n",
        "nand"
      ],
      "execution_count": 53,
      "outputs": [
        {
          "output_type": "execute_result",
          "data": {
            "text/plain": [
              "True"
            ]
          },
          "metadata": {
            "tags": []
          },
          "execution_count": 53
        }
      ]
    },
    {
      "cell_type": "code",
      "metadata": {
        "id": "2HL7SlVbc10k",
        "colab": {
          "base_uri": "https://localhost:8080/"
        },
        "outputId": "476047aa-72de-44e8-f39b-98de1daa2849"
      },
      "source": [
        "## Using \"exclusive or\" operator outputs \"True\" only when inputs differ\r\n",
        "p, q = True, False\r\n",
        "xor = (not p and q) or (p and not q)\r\n",
        "xor"
      ],
      "execution_count": 54,
      "outputs": [
        {
          "output_type": "execute_result",
          "data": {
            "text/plain": [
              "True"
            ]
          },
          "metadata": {
            "tags": []
          },
          "execution_count": 54
        }
      ]
    },
    {
      "cell_type": "markdown",
      "metadata": {
        "id": "AQx4DKafYffJ"
      },
      "source": [
        "## I/O"
      ]
    },
    {
      "cell_type": "markdown",
      "metadata": {
        "id": "GKEZhKKepEwy"
      },
      "source": [
        "Inputs and Outputs for Python is the most basic function that will always be used, using inputs to declare a variable and print function to output the data. To integrate inputs and outputs, 3 ways are using the typical way,  f function, and format function.\r\n",
        "\r\n",
        "\r\n",
        "bellow is a code snippet on how to use inputs and outputs for Python."
      ]
    },
    {
      "cell_type": "code",
      "metadata": {
        "id": "Q-DVERG5Yk9w",
        "colab": {
          "base_uri": "https://localhost:8080/"
        },
        "outputId": "e83381cc-0885-4ab2-cd4c-25be94ad4d82"
      },
      "source": [
        "## Outputing a String\r\n",
        "print(\"Hello World\")"
      ],
      "execution_count": 63,
      "outputs": [
        {
          "output_type": "stream",
          "text": [
            "Hello World\n"
          ],
          "name": "stdout"
        }
      ]
    },
    {
      "cell_type": "code",
      "metadata": {
        "id": "fS5wN51beSVF"
      },
      "source": [
        "## Declaring a Variable\r\n",
        "cnt = 1"
      ],
      "execution_count": 64,
      "outputs": []
    },
    {
      "cell_type": "code",
      "metadata": {
        "id": "hKNaUXmdZdUo",
        "colab": {
          "base_uri": "https://localhost:8080/"
        },
        "outputId": "bca3af75-3da4-4038-a19c-0fa78a5cb957"
      },
      "source": [
        "## Typical way of integrating Variables and Outputs\r\n",
        "string = \"Hello World\"\r\n",
        "print(string, \", Current run count is:\", cnt)\r\n",
        "cnt += 1"
      ],
      "execution_count": 65,
      "outputs": [
        {
          "output_type": "stream",
          "text": [
            "Hello World , Current run count is: 1\n"
          ],
          "name": "stdout"
        }
      ]
    },
    {
      "cell_type": "code",
      "metadata": {
        "id": "15_WdzEZcOVX",
        "colab": {
          "base_uri": "https://localhost:8080/"
        },
        "outputId": "182d134e-bcd3-4e89-9e83-933066c38e6e"
      },
      "source": [
        "## Using f Function to integrate Variables and Outputs\r\n",
        "print(f\"{string}, Current count is: {cnt}\")"
      ],
      "execution_count": 66,
      "outputs": [
        {
          "output_type": "stream",
          "text": [
            "Hello World, Current count is: 2\n"
          ],
          "name": "stdout"
        }
      ]
    },
    {
      "cell_type": "code",
      "metadata": {
        "id": "5m9XtFOPcOXo",
        "colab": {
          "base_uri": "https://localhost:8080/"
        },
        "outputId": "b34a603f-42bf-432e-9165-20d0ab5d08c4"
      },
      "source": [
        "## Using format Function to integrate Variables and Outputs\r\n",
        "sem_grade = 82.243564657461234\r\n",
        "name = \"\"\r\n",
        "print(\"Hello {}, your semestral grade is: {}\".format(name, sem_grade))"
      ],
      "execution_count": 67,
      "outputs": [
        {
          "output_type": "stream",
          "text": [
            "Hello , your semestral grade is: 82.24356465746123\n"
          ],
          "name": "stdout"
        }
      ]
    },
    {
      "cell_type": "code",
      "metadata": {
        "id": "SMJx6bTnfdgZ",
        "colab": {
          "base_uri": "https://localhost:8080/"
        },
        "outputId": "0ec6d2cc-aace-4cd6-e751-4414f58940de"
      },
      "source": [
        "## Using format Function with decorators to integrate Variables and Outputs\r\n",
        "w_pg, w_mg, w_fg = 0.3, 0.3, 0.4\r\n",
        "print(\"The weights of your semestral grades are:\\\r\n",
        "\\n\\t{:.2%} for Prelims\\\r\n",
        "\\n\\t{:.2%} for Midterms, and\\\r\n",
        "\\n\\t{:.2%} for Finals.\".format(w_pg, w_mg, w_fg))"
      ],
      "execution_count": 68,
      "outputs": [
        {
          "output_type": "stream",
          "text": [
            "The weights of your semestral grades are:\n",
            "\t30.00% for Prelims\n",
            "\t30.00% for Midterms, and\n",
            "\t40.00% for Finals.\n"
          ],
          "name": "stdout"
        }
      ]
    },
    {
      "cell_type": "code",
      "metadata": {
        "id": "Ob2I_zR3jAcZ",
        "colab": {
          "base_uri": "https://localhost:8080/",
          "height": 52
        },
        "outputId": "2c1d614c-51ae-4355-b0fd-3907d1f928dc"
      },
      "source": [
        "## Inputing an integeger for a Variable\r\n",
        "x = input(\"enter a number: \")\r\n",
        "x"
      ],
      "execution_count": 69,
      "outputs": [
        {
          "output_type": "stream",
          "text": [
            "enter a number: 1\n"
          ],
          "name": "stdout"
        },
        {
          "output_type": "execute_result",
          "data": {
            "application/vnd.google.colaboratory.intrinsic+json": {
              "type": "string"
            },
            "text/plain": [
              "'1'"
            ]
          },
          "metadata": {
            "tags": []
          },
          "execution_count": 69
        }
      ]
    },
    {
      "cell_type": "code",
      "metadata": {
        "id": "T7ODFfcMh9Pg",
        "colab": {
          "base_uri": "https://localhost:8080/"
        },
        "outputId": "37b0454b-a240-4e58-b03f-e8fa85bda1c5"
      },
      "source": [
        "## Combining Outputs and Inputs \r\n",
        "name = input(\"Kimi no nawa: \")\r\n",
        "pg = float(input(\"Enter prelim grade: \"))\r\n",
        "mg = float(input(\"Enter midterm grade: \"))\r\n",
        "fg = float(input(\"Enter finals grade: \"))\r\n",
        "sem_grade = w_pg*pg + w_mg*mg + w_fg*fg\r\n",
        "print(\"Hello {}, your semestral grade is: {}\".format(name, sem_grade))"
      ],
      "execution_count": 70,
      "outputs": [
        {
          "output_type": "stream",
          "text": [
            "Kimi no nawa: 1\n",
            "Enter prelim grade: 2\n",
            "Enter midterm grade: 3\n",
            "Enter finals grade: 4\n",
            "Hello 1, your semestral grade is: 3.1\n"
          ],
          "name": "stdout"
        }
      ]
    },
    {
      "cell_type": "markdown",
      "metadata": {
        "id": "i0g3EothhvqL"
      },
      "source": [
        "## Looping Statements"
      ]
    },
    {
      "cell_type": "markdown",
      "metadata": {
        "id": "iIxosEoYxpmN"
      },
      "source": [
        "A looping statement is a group of function where a task or a statement runs 2 or more times.\r\n",
        "\r\n"
      ]
    },
    {
      "cell_type": "markdown",
      "metadata": {
        "id": "j4w90VAIjcFJ"
      },
      "source": [
        "### While"
      ]
    },
    {
      "cell_type": "markdown",
      "metadata": {
        "id": "Aki5oGbex9Zw"
      },
      "source": [
        "While loop is a function that will only run if the given expression is True."
      ]
    },
    {
      "cell_type": "code",
      "metadata": {
        "id": "4vtSrBPThlse",
        "colab": {
          "base_uri": "https://localhost:8080/"
        },
        "outputId": "b94758aa-1cbb-4a60-ada1-9392b98db99e"
      },
      "source": [
        "## while loops\r\n",
        "i, j = 0, 10\r\n",
        "while(i<=j):\r\n",
        "    print(f\"{i}\\t|\\t{j}\")\r\n",
        "    i+=1"
      ],
      "execution_count": 83,
      "outputs": [
        {
          "output_type": "stream",
          "text": [
            "0\t|\t10\n",
            "1\t|\t10\n",
            "2\t|\t10\n",
            "3\t|\t10\n",
            "4\t|\t10\n",
            "5\t|\t10\n",
            "6\t|\t10\n",
            "7\t|\t10\n",
            "8\t|\t10\n",
            "9\t|\t10\n",
            "10\t|\t10\n"
          ],
          "name": "stdout"
        }
      ]
    },
    {
      "cell_type": "markdown",
      "metadata": {
        "id": "Qz6AH6jRjfUg"
      },
      "source": [
        "### For"
      ]
    },
    {
      "cell_type": "markdown",
      "metadata": {
        "id": "7nNqXyLvyU0T"
      },
      "source": [
        "For loop will run until the number of the iterating sequence is finished; the sequence can be a number or a list.  "
      ]
    },
    {
      "cell_type": "code",
      "metadata": {
        "id": "q0DUwfRkjZY7",
        "colab": {
          "base_uri": "https://localhost:8080/"
        },
        "outputId": "60e51d53-9320-4262-c9b5-7a7a99ca36d0"
      },
      "source": [
        "# for(int i=0; i<10; i++){\r\n",
        "# printf(i)\r\n",
        "# }\r\n",
        "## Using Integer in a for loop\r\n",
        "i=0\r\n",
        "for i in range(10):\r\n",
        "    print(i)"
      ],
      "execution_count": 84,
      "outputs": [
        {
          "output_type": "stream",
          "text": [
            "0\n",
            "1\n",
            "2\n",
            "3\n",
            "4\n",
            "5\n",
            "6\n",
            "7\n",
            "8\n",
            "9\n"
          ],
          "name": "stdout"
        }
      ]
    },
    {
      "cell_type": "code",
      "metadata": {
        "id": "zaM--lUhjiUg",
        "colab": {
          "base_uri": "https://localhost:8080/"
        },
        "outputId": "3d720d36-2d2a-4a3a-b281-c37b4df925ea"
      },
      "source": [
        "## Using list in a for loop\r\n",
        "playlist = []\r\n",
        "print('Now Playing:\\n')\r\n",
        "for song in playlist:\r\n",
        "    print(song)"
      ],
      "execution_count": 85,
      "outputs": [
        {
          "output_type": "stream",
          "text": [
            "Now Playing:\n",
            "\n"
          ],
          "name": "stdout"
        }
      ]
    },
    {
      "cell_type": "markdown",
      "metadata": {
        "id": "N6jTqTZojnSg"
      },
      "source": [
        "## Flow Control"
      ]
    },
    {
      "cell_type": "markdown",
      "metadata": {
        "id": "uhnsV2CijrWQ"
      },
      "source": [
        "### Condition Statements"
      ]
    },
    {
      "cell_type": "markdown",
      "metadata": {
        "id": "EqR1iGkDzezJ"
      },
      "source": [
        "Condition statement has three parts \"if\", \"elif\", and \"else\"; \"if\" statement run if the condition is True, \"elif\" statement will run if the \"if\" statement is False and \"elif\" statement is True while \"else\" is a catch-all statement where all expression didn't meet."
      ]
    },
    {
      "cell_type": "code",
      "metadata": {
        "id": "seJplrJojmTg",
        "colab": {
          "base_uri": "https://localhost:8080/"
        },
        "outputId": "406c7bb2-6f59-478e-ff64-f3fd3004a821"
      },
      "source": [
        "## Using Conditon Statement\r\n",
        "numeral1, numeral2 = 12, 12\r\n",
        "if(numeral1 == numeral2):\r\n",
        "    print(\"Yey\")\r\n",
        "elif(numeral1>numeral2):\r\n",
        "    print(\"Hoho\")\r\n",
        "else:\r\n",
        "    print(\"Aww\")\r\n",
        "print(\"Hip hip\")"
      ],
      "execution_count": 74,
      "outputs": [
        {
          "output_type": "stream",
          "text": [
            "Yey\n",
            "Hip hip\n"
          ],
          "name": "stdout"
        }
      ]
    },
    {
      "cell_type": "markdown",
      "metadata": {
        "id": "tlnG1OKilNLo"
      },
      "source": [
        "## Functions"
      ]
    },
    {
      "cell_type": "markdown",
      "metadata": {
        "id": "j-VXgRPE0AyX"
      },
      "source": [
        "A function is a block of code that will only run if the function is called"
      ]
    },
    {
      "cell_type": "code",
      "metadata": {
        "id": "1iMUEipnlUKY"
      },
      "source": [
        "## Setting up a Function\r\n",
        "def delete_user (userid):\r\n",
        "    print(\"Successfully deleted user: {}\".format(userid))\r\n",
        "    \r\n",
        "def delete_all_users ():\r\n",
        "    print(\"Successfully deleted all users\")"
      ],
      "execution_count": 75,
      "outputs": []
    },
    {
      "cell_type": "code",
      "metadata": {
        "id": "v_TkrftylUEA",
        "colab": {
          "base_uri": "https://localhost:8080/"
        },
        "outputId": "d592a3df-56c7-4116-bf60-6e9ec607d81f"
      },
      "source": [
        "## Declaring Variables and Running the functions with arguments\r\n",
        "userid = 0\r\n",
        "delete_user(0)\r\n",
        "delete_all_users()"
      ],
      "execution_count": 76,
      "outputs": [
        {
          "output_type": "stream",
          "text": [
            "Successfully deleted user: 0\n",
            "Successfully deleted all users\n"
          ],
          "name": "stdout"
        }
      ]
    },
    {
      "cell_type": "code",
      "metadata": {
        "id": "M0ffjw31lT8Y"
      },
      "source": [
        "## Having A function with parameters \r\n",
        "def add(addend1, addend2):\r\n",
        "    return addend1 + addend2\r\n",
        "\r\n",
        "def power_of_base2(exponent):\r\n",
        "    return 2**exponent"
      ],
      "execution_count": 77,
      "outputs": []
    },
    {
      "cell_type": "markdown",
      "metadata": {
        "id": "2_tDT01oFEGQ"
      },
      "source": [
        "### Lambda Functions"
      ]
    },
    {
      "cell_type": "markdown",
      "metadata": {
        "id": "LcxwEGSB1Bce"
      },
      "source": [
        "Lambda function is used to have a function inside a statement and can only have one expression or operation."
      ]
    },
    {
      "cell_type": "code",
      "metadata": {
        "id": "tmmBNW9pFg-4"
      },
      "source": [
        "## Declaring Variables\r\n",
        "x = 4"
      ],
      "execution_count": 78,
      "outputs": []
    },
    {
      "cell_type": "code",
      "metadata": {
        "id": "_9KYzCrIFCpI",
        "colab": {
          "base_uri": "https://localhost:8080/"
        },
        "outputId": "9d2cc22c-4269-4a86-e4a9-3a2a73e75053"
      },
      "source": [
        "## Using Function\r\n",
        "def f(x):\r\n",
        "  return 2*(x*x)-1\r\n",
        "f(x)"
      ],
      "execution_count": 79,
      "outputs": [
        {
          "output_type": "execute_result",
          "data": {
            "text/plain": [
              "31"
            ]
          },
          "metadata": {
            "tags": []
          },
          "execution_count": 79
        }
      ]
    },
    {
      "cell_type": "code",
      "metadata": {
        "id": "a2uwKwqFFafn",
        "colab": {
          "base_uri": "https://localhost:8080/"
        },
        "outputId": "44f7cce4-458e-421c-bb0d-19197bcf3655"
      },
      "source": [
        "## Using Lambda to shorten the code\r\n",
        "g = lambda x: 2*(x*x)-1\r\n",
        "print(g(x))"
      ],
      "execution_count": 80,
      "outputs": [
        {
          "output_type": "stream",
          "text": [
            "31\n"
          ],
          "name": "stdout"
        }
      ]
    },
    {
      "cell_type": "markdown",
      "metadata": {
        "id": "ObDkaUN06g9q"
      },
      "source": [
        "## Activity"
      ]
    },
    {
      "cell_type": "code",
      "metadata": {
        "id": "Rjm9RFrGlMgA"
      },
      "source": [
        "'''\r\n",
        "Create a grade calculator that computes for the semestral grade of a course.\r\n",
        "Students could type their names, the name of the course, then their prelim,\r\n",
        "midterm, and final grade.\r\n",
        "The program should print the semestral grade in 2 decimal points and should\r\n",
        "display the following emojis depending on the situation:\r\n",
        "happy - when grade is greater than 70.00\r\n",
        "laughing - when grade is exactly 70.00\r\n",
        "sad - when grade is below 70.00\r\n",
        "'''\r\n",
        "happy, lol, sad = \"\\U0001F600\",\"\\U0001F923\",\"\\U0001F619\""
      ],
      "execution_count": 81,
      "outputs": []
    },
    {
      "cell_type": "code",
      "metadata": {
        "id": "tDznU8tvhCP0",
        "colab": {
          "base_uri": "https://localhost:8080/"
        },
        "outputId": "1a98ee2b-99c8-4830-b6a2-37e34a6dcebb"
      },
      "source": [
        "def compute_sem_grade():\r\n",
        "    name = input(\"Enter Name: \")\r\n",
        "    subject = input(\"Enter Subject: \") \r\n",
        "    prelim = float(input(\"Enter Prelim Grade: \"))\r\n",
        "    midterms = float(input(\"Enter Midterm Grade: \"))\r\n",
        "    finals = float(input(\"Enter Finals Grade: \"))\r\n",
        "    semestral_grade = 0.3*prelim + 0.3*midterms + 0.4*finals\r\n",
        "    if semestral_grade > 70: emotion = \"\\U0001F600\" \r\n",
        "    elif semestral_grade == 70 : emotion = \"\\U0001F923\"\r\n",
        "    else: emotion = \"\\U0001F61E\"\r\n",
        "    print(\"Hello {}, your semestral grade is: {}{}\".format(name, semestral_grade, emotion))\r\n",
        "\r\n",
        "compute_sem_grade()"
      ],
      "execution_count": 82,
      "outputs": [
        {
          "output_type": "stream",
          "text": [
            "Enter Name: jovian\n",
            "Enter Subject: 66\n",
            "Enter Prelim Grade: 6\n",
            "Enter Midterm Grade: 69\n",
            "Enter Finals Grade: 98\n",
            "Hello jovian, your semestral grade is: 61.7😞\n"
          ],
          "name": "stdout"
        }
      ]
    }
  ]
}