{
  "nbformat": 4,
  "nbformat_minor": 0,
  "metadata": {
    "colab": {
      "name": " 58015_CurveFitting_San.ipynb",
      "provenance": [],
      "authorship_tag": "ABX9TyMa/L5OK4m2TEyXHY5suL5t",
      "include_colab_link": true
    },
    "kernelspec": {
      "name": "python3",
      "display_name": "Python 3"
    },
    "language_info": {
      "name": "python"
    }
  },
  "cells": [
    {
      "cell_type": "markdown",
      "metadata": {
        "id": "view-in-github",
        "colab_type": "text"
      },
      "source": [
        "<a href=\"https://colab.research.google.com/github/jovianparco/Numerical-Methods/blob/main/58015_CurveFitting_San.ipynb\" target=\"_parent\"><img src=\"https://colab.research.google.com/assets/colab-badge.svg\" alt=\"Open In Colab\"/></a>"
      ]
    },
    {
      "cell_type": "markdown",
      "metadata": {
        "id": "cjmtKKlFmWwT"
      },
      "source": [
        "##CURVE FITTING:"
      ]
    },
    {
      "cell_type": "markdown",
      "metadata": {
        "id": "4YOlaIaImaSS"
      },
      "source": [
        "###Importing Libraries\n"
      ]
    },
    {
      "cell_type": "code",
      "metadata": {
        "id": "cp4t0woloR2t"
      },
      "source": [
        "import pandas as pd  \n",
        "import numpy as np  \n",
        "import matplotlib.pyplot as plt  \n",
        "import seaborn as sns \n",
        "from sklearn.model_selection import train_test_split \n",
        "from sklearn import datasets\n",
        "from sklearn import linear_model\n",
        "from sklearn import metrics\n",
        "from sklearn.preprocessing import PolynomialFeatures\n",
        "from sklearn.linear_model import LinearRegression"
      ],
      "execution_count": 26,
      "outputs": []
    },
    {
      "cell_type": "markdown",
      "metadata": {
        "id": "vnwOnFkymaVQ"
      },
      "source": [
        "###Loading Dataset\n"
      ]
    },
    {
      "cell_type": "code",
      "metadata": {
        "id": "JVvDW6h7oPuR"
      },
      "source": [
        "diabetes_df = datasets.load_diabetes()"
      ],
      "execution_count": 27,
      "outputs": []
    },
    {
      "cell_type": "markdown",
      "metadata": {
        "id": "X86l8iYRmaXz"
      },
      "source": [
        "###Describing Dataset\n"
      ]
    },
    {
      "cell_type": "code",
      "metadata": {
        "colab": {
          "base_uri": "https://localhost:8080/",
          "height": 0
        },
        "id": "q2oEPLKzoN3D",
        "outputId": "41415c1c-4632-4411-821f-6d52902666ac"
      },
      "source": [
        "diabetes = pd.DataFrame(diabetes_df.data, columns=diabetes_df.feature_names)\n",
        "diabetes_target = pd.Series(diabetes_df.target)\n",
        "print(diabetes_df.DESCR)"
      ],
      "execution_count": 28,
      "outputs": [
        {
          "output_type": "stream",
          "text": [
            ".. _diabetes_dataset:\n",
            "\n",
            "Diabetes dataset\n",
            "----------------\n",
            "\n",
            "Ten baseline variables, age, sex, body mass index, average blood\n",
            "pressure, and six blood serum measurements were obtained for each of n =\n",
            "442 diabetes patients, as well as the response of interest, a\n",
            "quantitative measure of disease progression one year after baseline.\n",
            "\n",
            "**Data Set Characteristics:**\n",
            "\n",
            "  :Number of Instances: 442\n",
            "\n",
            "  :Number of Attributes: First 10 columns are numeric predictive values\n",
            "\n",
            "  :Target: Column 11 is a quantitative measure of disease progression one year after baseline\n",
            "\n",
            "  :Attribute Information:\n",
            "      - Age\n",
            "      - Sex\n",
            "      - Body mass index\n",
            "      - Average blood pressure\n",
            "      - S1\n",
            "      - S2\n",
            "      - S3\n",
            "      - S4\n",
            "      - S5\n",
            "      - S6\n",
            "\n",
            "Note: Each of these 10 feature variables have been mean centered and scaled by the standard deviation times `n_samples` (i.e. the sum of squares of each column totals 1).\n",
            "\n",
            "Source URL:\n",
            "https://www4.stat.ncsu.edu/~boos/var.select/diabetes.html\n",
            "\n",
            "For more information see:\n",
            "Bradley Efron, Trevor Hastie, Iain Johnstone and Robert Tibshirani (2004) \"Least Angle Regression,\" Annals of Statistics (with discussion), 407-499.\n",
            "(https://web.stanford.edu/~hastie/Papers/LARS/LeastAngle_2002.pdf)\n",
            "-------------------------------------------------------------------------------------------------------------------------------------------------------------\n"
          ],
          "name": "stdout"
        },
        {
          "output_type": "execute_result",
          "data": {
            "text/plain": [
              "Index(['age', 'sex', 'bmi', 'bp', 's1', 's2', 's3', 's4', 's5', 's6'], dtype='object')"
            ]
          },
          "metadata": {
            "tags": []
          },
          "execution_count": 28
        }
      ]
    },
    {
      "cell_type": "markdown",
      "metadata": {
        "id": "r2HZpRNQmaa0"
      },
      "source": [
        "###Data Triming"
      ]
    },
    {
      "cell_type": "code",
      "metadata": {
        "colab": {
          "base_uri": "https://localhost:8080/",
          "height": 281
        },
        "id": "ikUoM5zjoLhS",
        "outputId": "1beb6ed2-e1e9-4238-ae79-9f7f99772707"
      },
      "source": [
        "plt.scatter(x=diabetes[\"s5\"], y=diabetes_target, alpha=0.5)\n",
        "plt.title(\"s5\") \n",
        "plt.show()"
      ],
      "execution_count": 29,
      "outputs": [
        {
          "output_type": "display_data",
          "data": {
            "image/png": "[encoded data removed]",
            "text/plain": [
              "<Figure size 432x288 with 1 Axes>"
            ]
          },
          "metadata": {
            "tags": [],
            "needs_background": "light"
          }
        }
      ]
    },
    {
      "cell_type": "code",
      "metadata": {
        "colab": {
          "base_uri": "https://localhost:8080/",
          "height": 281
        },
        "id": "PJlu0OUVpau9",
        "outputId": "f49de16b-20b0-4335-8b92-f130ea0e6e01"
      },
      "source": [
        "plt.scatter(x=diabetes[\"bmi\"], y=diabetes_target, alpha=0.5)\n",
        "plt.title(\"bmi\") \n",
        "plt.show()"
      ],
      "execution_count": 30,
      "outputs": [
        {
          "output_type": "display_data",
          "data": {
            "image/png": "[encoded data removed]",
            "text/plain": [
              "<Figure size 432x288 with 1 Axes>"
            ]
          },
          "metadata": {
            "tags": [],
            "needs_background": "light"
          }
        }
      ]
    },
    {
      "cell_type": "markdown",
      "metadata": {
        "id": "NWlhEnedmagI"
      },
      "source": [
        "The researchers used the  s5(serum triglycerides level) and BMI as the independent, while the target value is disease progression one year after baseline.\n"
      ]
    },
    {
      "cell_type": "code",
      "metadata": {
        "id": "rWHGOzfloHug"
      },
      "source": [
        "X = pd.DataFrame(np.c_[diabetes['s5'], diabetes[\"bmi\"]], columns=['s5','bmi'])\n",
        "y = diabetes_target\n",
        "X_train, X_test, y_train, y_test = train_test_split(X, y, test_size = 0.2, random_state=1)"
      ],
      "execution_count": 31,
      "outputs": []
    },
    {
      "cell_type": "markdown",
      "metadata": {
        "id": "RppMVjwrmai2"
      },
      "source": [
        "### Multiple Linear Regression"
      ]
    },
    {
      "cell_type": "code",
      "metadata": {
        "colab": {
          "base_uri": "https://localhost:8080/",
          "height": 0
        },
        "id": "ZtRa97xfoE04",
        "outputId": "f6ede4bb-aeb5-4c65-eda9-05ce930af248"
      },
      "source": [
        "model = LinearRegression()\n",
        "model.fit(X_train,y_train)"
      ],
      "execution_count": 32,
      "outputs": [
        {
          "output_type": "execute_result",
          "data": {
            "text/plain": [
              "LinearRegression(copy_X=True, fit_intercept=True, n_jobs=None, normalize=False)"
            ]
          },
          "metadata": {
            "tags": []
          },
          "execution_count": 32
        }
      ]
    },
    {
      "cell_type": "code",
      "metadata": {
        "colab": {
          "base_uri": "https://localhost:8080/",
          "height": 142
        },
        "id": "877_5AMToB19",
        "outputId": "bc0741c4-c24a-4013-f364-98e2aeeaf003"
      },
      "source": [
        "model_summary = pd.DataFrame(X.columns, columns=['Features'])\n",
        "model_summary['Weights Raw'] = model.coef_.reshape(2,1)\n",
        "model_summary = model_summary.append({'Features':'Intercept', 'Weights Raw':float(model.intercept_)}, ignore_index=True)\n",
        "model_summary"
      ],
      "execution_count": 33,
      "outputs": [
        {
          "output_type": "execute_result",
          "data": {
            "text/html": [
              "<div>\n",
              "<style scoped>\n",
              "    .dataframe tbody tr th:only-of-type {\n",
              "        vertical-align: middle;\n",
              "    }\n",
              "\n",
              "    .dataframe tbody tr th {\n",
              "        vertical-align: top;\n",
              "    }\n",
              "\n",
              "    .dataframe thead th {\n",
              "        text-align: right;\n",
              "    }\n",
              "</style>\n",
              "<table border=\"1\" class=\"dataframe\">\n",
              "  <thead>\n",
              "    <tr style=\"text-align: right;\">\n",
              "      <th></th>\n",
              "      <th>Features</th>\n",
              "      <th>Weights Raw</th>\n",
              "    </tr>\n",
              "  </thead>\n",
              "  <tbody>\n",
              "    <tr>\n",
              "      <th>0</th>\n",
              "      <td>s5</td>\n",
              "      <td>604.623611</td>\n",
              "    </tr>\n",
              "    <tr>\n",
              "      <th>1</th>\n",
              "      <td>bmi</td>\n",
              "      <td>696.729783</td>\n",
              "    </tr>\n",
              "    <tr>\n",
              "      <th>2</th>\n",
              "      <td>Intercept</td>\n",
              "      <td>151.728781</td>\n",
              "    </tr>\n",
              "  </tbody>\n",
              "</table>\n",
              "</div>"
            ],
            "text/plain": [
              "    Features  Weights Raw\n",
              "0         s5   604.623611\n",
              "1        bmi   696.729783\n",
              "2  Intercept   151.728781"
            ]
          },
          "metadata": {
            "tags": []
          },
          "execution_count": 33
        }
      ]
    },
    {
      "cell_type": "code",
      "metadata": {
        "id": "f-evXvd8n7jy"
      },
      "source": [
        "preds = model.predict(X_test)\n",
        "out = pd.DataFrame({'Actual': y_test, 'Predicted': preds})"
      ],
      "execution_count": 34,
      "outputs": []
    },
    {
      "cell_type": "code",
      "metadata": {
        "colab": {
          "base_uri": "https://localhost:8080/",
          "height": 310
        },
        "id": "ryPtLwWln7q0",
        "outputId": "3cd1f7fc-5743-4544-db1b-8d28b3331d9f"
      },
      "source": [
        "plt.figure()\n",
        "plt.title('Predictions', fontsize=32)\n",
        "\n",
        "plt.scatter(y_test, preds, s = 256,  alpha=0.4)\n",
        "plt.xlabel('Ground Truth')\n",
        "plt.ylabel('Prediction', fontsize=20)\n",
        "\n",
        "plt.show()"
      ],
      "execution_count": 53,
      "outputs": [
        {
          "output_type": "display_data",
          "data": {
            "image/png": "[encoded data removed]",
            "text/plain": [
              "<Figure size 432x288 with 1 Axes>"
            ]
          },
          "metadata": {
            "tags": [],
            "needs_background": "light"
          }
        }
      ]
    },
    {
      "cell_type": "code",
      "metadata": {
        "colab": {
          "base_uri": "https://localhost:8080/",
          "height": 173
        },
        "id": "0ZLuvmtxn72b",
        "outputId": "778df535-c5bf-46be-fe7d-e8018b2e495f"
      },
      "source": [
        "MSE = metrics.mean_squared_error(y_test, preds)\n",
        "RMSE = np.sqrt(MSE)\n",
        "R2 = metrics.r2_score(y_test, preds)\n",
        "AR2 = 1-(1-R2)*(X_train.shape[0]-1)/(X_train.shape[0]-X_train.shape[1]-1)\n",
        "model_metrics = pd.DataFrame([['MSE'],['RMSE'],['R^2'],['ADJR^2']], \n",
        "                             columns=['Metrics'])\n",
        "model_metrics['Multiple Linear Regression'] = MSE, RMSE, R2, AR2\n",
        "model_metrics"
      ],
      "execution_count": 36,
      "outputs": [
        {
          "output_type": "execute_result",
          "data": {
            "text/html": [
              "<div>\n",
              "<style scoped>\n",
              "    .dataframe tbody tr th:only-of-type {\n",
              "        vertical-align: middle;\n",
              "    }\n",
              "\n",
              "    .dataframe tbody tr th {\n",
              "        vertical-align: top;\n",
              "    }\n",
              "\n",
              "    .dataframe thead th {\n",
              "        text-align: right;\n",
              "    }\n",
              "</style>\n",
              "<table border=\"1\" class=\"dataframe\">\n",
              "  <thead>\n",
              "    <tr style=\"text-align: right;\">\n",
              "      <th></th>\n",
              "      <th>Metrics</th>\n",
              "      <th>Multiple Linear Regression</th>\n",
              "    </tr>\n",
              "  </thead>\n",
              "  <tbody>\n",
              "    <tr>\n",
              "      <th>0</th>\n",
              "      <td>MSE</td>\n",
              "      <td>3254.088753</td>\n",
              "    </tr>\n",
              "    <tr>\n",
              "      <th>1</th>\n",
              "      <td>RMSE</td>\n",
              "      <td>57.044621</td>\n",
              "    </tr>\n",
              "    <tr>\n",
              "      <th>2</th>\n",
              "      <td>R^2</td>\n",
              "      <td>0.389359</td>\n",
              "    </tr>\n",
              "    <tr>\n",
              "      <th>3</th>\n",
              "      <td>ADJR^2</td>\n",
              "      <td>0.385869</td>\n",
              "    </tr>\n",
              "  </tbody>\n",
              "</table>\n",
              "</div>"
            ],
            "text/plain": [
              "  Metrics  Multiple Linear Regression\n",
              "0     MSE                 3254.088753\n",
              "1    RMSE                   57.044621\n",
              "2     R^2                    0.389359\n",
              "3  ADJR^2                    0.385869"
            ]
          },
          "metadata": {
            "tags": []
          },
          "execution_count": 36
        }
      ]
    },
    {
      "cell_type": "markdown",
      "metadata": {
        "id": "JzxQvUgqmalt"
      },
      "source": [
        "### Normal Equation"
      ]
    },
    {
      "cell_type": "code",
      "metadata": {
        "id": "mZbDlMtbnzjM"
      },
      "source": [
        "X_trn = np.c_[np.ones((len(X_train),1)),X_train]\n",
        "pseudoinv = np.linalg.inv(X_trn.T @ X_trn)\n",
        "theta = pseudoinv @ X_trn.T @ y_train\n",
        "X_new_trn = np.c_[np.ones((len(X_test),1)),X_test]\n",
        "pred = X_new_trn @ theta"
      ],
      "execution_count": 37,
      "outputs": []
    },
    {
      "cell_type": "code",
      "metadata": {
        "colab": {
          "base_uri": "https://localhost:8080/",
          "height": 173
        },
        "id": "uZP7eFFKnzpx",
        "outputId": "d2d547b8-ec13-4e68-97db-d18028c65b82"
      },
      "source": [
        "MSE = metrics.mean_squared_error(y_test, pred)\n",
        "RMSE = np.sqrt(MSE)\n",
        "R2 = metrics.r2_score(y_test, pred)\n",
        "AR2 = 1-(1-R2)*(X_trn.shape[0]-1)/(X_trn.shape[0]-X_trn.shape[1]-1)\n",
        "model_metrics = pd.DataFrame([['MSE'],['RMSE'],['R^2'],['ADJR^2']], \n",
        "                             columns=['Metrics'])\n",
        "model_metrics['Multiple Linear Regression'] = MSE, RMSE, R2, AR2\n",
        "model_metrics"
      ],
      "execution_count": 38,
      "outputs": [
        {
          "output_type": "execute_result",
          "data": {
            "text/html": [
              "<div>\n",
              "<style scoped>\n",
              "    .dataframe tbody tr th:only-of-type {\n",
              "        vertical-align: middle;\n",
              "    }\n",
              "\n",
              "    .dataframe tbody tr th {\n",
              "        vertical-align: top;\n",
              "    }\n",
              "\n",
              "    .dataframe thead th {\n",
              "        text-align: right;\n",
              "    }\n",
              "</style>\n",
              "<table border=\"1\" class=\"dataframe\">\n",
              "  <thead>\n",
              "    <tr style=\"text-align: right;\">\n",
              "      <th></th>\n",
              "      <th>Metrics</th>\n",
              "      <th>Multiple Linear Regression</th>\n",
              "    </tr>\n",
              "  </thead>\n",
              "  <tbody>\n",
              "    <tr>\n",
              "      <th>0</th>\n",
              "      <td>MSE</td>\n",
              "      <td>3254.088753</td>\n",
              "    </tr>\n",
              "    <tr>\n",
              "      <th>1</th>\n",
              "      <td>RMSE</td>\n",
              "      <td>57.044621</td>\n",
              "    </tr>\n",
              "    <tr>\n",
              "      <th>2</th>\n",
              "      <td>R^2</td>\n",
              "      <td>0.389359</td>\n",
              "    </tr>\n",
              "    <tr>\n",
              "      <th>3</th>\n",
              "      <td>ADJR^2</td>\n",
              "      <td>0.384110</td>\n",
              "    </tr>\n",
              "  </tbody>\n",
              "</table>\n",
              "</div>"
            ],
            "text/plain": [
              "  Metrics  Multiple Linear Regression\n",
              "0     MSE                 3254.088753\n",
              "1    RMSE                   57.044621\n",
              "2     R^2                    0.389359\n",
              "3  ADJR^2                    0.384110"
            ]
          },
          "metadata": {
            "tags": []
          },
          "execution_count": 38
        }
      ]
    },
    {
      "cell_type": "code",
      "metadata": {
        "colab": {
          "base_uri": "https://localhost:8080/",
          "height": 310
        },
        "id": "CGoTU_d6nzwz",
        "outputId": "1a343934-e0f2-41f3-c9b0-3a67c3cefc54"
      },
      "source": [
        "plt.figure()\n",
        "plt.title('Predictions', fontsize=32)\n",
        "\n",
        "plt.scatter(y_test, pred, s = 256,  alpha=0.4)\n",
        "plt.xlabel('Ground Truth')\n",
        "plt.ylabel('Prediction', fontsize=20)\n",
        "\n",
        "plt.show()"
      ],
      "execution_count": 52,
      "outputs": [
        {
          "output_type": "display_data",
          "data": {
            "image/png": "[encoded data removed]",
            "text/plain": [
              "<Figure size 432x288 with 1 Axes>"
            ]
          },
          "metadata": {
            "tags": [],
            "needs_background": "light"
          }
        }
      ]
    },
    {
      "cell_type": "markdown",
      "metadata": {
        "id": "PCTWTbJjmaoT"
      },
      "source": [
        "###Polynomial Regression (Perfect fit)"
      ]
    },
    {
      "cell_type": "markdown",
      "metadata": {
        "id": "IYHtghfbmznf"
      },
      "source": [
        "The researcher determines the perfect fit in Polynomial Regression by testing the degree of complexity, which is the 3-degree polynomial, because the variance is close to the predicted values and the graph shown below."
      ]
    },
    {
      "cell_type": "code",
      "metadata": {
        "id": "a8XsdavGnnVG"
      },
      "source": [
        "quad_features= PolynomialFeatures(degree=3)  # DEGREE = 2 AND 3 \n",
        "x_quad = quad_features.fit_transform(X_train)"
      ],
      "execution_count": 40,
      "outputs": []
    },
    {
      "cell_type": "code",
      "metadata": {
        "colab": {
          "base_uri": "https://localhost:8080/",
          "height": 0
        },
        "id": "cqlVUrs5nnc8",
        "outputId": "99ba6b3e-9313-466c-81a1-80349d44756f"
      },
      "source": [
        "model = LinearRegression()\n",
        "model.fit(x_quad, y_train)"
      ],
      "execution_count": 41,
      "outputs": [
        {
          "output_type": "execute_result",
          "data": {
            "text/plain": [
              "LinearRegression(copy_X=True, fit_intercept=True, n_jobs=None, normalize=False)"
            ]
          },
          "metadata": {
            "tags": []
          },
          "execution_count": 41
        }
      ]
    },
    {
      "cell_type": "code",
      "metadata": {
        "id": "rtKnjMAFnnhv"
      },
      "source": [
        "preds = model.predict(quad_features.fit_transform(X_test))"
      ],
      "execution_count": 42,
      "outputs": []
    },
    {
      "cell_type": "code",
      "metadata": {
        "colab": {
          "base_uri": "https://localhost:8080/",
          "height": 452
        },
        "id": "TXSkob_qnnsR",
        "outputId": "398a6ebc-7059-4df8-ef7d-9f2d3d64c5ea"
      },
      "source": [
        "poly_MSE = metrics.mean_squared_error(y_test, preds)\n",
        "poly_RMSE = np.sqrt(poly_MSE)\n",
        "poly_R2 = metrics.r2_score(y_test, preds)\n",
        "poly_AR2 = 1-(1-poly_R2)*(X_train.shape[0]-1)/(X_train.shape[0]-X_train.shape[1]-1)\n",
        "model_metrics = pd.DataFrame([['MSE'],['RMSE'],['R^2'],['ADJR^2']], \n",
        "                             columns=['Metrics'])\n",
        "model_metrics['Polynomial Regression (Quad)'] = poly_MSE, poly_RMSE, poly_R2, poly_AR2\n",
        "plt.figure()\n",
        "plt.title('Perfectfitting', fontsize=32)\n",
        "plt.scatter(y_test, preds,alpha=0.7)\n",
        "plt.show()\n",
        "model_metrics"
      ],
      "execution_count": 43,
      "outputs": [
        {
          "output_type": "display_data",
          "data": {
            "image/png": "[encoded data removed]",
            "text/plain": [
              "<Figure size 432x288 with 1 Axes>"
            ]
          },
          "metadata": {
            "tags": [],
            "needs_background": "light"
          }
        },
        {
          "output_type": "execute_result",
          "data": {
            "text/html": [
              "<div>\n",
              "<style scoped>\n",
              "    .dataframe tbody tr th:only-of-type {\n",
              "        vertical-align: middle;\n",
              "    }\n",
              "\n",
              "    .dataframe tbody tr th {\n",
              "        vertical-align: top;\n",
              "    }\n",
              "\n",
              "    .dataframe thead th {\n",
              "        text-align: right;\n",
              "    }\n",
              "</style>\n",
              "<table border=\"1\" class=\"dataframe\">\n",
              "  <thead>\n",
              "    <tr style=\"text-align: right;\">\n",
              "      <th></th>\n",
              "      <th>Metrics</th>\n",
              "      <th>Polynomial Regression (Quad)</th>\n",
              "    </tr>\n",
              "  </thead>\n",
              "  <tbody>\n",
              "    <tr>\n",
              "      <th>0</th>\n",
              "      <td>MSE</td>\n",
              "      <td>3215.063572</td>\n",
              "    </tr>\n",
              "    <tr>\n",
              "      <th>1</th>\n",
              "      <td>RMSE</td>\n",
              "      <td>56.701531</td>\n",
              "    </tr>\n",
              "    <tr>\n",
              "      <th>2</th>\n",
              "      <td>R^2</td>\n",
              "      <td>0.396682</td>\n",
              "    </tr>\n",
              "    <tr>\n",
              "      <th>3</th>\n",
              "      <td>ADJR^2</td>\n",
              "      <td>0.393234</td>\n",
              "    </tr>\n",
              "  </tbody>\n",
              "</table>\n",
              "</div>"
            ],
            "text/plain": [
              "  Metrics  Polynomial Regression (Quad)\n",
              "0     MSE                   3215.063572\n",
              "1    RMSE                     56.701531\n",
              "2     R^2                      0.396682\n",
              "3  ADJR^2                      0.393234"
            ]
          },
          "metadata": {
            "tags": []
          },
          "execution_count": 43
        }
      ]
    },
    {
      "cell_type": "markdown",
      "metadata": {
        "id": "G93mFF4Ym6cb"
      },
      "source": [
        "####Polynomial Regression (Under fit)"
      ]
    },
    {
      "cell_type": "markdown",
      "metadata": {
        "id": "Yzpz71RlnBDX"
      },
      "source": [
        "The researcher determines the underfiyting in Polynomial Regression by testing the degree of complexity, which is the >=1 degree polynomial because variance to the predicted values is getting further, unlike degree 2 or 3, the causes of underfitting is oversimplifying the problem, which in this case is the polynomial degree."
      ]
    },
    {
      "cell_type": "code",
      "metadata": {
        "id": "lfL5FFkEm-Fo"
      },
      "source": [
        "quad_features= PolynomialFeatures(degree=1)  # DEGREE =>1\n",
        "x_quad = quad_features.fit_transform(X_train)"
      ],
      "execution_count": 44,
      "outputs": []
    },
    {
      "cell_type": "code",
      "metadata": {
        "colab": {
          "base_uri": "https://localhost:8080/",
          "height": 0
        },
        "id": "zVHGQ2wFnZrT",
        "outputId": "fa4985c9-8fcd-4e47-d593-b456a9bede2b"
      },
      "source": [
        "model = LinearRegression()\n",
        "model.fit(x_quad, y_train)"
      ],
      "execution_count": 45,
      "outputs": [
        {
          "output_type": "execute_result",
          "data": {
            "text/plain": [
              "LinearRegression(copy_X=True, fit_intercept=True, n_jobs=None, normalize=False)"
            ]
          },
          "metadata": {
            "tags": []
          },
          "execution_count": 45
        }
      ]
    },
    {
      "cell_type": "code",
      "metadata": {
        "id": "VdhQpbySnZxj"
      },
      "source": [
        "preds = model.predict(quad_features.fit_transform(X_test))"
      ],
      "execution_count": 46,
      "outputs": []
    },
    {
      "cell_type": "code",
      "metadata": {
        "colab": {
          "base_uri": "https://localhost:8080/",
          "height": 452
        },
        "id": "j6_IektAnZ_6",
        "outputId": "8799d78b-11e4-43a0-f7b6-94415af6fa02"
      },
      "source": [
        "poly_MSE = metrics.mean_squared_error(y_test, preds)\n",
        "poly_RMSE = np.sqrt(poly_MSE)\n",
        "poly_R2 = metrics.r2_score(y_test, preds)\n",
        "poly_AR2 = 1-(1-poly_R2)*(X_train.shape[0]-1)/(X_train.shape[0]-X_train.shape[1]-1)\n",
        "model_metrics = pd.DataFrame([['MSE'],['RMSE'],['R^2'],['ADJR^2']], \n",
        "                             columns=['Metrics'])\n",
        "model_metrics['Polynomial Regression (Quad)'] = poly_MSE, poly_RMSE, poly_R2, poly_AR2\n",
        "plt.figure()\n",
        "plt.title('Underfitting', fontsize=32)\n",
        "plt.scatter(y_test, preds,alpha=0.7)\n",
        "plt.show()\n",
        "model_metrics"
      ],
      "execution_count": 47,
      "outputs": [
        {
          "output_type": "display_data",
          "data": {
            "image/png": "[encoded data removed]",
            "text/plain": [
              "<Figure size 432x288 with 1 Axes>"
            ]
          },
          "metadata": {
            "tags": [],
            "needs_background": "light"
          }
        },
        {
          "output_type": "execute_result",
          "data": {
            "text/html": [
              "<div>\n",
              "<style scoped>\n",
              "    .dataframe tbody tr th:only-of-type {\n",
              "        vertical-align: middle;\n",
              "    }\n",
              "\n",
              "    .dataframe tbody tr th {\n",
              "        vertical-align: top;\n",
              "    }\n",
              "\n",
              "    .dataframe thead th {\n",
              "        text-align: right;\n",
              "    }\n",
              "</style>\n",
              "<table border=\"1\" class=\"dataframe\">\n",
              "  <thead>\n",
              "    <tr style=\"text-align: right;\">\n",
              "      <th></th>\n",
              "      <th>Metrics</th>\n",
              "      <th>Polynomial Regression (Quad)</th>\n",
              "    </tr>\n",
              "  </thead>\n",
              "  <tbody>\n",
              "    <tr>\n",
              "      <th>0</th>\n",
              "      <td>MSE</td>\n",
              "      <td>3254.088753</td>\n",
              "    </tr>\n",
              "    <tr>\n",
              "      <th>1</th>\n",
              "      <td>RMSE</td>\n",
              "      <td>57.044621</td>\n",
              "    </tr>\n",
              "    <tr>\n",
              "      <th>2</th>\n",
              "      <td>R^2</td>\n",
              "      <td>0.389359</td>\n",
              "    </tr>\n",
              "    <tr>\n",
              "      <th>3</th>\n",
              "      <td>ADJR^2</td>\n",
              "      <td>0.385869</td>\n",
              "    </tr>\n",
              "  </tbody>\n",
              "</table>\n",
              "</div>"
            ],
            "text/plain": [
              "  Metrics  Polynomial Regression (Quad)\n",
              "0     MSE                   3254.088753\n",
              "1    RMSE                     57.044621\n",
              "2     R^2                      0.389359\n",
              "3  ADJR^2                      0.385869"
            ]
          },
          "metadata": {
            "tags": []
          },
          "execution_count": 47
        }
      ]
    },
    {
      "cell_type": "markdown",
      "metadata": {
        "id": "Iirmjx1ZnFdp"
      },
      "source": [
        "####Polynomial Regression (Over fit)"
      ]
    },
    {
      "cell_type": "markdown",
      "metadata": {
        "id": "spsM5ppdnXxT"
      },
      "source": [
        "The researcher determines the overfitting in Polynomial Regression by testing the degree of complexity, which is the <= 4-degree polynomial because variance to the predicted values is getting further, unlike degree 2 or 3, the causes of overfitting is overcomplicating the problem, which in this case is the polynomial degree, because of that minor errors or difference in the data is counted causing significant changes in the predictions."
      ]
    },
    {
      "cell_type": "code",
      "metadata": {
        "id": "3zSk_tuinPyY"
      },
      "source": [
        "quad_features= PolynomialFeatures(degree=6)  # DEGREE 4=<\n",
        "x_quad = quad_features.fit_transform(X_train)"
      ],
      "execution_count": 48,
      "outputs": []
    },
    {
      "cell_type": "code",
      "metadata": {
        "colab": {
          "base_uri": "https://localhost:8080/",
          "height": 0
        },
        "id": "oMI39r7OnRgN",
        "outputId": "8d9b9fde-8fb7-4814-8364-0c26a4c4b3e6"
      },
      "source": [
        "model = LinearRegression()\n",
        "model.fit(x_quad, y_train)"
      ],
      "execution_count": 49,
      "outputs": [
        {
          "output_type": "execute_result",
          "data": {
            "text/plain": [
              "LinearRegression(copy_X=True, fit_intercept=True, n_jobs=None, normalize=False)"
            ]
          },
          "metadata": {
            "tags": []
          },
          "execution_count": 49
        }
      ]
    },
    {
      "cell_type": "code",
      "metadata": {
        "id": "B1KXAEgdnRn9"
      },
      "source": [
        "preds = model.predict(quad_features.fit_transform(X_test))"
      ],
      "execution_count": 50,
      "outputs": []
    },
    {
      "cell_type": "code",
      "metadata": {
        "colab": {
          "base_uri": "https://localhost:8080/",
          "height": 452
        },
        "id": "RR_9EI8AnF6A",
        "outputId": "b352db8a-29f9-41aa-d3de-55de15cdff83"
      },
      "source": [
        "poly_MSE = metrics.mean_squared_error(y_test, preds)\n",
        "poly_RMSE = np.sqrt(poly_MSE)\n",
        "poly_R2 = metrics.r2_score(y_test, preds)\n",
        "poly_AR2 = 1-(1-poly_R2)*(X_train.shape[0]-1)/(X_train.shape[0]-X_train.shape[1]-1)\n",
        "model_metrics = pd.DataFrame([['MSE'],['RMSE'],['R^2'],['ADJR^2']], \n",
        "                             columns=['Metrics'])\n",
        "model_metrics['Polynomial Regression (Quad)'] = poly_MSE, poly_RMSE, poly_R2, poly_AR2\n",
        "plt.figure()\n",
        "plt.title('Overfitting', fontsize=32)\n",
        "plt.scatter(y_test, preds,alpha=0.7)\n",
        "plt.show()\n",
        "model_metrics "
      ],
      "execution_count": 51,
      "outputs": [
        {
          "output_type": "display_data",
          "data": {
            "image/png": "[encoded data removed]",
            "text/plain": [
              "<Figure size 432x288 with 1 Axes>"
            ]
          },
          "metadata": {
            "tags": [],
            "needs_background": "light"
          }
        },
        {
          "output_type": "execute_result",
          "data": {
            "text/html": [
              "<div>\n",
              "<style scoped>\n",
              "    .dataframe tbody tr th:only-of-type {\n",
              "        vertical-align: middle;\n",
              "    }\n",
              "\n",
              "    .dataframe tbody tr th {\n",
              "        vertical-align: top;\n",
              "    }\n",
              "\n",
              "    .dataframe thead th {\n",
              "        text-align: right;\n",
              "    }\n",
              "</style>\n",
              "<table border=\"1\" class=\"dataframe\">\n",
              "  <thead>\n",
              "    <tr style=\"text-align: right;\">\n",
              "      <th></th>\n",
              "      <th>Metrics</th>\n",
              "      <th>Polynomial Regression (Quad)</th>\n",
              "    </tr>\n",
              "  </thead>\n",
              "  <tbody>\n",
              "    <tr>\n",
              "      <th>0</th>\n",
              "      <td>MSE</td>\n",
              "      <td>8188.260852</td>\n",
              "    </tr>\n",
              "    <tr>\n",
              "      <th>1</th>\n",
              "      <td>RMSE</td>\n",
              "      <td>90.489010</td>\n",
              "    </tr>\n",
              "    <tr>\n",
              "      <th>2</th>\n",
              "      <td>R^2</td>\n",
              "      <td>-0.536556</td>\n",
              "    </tr>\n",
              "    <tr>\n",
              "      <th>3</th>\n",
              "      <td>ADJR^2</td>\n",
              "      <td>-0.545336</td>\n",
              "    </tr>\n",
              "  </tbody>\n",
              "</table>\n",
              "</div>"
            ],
            "text/plain": [
              "  Metrics  Polynomial Regression (Quad)\n",
              "0     MSE                   8188.260852\n",
              "1    RMSE                     90.489010\n",
              "2     R^2                     -0.536556\n",
              "3  ADJR^2                     -0.545336"
            ]
          },
          "metadata": {
            "tags": []
          },
          "execution_count": 51
        }
      ]
    },
    {
      "cell_type": "markdown",
      "metadata": {
        "id": "Z2RxvHssnIWE"
      },
      "source": [
        "###REFERENCE:"
      ]
    },
    {
      "cell_type": "markdown",
      "metadata": {
        "id": "u0quYYmEnKbX"
      },
      "source": [
        "<br>[1] Simplilearn, “Overfitting and UNDERFITTING machine Learning | machine learning tutorial for Beginners |Simplilearn,” 11-Sep-2020. [Online]. Available: https://www.youtube.com/watch?v=W-0-u6XVbE4. [Accessed: 01-May-2021]\n",
        "<Br>[2] D. Lopez, “Linear Regression,” in Numerical Methods, 2021. \n",
        "<Br>[3] Scikit-Learn, “scikit-learn/scikit-learn,” GitHub. [Online]. Available: https://github.com/scikit-learn/scikit-learn/blob/main/sklearn/datasets/descr/diabetes.rst. [Accessed: 01-May-2021]. \n",
        "<Br>[4] Scikit-Learn, “Normal Equation code in python | AI Basics |,” 27-Aug-2020. [Online]. Available: https://www.youtube.com/watch?v=bVNe5cl5K54. [Accessed: 03-May-2021]. "
      ]
    }
  ]
}