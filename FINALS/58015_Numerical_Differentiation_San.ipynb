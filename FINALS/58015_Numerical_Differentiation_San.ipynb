{
  "nbformat": 4,
  "nbformat_minor": 0,
  "metadata": {
    "colab": {
      "name": "58015_Numerical Differentiation_San.ipynb",
      "provenance": [],
      "collapsed_sections": [],
      "include_colab_link": true
    },
    "kernelspec": {
      "name": "python3",
      "display_name": "Python 3"
    },
    "language_info": {
      "name": "python"
    }
  },
  "cells": [
    {
      "cell_type": "markdown",
      "metadata": {
        "id": "view-in-github",
        "colab_type": "text"
      },
      "source": [
        "<a href=\"https://colab.research.google.com/github/jovianparco/Numerical-Methods/blob/main/58015_Numerical_Differentiation_San.ipynb\" target=\"_parent\"><img src=\"https://colab.research.google.com/assets/colab-badge.svg\" alt=\"Open In Colab\"/></a>"
      ]
    },
    {
      "cell_type": "markdown",
      "metadata": {
        "id": "Hn5BqbZJlllg"
      },
      "source": [
        "### Numerical Differentiation\n",
        "© Bedana M., Enerio MM., Gonzales KC., Parco JA."
      ]
    },
    {
      "cell_type": "markdown",
      "metadata": {
        "id": "vmXXcyx5mywI"
      },
      "source": [
        "### Part 1"
      ]
    },
    {
      "cell_type": "code",
      "metadata": {
        "id": "TZZKDkImZb6j"
      },
      "source": [
        "import numpy as np\n",
        "from scipy.special import binom\n",
        "import matplotlib.pyplot as plt\n",
        "import pandas as pd\n",
        "import math"
      ],
      "execution_count": 1,
      "outputs": []
    },
    {
      "cell_type": "code",
      "metadata": {
        "id": "3phcjm8-ZiGI"
      },
      "source": [
        "def diff_fwd(f,x,dx,degree=1):\n",
        "  f_ans = f(x+((np.arange(degree,-1,-1))*dx))\n",
        "  bin =  np.asarray([binom(degree,k) for k in range(degree+1)])\n",
        "  bin[1::2] *= -1 \n",
        "  diff = (bin @ f_ans) / dx**degree \n",
        "  return diff"
      ],
      "execution_count": 2,
      "outputs": []
    },
    {
      "cell_type": "code",
      "metadata": {
        "id": "48Jy8Ia0eoCh"
      },
      "source": [
        "def diff_bwd(f,x,dx,degree=1):\n",
        "  f_ans = f(x+(np.arange(0,-(degree+1),-1))*dx)\n",
        "  bin =  np.asarray([binom(degree,k) for k in range(degree+1)])\n",
        "  bin[1::2] *= -1\n",
        "  diff = (bin @ f_ans) / dx**degree\n",
        "  return diff"
      ],
      "execution_count": 3,
      "outputs": []
    },
    {
      "cell_type": "code",
      "metadata": {
        "id": "to7SVbLNZXvm"
      },
      "source": [
        "def diff_cen(f,x,dx,degree=1):\n",
        "  interval = (np.arange(np.ceil(degree/2),-(degree/2+1),-1))\n",
        "  interval = interval if degree % 2 == 0 else np.delete(interval, int((degree/2)+0.5))\n",
        "  f_ans = f(x+(interval)*dx)\n",
        "  bin = np.asarray([binom(degree,k) for k in range(degree+1)]) if degree != 3 else np.asarray([1,2,2,1])\n",
        "  bin[1::2] *= -1\n",
        "  diff = (f_ans @ bin) / dx**degree if degree % 2 == 0 else (f_ans @ bin) / (2*dx**degree)\n",
        "  return diff"
      ],
      "execution_count": 4,
      "outputs": []
    },
    {
      "cell_type": "markdown",
      "metadata": {
        "id": "U0BIbkbUmOZd"
      },
      "source": [
        "####Y1"
      ]
    },
    {
      "cell_type": "code",
      "metadata": {
        "id": "uIoubZvZeupu"
      },
      "source": [
        "y1 = lambda x : ((4*x**2 + 2*x + 1)/(x+2*np.exp(x)))**x\n",
        "x = 0.1\n",
        "dx = 0.05\n",
        "degree = 3"
      ],
      "execution_count": 5,
      "outputs": []
    },
    {
      "cell_type": "code",
      "metadata": {
        "id": "AGhWCh8s4vVW"
      },
      "source": [
        "y1_diff_fwd, y1_diff_bwd, y1_diff_cen = [], [], []\n",
        "for n in range(0,degree+1):\n",
        "  y1_diff_fwd.append(diff_fwd(y1,x,dx,n))\n",
        "  y1_diff_bwd.append(diff_bwd(y1,x,dx,n))\n",
        "  y1_diff_cen.append(diff_cen(y1,x,dx,n))"
      ],
      "execution_count": 6,
      "outputs": []
    },
    {
      "cell_type": "code",
      "metadata": {
        "colab": {
          "base_uri": "https://localhost:8080/",
          "height": 173
        },
        "id": "DlJ8pgfSl_iP",
        "outputId": "02f0a939-3b90-40be-d5ed-888d7a8bbbca"
      },
      "source": [
        "y1_dict = {'Forward finite': y1_diff_fwd, 'Backward finite': y1_diff_bwd, 'Central finite': y1_diff_cen} \n",
        "df_y1 = pd.DataFrame(y1_dict)\n",
        "df_y1"
      ],
      "execution_count": 7,
      "outputs": [
        {
          "output_type": "execute_result",
          "data": {
            "text/html": [
              "<div>\n",
              "<style scoped>\n",
              "    .dataframe tbody tr th:only-of-type {\n",
              "        vertical-align: middle;\n",
              "    }\n",
              "\n",
              "    .dataframe tbody tr th {\n",
              "        vertical-align: top;\n",
              "    }\n",
              "\n",
              "    .dataframe thead th {\n",
              "        text-align: right;\n",
              "    }\n",
              "</style>\n",
              "<table border=\"1\" class=\"dataframe\">\n",
              "  <thead>\n",
              "    <tr style=\"text-align: right;\">\n",
              "      <th></th>\n",
              "      <th>Forward finite</th>\n",
              "      <th>Backward finite</th>\n",
              "      <th>Central finite</th>\n",
              "    </tr>\n",
              "  </thead>\n",
              "  <tbody>\n",
              "    <tr>\n",
              "      <th>0</th>\n",
              "      <td>0.939668</td>\n",
              "      <td>0.939668</td>\n",
              "      <td>0.939668</td>\n",
              "    </tr>\n",
              "    <tr>\n",
              "      <th>1</th>\n",
              "      <td>-0.449916</td>\n",
              "      <td>-0.555191</td>\n",
              "      <td>-0.502554</td>\n",
              "    </tr>\n",
              "    <tr>\n",
              "      <th>2</th>\n",
              "      <td>2.103952</td>\n",
              "      <td>1.925049</td>\n",
              "      <td>2.105512</td>\n",
              "    </tr>\n",
              "    <tr>\n",
              "      <th>3</th>\n",
              "      <td>-1.984401</td>\n",
              "      <td>9.635605</td>\n",
              "      <td>1.789030</td>\n",
              "    </tr>\n",
              "  </tbody>\n",
              "</table>\n",
              "</div>"
            ],
            "text/plain": [
              "   Forward finite  Backward finite  Central finite\n",
              "0        0.939668         0.939668        0.939668\n",
              "1       -0.449916        -0.555191       -0.502554\n",
              "2        2.103952         1.925049        2.105512\n",
              "3       -1.984401         9.635605        1.789030"
            ]
          },
          "metadata": {
            "tags": []
          },
          "execution_count": 7
        }
      ]
    },
    {
      "cell_type": "markdown",
      "metadata": {
        "id": "KIoY7kl3mR4s"
      },
      "source": [
        "#### Y2"
      ]
    },
    {
      "cell_type": "code",
      "metadata": {
        "id": "KfGeAVEJUNIE"
      },
      "source": [
        "y2 = lambda x : (np.cos(2*x)) + ((x**2)/(20)) + (np.exp(-2*x))\n",
        "x = 0.1\n",
        "dx = 0.05\n",
        "degree = 3"
      ],
      "execution_count": 8,
      "outputs": []
    },
    {
      "cell_type": "code",
      "metadata": {
        "id": "LrvpVvdMUN4G"
      },
      "source": [
        "y2_diff_fwd, y2_diff_bwd, y2_diff_cen = [], [], []\n",
        "for n in range(0,degree+1):\n",
        "  y2_diff_fwd.append(diff_fwd(y2,x,dx,n))\n",
        "  y2_diff_bwd.append(diff_bwd(y2,x,dx,n))\n",
        "  y2_diff_cen.append(diff_cen(y2,x,dx,n))"
      ],
      "execution_count": 9,
      "outputs": []
    },
    {
      "cell_type": "code",
      "metadata": {
        "colab": {
          "base_uri": "https://localhost:8080/",
          "height": 173
        },
        "id": "BALZhOcCaxLc",
        "outputId": "d6b5c45a-429e-4f6d-db2c-3a097becc77c"
      },
      "source": [
        "y2_dict = {'Forward finite': y2_diff_fwd, 'Backward finite': y2_diff_bwd, 'Central finite': y2_diff_cen} \n",
        "df_y2 = pd.DataFrame(y2_dict)\n",
        "df_y2"
      ],
      "execution_count": 10,
      "outputs": [
        {
          "output_type": "execute_result",
          "data": {
            "text/html": [
              "<div>\n",
              "<style scoped>\n",
              "    .dataframe tbody tr th:only-of-type {\n",
              "        vertical-align: middle;\n",
              "    }\n",
              "\n",
              "    .dataframe tbody tr th {\n",
              "        vertical-align: top;\n",
              "    }\n",
              "\n",
              "    .dataframe thead th {\n",
              "        text-align: right;\n",
              "    }\n",
              "</style>\n",
              "<table border=\"1\" class=\"dataframe\">\n",
              "  <thead>\n",
              "    <tr style=\"text-align: right;\">\n",
              "      <th></th>\n",
              "      <th>Forward finite</th>\n",
              "      <th>Backward finite</th>\n",
              "      <th>Central finite</th>\n",
              "    </tr>\n",
              "  </thead>\n",
              "  <tbody>\n",
              "    <tr>\n",
              "      <th>0</th>\n",
              "      <td>1.799297</td>\n",
              "      <td>1.799297</td>\n",
              "      <td>1.799297</td>\n",
              "    </tr>\n",
              "    <tr>\n",
              "      <th>1</th>\n",
              "      <td>-2.040352</td>\n",
              "      <td>-2.013385</td>\n",
              "      <td>-2.026869</td>\n",
              "    </tr>\n",
              "    <tr>\n",
              "      <th>2</th>\n",
              "      <td>-0.752419</td>\n",
              "      <td>-0.254334</td>\n",
              "      <td>-0.539347</td>\n",
              "    </tr>\n",
              "    <tr>\n",
              "      <th>3</th>\n",
              "      <td>-2.904800</td>\n",
              "      <td>-7.220019</td>\n",
              "      <td>-4.980852</td>\n",
              "    </tr>\n",
              "  </tbody>\n",
              "</table>\n",
              "</div>"
            ],
            "text/plain": [
              "   Forward finite  Backward finite  Central finite\n",
              "0        1.799297         1.799297        1.799297\n",
              "1       -2.040352        -2.013385       -2.026869\n",
              "2       -0.752419        -0.254334       -0.539347\n",
              "3       -2.904800        -7.220019       -4.980852"
            ]
          },
          "metadata": {
            "tags": []
          },
          "execution_count": 10
        }
      ]
    },
    {
      "cell_type": "markdown",
      "metadata": {
        "id": "Br78mDhQmYVO"
      },
      "source": [
        "#### Approximation Error"
      ]
    },
    {
      "cell_type": "code",
      "metadata": {
        "id": "OrGdsYoS_3q7"
      },
      "source": [
        "from scipy.misc import derivative  #Using Scipy derivative to get exact derivative for calculating the approximation error accurately "
      ],
      "execution_count": 11,
      "outputs": []
    },
    {
      "cell_type": "code",
      "metadata": {
        "id": "fslQszCoVjB_"
      },
      "source": [
        "y1_fwd_error, y1_bwd_error, y1_cen_error = [], [], []\n",
        "for n in range(0,degree+1):\n",
        "  y1_fwd_error.append(abs(derivative(y1,x,dx,n=n,order=5)-diff_fwd(y1,x,dx,n)))\n",
        "  y1_bwd_error.append(abs(derivative(y1,x,dx,n=n,order=5)-diff_bwd(y1,x,dx,n)))\n",
        "  y1_cen_error.append(abs(derivative(y1,x,dx,n=n,order=5)-diff_cen(y1,x,dx,n)))"
      ],
      "execution_count": 12,
      "outputs": []
    },
    {
      "cell_type": "code",
      "metadata": {
        "colab": {
          "base_uri": "https://localhost:8080/",
          "height": 173
        },
        "id": "tWcTlOOjwPRu",
        "outputId": "bd84ce99-f41d-4eef-a601-13a3190e4253"
      },
      "source": [
        "y1_error_dict = {'FWD Error': y1_fwd_error, 'BWD Error': y1_bwd_error, 'CEN Error': y1_cen_error} \n",
        "df_y1_error = pd.DataFrame(y1_error_dict)\n",
        "df_y1_error"
      ],
      "execution_count": 13,
      "outputs": [
        {
          "output_type": "execute_result",
          "data": {
            "text/html": [
              "<div>\n",
              "<style scoped>\n",
              "    .dataframe tbody tr th:only-of-type {\n",
              "        vertical-align: middle;\n",
              "    }\n",
              "\n",
              "    .dataframe tbody tr th {\n",
              "        vertical-align: top;\n",
              "    }\n",
              "\n",
              "    .dataframe thead th {\n",
              "        text-align: right;\n",
              "    }\n",
              "</style>\n",
              "<table border=\"1\" class=\"dataframe\">\n",
              "  <thead>\n",
              "    <tr style=\"text-align: right;\">\n",
              "      <th></th>\n",
              "      <th>FWD Error</th>\n",
              "      <th>BWD Error</th>\n",
              "      <th>CEN Error</th>\n",
              "    </tr>\n",
              "  </thead>\n",
              "  <tbody>\n",
              "    <tr>\n",
              "      <th>0</th>\n",
              "      <td>0.000000</td>\n",
              "      <td>0.000000</td>\n",
              "      <td>0.000000</td>\n",
              "    </tr>\n",
              "    <tr>\n",
              "      <th>1</th>\n",
              "      <td>0.053383</td>\n",
              "      <td>0.051892</td>\n",
              "      <td>0.000745</td>\n",
              "    </tr>\n",
              "    <tr>\n",
              "      <th>2</th>\n",
              "      <td>0.016730</td>\n",
              "      <td>0.195633</td>\n",
              "      <td>0.015169</td>\n",
              "    </tr>\n",
              "    <tr>\n",
              "      <th>3</th>\n",
              "      <td>3.773432</td>\n",
              "      <td>7.846575</td>\n",
              "      <td>0.000000</td>\n",
              "    </tr>\n",
              "  </tbody>\n",
              "</table>\n",
              "</div>"
            ],
            "text/plain": [
              "   FWD Error  BWD Error  CEN Error\n",
              "0   0.000000   0.000000   0.000000\n",
              "1   0.053383   0.051892   0.000745\n",
              "2   0.016730   0.195633   0.015169\n",
              "3   3.773432   7.846575   0.000000"
            ]
          },
          "metadata": {
            "tags": []
          },
          "execution_count": 13
        }
      ]
    },
    {
      "cell_type": "code",
      "metadata": {
        "id": "nlr9tLpdwxqt"
      },
      "source": [
        "y2_fwd_error, y2_bwd_error, y2_cen_error = [], [], []\n",
        "for n in range(0,degree+1):\n",
        "  y2_fwd_error.append(abs(derivative(y2,x,dx,n=n,order=5)-diff_fwd(y2,x,dx,n)))\n",
        "  y2_bwd_error.append(abs(derivative(y2,x,dx,n=n,order=5)-diff_bwd(y2,x,dx,n)))\n",
        "  y2_cen_error.append(abs(derivative(y2,x,dx,n=n,order=5)-diff_cen(y2,x,dx,n)))"
      ],
      "execution_count": 14,
      "outputs": []
    },
    {
      "cell_type": "code",
      "metadata": {
        "colab": {
          "base_uri": "https://localhost:8080/",
          "height": 173
        },
        "id": "mXRUIMkFw7X5",
        "outputId": "164c7ac8-4080-4fad-ad92-c51d9474e9a5"
      },
      "source": [
        "y2_error_dict = {'FWD Error': y2_fwd_error, 'BWD Error': y2_bwd_error, 'CEN Error': y2_cen_error} \n",
        "df_y2_error = pd.DataFrame(y2_error_dict)\n",
        "df_y2_error"
      ],
      "execution_count": 15,
      "outputs": [
        {
          "output_type": "execute_result",
          "data": {
            "text/html": [
              "<div>\n",
              "<style scoped>\n",
              "    .dataframe tbody tr th:only-of-type {\n",
              "        vertical-align: middle;\n",
              "    }\n",
              "\n",
              "    .dataframe tbody tr th {\n",
              "        vertical-align: top;\n",
              "    }\n",
              "\n",
              "    .dataframe thead th {\n",
              "        text-align: right;\n",
              "    }\n",
              "</style>\n",
              "<table border=\"1\" class=\"dataframe\">\n",
              "  <thead>\n",
              "    <tr style=\"text-align: right;\">\n",
              "      <th></th>\n",
              "      <th>FWD Error</th>\n",
              "      <th>BWD Error</th>\n",
              "      <th>CEN Error</th>\n",
              "    </tr>\n",
              "  </thead>\n",
              "  <tbody>\n",
              "    <tr>\n",
              "      <th>0</th>\n",
              "      <td>0.000000</td>\n",
              "      <td>0.000000</td>\n",
              "      <td>0.000000</td>\n",
              "    </tr>\n",
              "    <tr>\n",
              "      <th>1</th>\n",
              "      <td>0.015559</td>\n",
              "      <td>0.011408</td>\n",
              "      <td>0.002075</td>\n",
              "    </tr>\n",
              "    <tr>\n",
              "      <th>2</th>\n",
              "      <td>0.207077</td>\n",
              "      <td>0.291008</td>\n",
              "      <td>0.005995</td>\n",
              "    </tr>\n",
              "    <tr>\n",
              "      <th>3</th>\n",
              "      <td>2.076052</td>\n",
              "      <td>2.239167</td>\n",
              "      <td>0.000000</td>\n",
              "    </tr>\n",
              "  </tbody>\n",
              "</table>\n",
              "</div>"
            ],
            "text/plain": [
              "   FWD Error  BWD Error  CEN Error\n",
              "0   0.000000   0.000000   0.000000\n",
              "1   0.015559   0.011408   0.002075\n",
              "2   0.207077   0.291008   0.005995\n",
              "3   2.076052   2.239167   0.000000"
            ]
          },
          "metadata": {
            "tags": []
          },
          "execution_count": 15
        }
      ]
    },
    {
      "cell_type": "markdown",
      "metadata": {
        "id": "oHEXK3rkxv6P"
      },
      "source": [
        "In conclusion, Using Central finite differentiation can form a more accurate result that the Forward finite differentiation and Backward finite differentiation"
      ]
    },
    {
      "cell_type": "markdown",
      "metadata": {
        "id": "jJgE_HRJm41s"
      },
      "source": [
        "### Part 2"
      ]
    },
    {
      "cell_type": "code",
      "metadata": {
        "id": "4AH1D901okGp"
      },
      "source": [
        "def taylor(funct, dX, nth_order,x):\n",
        "  if nth_order % 2 == 0:\n",
        "    o = nth_order+1\n",
        "  else:\n",
        "    o = nth_order+2\n",
        "  a = 2* np.pi\n",
        "  y_nth = 0\n",
        "  for n in range(nth_order+1):\n",
        "    y_nth = y_nth + (derivative(funct,a,dX,n,order=o)*((x-a)**n)/math.factorial(n))\n",
        "  return y_nth"
      ],
      "execution_count": 16,
      "outputs": []
    },
    {
      "cell_type": "code",
      "metadata": {
        "id": "6VGMofNDozgQ",
        "colab": {
          "base_uri": "https://localhost:8080/",
          "height": 265
        },
        "outputId": "19686a48-20e3-4e33-8563-684b90f8cf6e"
      },
      "source": [
        "x = np.linspace(4.5,8)\n",
        "plt.plot(x,taylor(y1, .01, 7,x),label='taylor series',c = \"r\")\n",
        "plt.plot(x,y1(x),label='Analytic',c=\"k\")\n",
        "plt.legend()\n",
        "plt.grid()\n",
        "plt.show()"
      ],
      "execution_count": 17,
      "outputs": [
        {
          "output_type": "display_data",
          "data": {
            "image/png": "[encoded data removed]",
            "text/plain": [
              "<Figure size 432x288 with 1 Axes>"
            ]
          },
          "metadata": {
            "tags": [],
            "needs_background": "light"
          }
        }
      ]
    },
    {
      "cell_type": "code",
      "metadata": {
        "id": "ZgQZc7VTo675",
        "colab": {
          "base_uri": "https://localhost:8080/",
          "height": 265
        },
        "outputId": "6d4d541a-ede3-461f-bb7b-4e6be404d325"
      },
      "source": [
        "x = np.linspace(4.5,8)\n",
        "plt.plot(x,taylor(y2, 1e-2, 7,x),label='taylor series',c = \"r\")\n",
        "plt.plot(x,y2(x),label='Analytic',c=\"k\")\n",
        "plt.legend()\n",
        "plt.grid()\n",
        "plt.show()"
      ],
      "execution_count": 18,
      "outputs": [
        {
          "output_type": "display_data",
          "data": {
            "image/png": "[encoded data removed]",
            "text/plain": [
              "<Figure size 432x288 with 1 Axes>"
            ]
          },
          "metadata": {
            "tags": [],
            "needs_background": "light"
          }
        }
      ]
    },
    {
      "cell_type": "markdown",
      "metadata": {
        "id": "Ppb7_TB3n7e-"
      },
      "source": [
        "### REFERENCE:\n",
        "\n",
        "[1] H. Hae--Jin Choi Jin Choi, “Numerical Differentiation Numerical Differentiation Chapter Objectives Chapter Objectives,” 2010.Access on:May 13 2021[online]. Available : [https://www.uio.no/studier/emner/matnat/math/MAT-INF1100/h08/kompendiet/diffint.pdf](https://www.uio.no/studier/emner/matnat/math/MAT-INF1100/h08/kompendiet/diffint.pdf)\n",
        "<br> [2] Q.Kong,T.Shiauw,A.Bayen, \"Python Programming And Numerical Method \",2020. Access in: May 13 2021 [online]. Available : [(pythonnumericalmethods.berkeley.edu/notebooks/chapter18.02-Approximations-with-Taylor-Series.htm)](pythonnumericalmethods.berkeley.edu/notebooks/chapter18.02-Approximations-with-Taylor-Series.htm)\n",
        "\n"
      ]
    }
  ]
}