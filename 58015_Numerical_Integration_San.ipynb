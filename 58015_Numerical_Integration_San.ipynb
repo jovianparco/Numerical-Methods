{
  "nbformat": 4,
  "nbformat_minor": 0,
  "metadata": {
    "colab": {
      "name": "58015_Numerical Integration_San.ipynb",
      "provenance": [],
      "collapsed_sections": [],
      "include_colab_link": true
    },
    "kernelspec": {
      "name": "python3",
      "display_name": "Python 3"
    },
    "language_info": {
      "name": "python"
    }
  },
  "cells": [
    {
      "cell_type": "markdown",
      "metadata": {
        "id": "view-in-github",
        "colab_type": "text"
      },
      "source": [
        "<a href=\"https://colab.research.google.com/github/jovianparco/Numerical-Methods/blob/main/58015_Numerical_Integration_San.ipynb\" target=\"_parent\"><img src=\"https://colab.research.google.com/assets/colab-badge.svg\" alt=\"Open In Colab\"/></a>"
      ]
    },
    {
      "cell_type": "markdown",
      "metadata": {
        "id": "Wm1i3MjKJM6J"
      },
      "source": [
        "### Numerical Integration\n",
        "© Bedana M., Enerio MM., Gonzales KC., Parco JA."
      ]
    },
    {
      "cell_type": "code",
      "metadata": {
        "id": "hDhMSVxWRDPs"
      },
      "source": [
        "import numpy as np\n",
        "import pandas as pd\n",
        "from scipy import integrate \n",
        "import matplotlib.pyplot as plt"
      ],
      "execution_count": null,
      "outputs": []
    },
    {
      "cell_type": "markdown",
      "metadata": {
        "id": "MnGY2s4va8t5"
      },
      "source": [
        "##PART 1:"
      ]
    },
    {
      "cell_type": "markdown",
      "metadata": {
        "id": "6TWN4OoywC2b"
      },
      "source": [
        "### scipy.integrate.quad\n",
        "\n",
        "*   > #### Compute a definite integral.\n",
        "*   > #### single iteration\n",
        "*   > #### Integrate func from a to b\n",
        "\n"
      ]
    },
    {
      "cell_type": "markdown",
      "metadata": {
        "id": "vNQpIwKqwHiv"
      },
      "source": [
        "###scipy.integrate.trapezoid\n",
        "\n",
        "*   > #### Integrate along the given axis using the composite trapezoidal rule.\n",
        "*   > #### The trapezoid rule gives a better approximation of a definite integral by summing the areas of the trapezoids connecting the points\n",
        "*   > #### Use trapezoidal rule to compute integral"
      ]
    },
    {
      "cell_type": "markdown",
      "metadata": {
        "id": "J2QQavCMwJEM"
      },
      "source": [
        "### scipy.integrate.simpson\n",
        "*   > #### Integrate y(x) using samples along the given axis and the composite Simpson’s rule. If x is None, spacing of dx is assumed.\n",
        "*   > #### Simpson's rule uses a quadratic polynomial on each subinterval of a partition to approximate the function  and to compute the definite integral\n",
        "*   > #### Simpson’s Rule approximates the area under f(x) over these two subintervals by fitting a quadratic polynomial through the points"
      ]
    },
    {
      "cell_type": "markdown",
      "metadata": {
        "id": "DIUd84eswogD"
      },
      "source": [
        "### scipy.integrate.romberg\n",
        "\n",
        "*   > #### The parameters of the function integrate.romberg are f which is the function and a and b for the upper and lower boundary\n",
        "*   > #### The concept behind the romberg integration is a Composite Trapezoidal Rule with multiple iteration that is base on  Richardson extrapolation which uses k and j.\n",
        "   >> #### Where k being the main approximation and j being the sweep or the one which increase the accuracy of the approximation.\n"
      ]
    },
    {
      "cell_type": "markdown",
      "metadata": {
        "id": "cGLNV_LYbAL5"
      },
      "source": [
        "##PART 2:\n"
      ]
    },
    {
      "cell_type": "code",
      "metadata": {
        "id": "KEd_Rbv0IwFK"
      },
      "source": [
        "def trapz_rule(func,lb,ub,size):\n",
        "  h = (ub-lb)/size\n",
        "  return h*(0.5*(func(lb)+func(ub))+np.sum(func(lb+h*np.arange(1,size))))"
      ],
      "execution_count": null,
      "outputs": []
    },
    {
      "cell_type": "code",
      "metadata": {
        "id": "1WNxe08-w7gX"
      },
      "source": [
        "def simp_13(func,lb,ub,divs):\n",
        "  h = (ub-lb)/divs\n",
        "  A = (func(lb)+func(ub))+ \\\n",
        "            np.sum(4*func(lb+h*np.arange(1,divs,2)))+ \\\n",
        "            np.sum(2*func(lb+h*np.arange(2,divs,2)))\n",
        "  S = (h/3)*A\n",
        "  return S"
      ],
      "execution_count": null,
      "outputs": []
    },
    {
      "cell_type": "code",
      "metadata": {
        "id": "p4uP9QKWw_NZ"
      },
      "source": [
        "def simp_38(func,lb,ub,divs):\n",
        "  h = (ub-lb)/divs\n",
        "  A = (func(lb)+func(ub))+ \\\n",
        "            np.sum(3*(func(lb+h*np.arange(1,divs,3))))+ \\\n",
        "            np.sum(3*(func(lb+h*np.arange(2,divs,3))))+ \\\n",
        "            np.sum(2*func(lb+h*np.arange(3,divs,3)))\n",
        "  S = (3*h/8)*A\n",
        "  return S"
      ],
      "execution_count": null,
      "outputs": []
    },
    {
      "cell_type": "code",
      "metadata": {
        "id": "b0tZwWgXxE05"
      },
      "source": [
        "def m_c(func,lb,ub,n):\n",
        "  mean = np.sum(func(np.random.uniform(lb,ub,int(n))))/n\n",
        "  S = (ub - lb)*mean \n",
        "  return S\n"
      ],
      "execution_count": null,
      "outputs": []
    },
    {
      "cell_type": "code",
      "metadata": {
        "id": "bHeTzCssyDB9"
      },
      "source": [
        "def romberg(f,a,b,n):\n",
        "  r = []\n",
        "  h = b - a\n",
        "  r.append([(h/2)*(f(a)+f(b))])\n",
        "  for i in range(1,n+1):\n",
        "    h = h / 2\n",
        "    sum = 0\n",
        "    for k in range(1,2**i ,2):\n",
        "      sum += f(a+k*h)\n",
        "    rowi = [0.5*r[i-1][0] + sum*h]\n",
        "    for j in range(1,i+1):\n",
        "      rowi.append(rowi[j-1] + (rowi[j-1]-r[i-1][j-1])/(4**j-1))\n",
        "    r.append(rowi)\n",
        "  return r[-1][-1]"
      ],
      "execution_count": null,
      "outputs": []
    },
    {
      "cell_type": "code",
      "metadata": {
        "id": "hqVVj7WXpwBw"
      },
      "source": [
        "def methods(func,lb,ub,lol):\n",
        "  eq = []\n",
        "  boundary = np.linspace(lb,ub)\n",
        "  eq.append(trapz_rule(func, lb, ub, lol))\n",
        "  eq.append(simp_13(func, lb, ub, lol))\n",
        "  eq.append(simp_38(func, lb, ub, lol))\n",
        "  eq.append(m_c(func, lb, ub, lol))\n",
        "  eq.append(integrate.romberg(func, lb, ub, divmax = lol))\n",
        "  eq.append(integrate.simps(func(boundary),boundary))\n",
        "  eq.append(integrate.quad(func,lb,ub)[0])\n",
        "  eq.append(integrate.trapz(func(boundary),boundary))\n",
        "  eq.append(romberg(func, lb, ub, 10)) #Overwrite the \"lol\" value because it is memory intensive\n",
        "  return eq\n",
        "\n",
        "\n",
        "def method_errors (eqs, theoval):\n",
        "  eq_errors = []\n",
        "  for ans in eqs:\n",
        "    eq_errors.append(abs( theoval- ans))\n",
        "  return eq_errors\n",
        "\n",
        "\n",
        "def difference(eq,errors):\n",
        "  diff = pd.DataFrame(list(zip(eq, errors)), index =['Trapezoidal rule', 'Simpsons 1/3 Rule', 'Simpsons 3/8 Rule', 'Montecarlo','Romberg SP', 'Simpson SP','quad SP','trapz SP', 'Romberg'],\n",
        "                                              columns =['Values', 'Error'])\n",
        "  return diff"
      ],
      "execution_count": null,
      "outputs": []
    },
    {
      "cell_type": "markdown",
      "metadata": {
        "id": "yDIuPxwHqwnC"
      },
      "source": [
        "### Equation 1:\n"
      ]
    },
    {
      "cell_type": "markdown",
      "metadata": {
        "id": "U38EAV0sFknK"
      },
      "source": [
        "$$ \\int_{-1}^{1}(x^6+3x^4-x^2)dx $$\n",
        "Theoretical Value = 86/105\n"
      ]
    },
    {
      "cell_type": "code",
      "metadata": {
        "id": "ocwNNFHdRPgY"
      },
      "source": [
        "f1 = lambda x : x**6 + 3*x**4 - x**2\n",
        "a1,b1 = -1,1"
      ],
      "execution_count": null,
      "outputs": []
    },
    {
      "cell_type": "code",
      "metadata": {
        "colab": {
          "base_uri": "https://localhost:8080/",
          "height": 328
        },
        "id": "1SYj0Pj7rie8",
        "outputId": "804f5cc4-8de3-4d37-a5be-7240f665b8f7"
      },
      "source": [
        "eq1 = methods( f1, a1,b1, 10000)\n",
        "eq1_errors = method_errors(eq1, 86/105)\n",
        "df1= difference(eq1, eq1_errors)\n",
        "df1"
      ],
      "execution_count": null,
      "outputs": [
        {
          "output_type": "execute_result",
          "data": {
            "text/html": [
              "<div>\n",
              "<style scoped>\n",
              "    .dataframe tbody tr th:only-of-type {\n",
              "        vertical-align: middle;\n",
              "    }\n",
              "\n",
              "    .dataframe tbody tr th {\n",
              "        vertical-align: top;\n",
              "    }\n",
              "\n",
              "    .dataframe thead th {\n",
              "        text-align: right;\n",
              "    }\n",
              "</style>\n",
              "<table border=\"1\" class=\"dataframe\">\n",
              "  <thead>\n",
              "    <tr style=\"text-align: right;\">\n",
              "      <th></th>\n",
              "      <th>Values</th>\n",
              "      <th>Error</th>\n",
              "    </tr>\n",
              "  </thead>\n",
              "  <tbody>\n",
              "    <tr>\n",
              "      <th>Trapezoidal rule</th>\n",
              "      <td>0.819048</td>\n",
              "      <td>1.066667e-07</td>\n",
              "    </tr>\n",
              "    <tr>\n",
              "      <th>Simpsons 1/3 Rule</th>\n",
              "      <td>0.819048</td>\n",
              "      <td>3.774758e-15</td>\n",
              "    </tr>\n",
              "    <tr>\n",
              "      <th>Simpsons 3/8 Rule</th>\n",
              "      <td>0.818898</td>\n",
              "      <td>1.499200e-04</td>\n",
              "    </tr>\n",
              "    <tr>\n",
              "      <th>Montecarlo</th>\n",
              "      <td>0.818076</td>\n",
              "      <td>9.711672e-04</td>\n",
              "    </tr>\n",
              "    <tr>\n",
              "      <th>Romberg SP</th>\n",
              "      <td>0.819048</td>\n",
              "      <td>0.000000e+00</td>\n",
              "    </tr>\n",
              "    <tr>\n",
              "      <th>Simpson SP</th>\n",
              "      <td>0.819394</td>\n",
              "      <td>3.467134e-04</td>\n",
              "    </tr>\n",
              "    <tr>\n",
              "      <th>quad SP</th>\n",
              "      <td>0.819048</td>\n",
              "      <td>2.220446e-16</td>\n",
              "    </tr>\n",
              "    <tr>\n",
              "      <th>trapz SP</th>\n",
              "      <td>0.823489</td>\n",
              "      <td>4.441113e-03</td>\n",
              "    </tr>\n",
              "    <tr>\n",
              "      <th>Romberg</th>\n",
              "      <td>0.819048</td>\n",
              "      <td>6.661338e-16</td>\n",
              "    </tr>\n",
              "  </tbody>\n",
              "</table>\n",
              "</div>"
            ],
            "text/plain": [
              "                     Values         Error\n",
              "Trapezoidal rule   0.819048  1.066667e-07\n",
              "Simpsons 1/3 Rule  0.819048  3.774758e-15\n",
              "Simpsons 3/8 Rule  0.818898  1.499200e-04\n",
              "Montecarlo         0.818076  9.711672e-04\n",
              "Romberg SP         0.819048  0.000000e+00\n",
              "Simpson SP         0.819394  3.467134e-04\n",
              "quad SP            0.819048  2.220446e-16\n",
              "trapz SP           0.823489  4.441113e-03\n",
              "Romberg            0.819048  6.661338e-16"
            ]
          },
          "metadata": {
            "tags": []
          },
          "execution_count": 9
        }
      ]
    },
    {
      "cell_type": "markdown",
      "metadata": {
        "id": "afriqhJbq4yw"
      },
      "source": [
        "###Equation 2:\n"
      ]
    },
    {
      "cell_type": "markdown",
      "metadata": {
        "id": "SoRoeHkbGWu4"
      },
      "source": [
        " $$\\int_{-1}^{2}(2x^5+3x^3-x)dx $$\n",
        "Theoretical Value = 123/4"
      ]
    },
    {
      "cell_type": "code",
      "metadata": {
        "id": "d3ncQCLDQ1jb"
      },
      "source": [
        "f2 = lambda x : 2*x**5 + 3*x**3 - x \n",
        "a2, b2 = -1, 2"
      ],
      "execution_count": null,
      "outputs": []
    },
    {
      "cell_type": "code",
      "metadata": {
        "colab": {
          "base_uri": "https://localhost:8080/",
          "height": 328
        },
        "id": "YO9urLIrjx4G",
        "outputId": "d243193b-2d96-4423-cd20-d8d405571fe6"
      },
      "source": [
        "eq2 = methods( f2, a2,b2, 10000)\n",
        "eq2_errors = method_errors(eq2, 123/4)\n",
        "df2 = difference(eq2, eq2_errors)\n",
        "df2"
      ],
      "execution_count": null,
      "outputs": [
        {
          "output_type": "execute_result",
          "data": {
            "text/html": [
              "<div>\n",
              "<style scoped>\n",
              "    .dataframe tbody tr th:only-of-type {\n",
              "        vertical-align: middle;\n",
              "    }\n",
              "\n",
              "    .dataframe tbody tr th {\n",
              "        vertical-align: top;\n",
              "    }\n",
              "\n",
              "    .dataframe thead th {\n",
              "        text-align: right;\n",
              "    }\n",
              "</style>\n",
              "<table border=\"1\" class=\"dataframe\">\n",
              "  <thead>\n",
              "    <tr style=\"text-align: right;\">\n",
              "      <th></th>\n",
              "      <th>Values</th>\n",
              "      <th>Error</th>\n",
              "    </tr>\n",
              "  </thead>\n",
              "  <tbody>\n",
              "    <tr>\n",
              "      <th>Trapezoidal rule</th>\n",
              "      <td>30.750001</td>\n",
              "      <td>1.327500e-06</td>\n",
              "    </tr>\n",
              "    <tr>\n",
              "      <th>Simpsons 1/3 Rule</th>\n",
              "      <td>30.750000</td>\n",
              "      <td>7.105427e-15</td>\n",
              "    </tr>\n",
              "    <tr>\n",
              "      <th>Simpsons 3/8 Rule</th>\n",
              "      <td>30.743552</td>\n",
              "      <td>6.447806e-03</td>\n",
              "    </tr>\n",
              "    <tr>\n",
              "      <th>Montecarlo</th>\n",
              "      <td>31.497335</td>\n",
              "      <td>7.473353e-01</td>\n",
              "    </tr>\n",
              "    <tr>\n",
              "      <th>Romberg SP</th>\n",
              "      <td>30.750000</td>\n",
              "      <td>0.000000e+00</td>\n",
              "    </tr>\n",
              "    <tr>\n",
              "      <th>Simpson SP</th>\n",
              "      <td>30.752773</td>\n",
              "      <td>2.773016e-03</td>\n",
              "    </tr>\n",
              "    <tr>\n",
              "      <th>quad SP</th>\n",
              "      <td>30.750000</td>\n",
              "      <td>0.000000e+00</td>\n",
              "    </tr>\n",
              "    <tr>\n",
              "      <th>trapz SP</th>\n",
              "      <td>30.805282</td>\n",
              "      <td>5.528244e-02</td>\n",
              "    </tr>\n",
              "    <tr>\n",
              "      <th>Romberg</th>\n",
              "      <td>30.750000</td>\n",
              "      <td>3.552714e-15</td>\n",
              "    </tr>\n",
              "  </tbody>\n",
              "</table>\n",
              "</div>"
            ],
            "text/plain": [
              "                      Values         Error\n",
              "Trapezoidal rule   30.750001  1.327500e-06\n",
              "Simpsons 1/3 Rule  30.750000  7.105427e-15\n",
              "Simpsons 3/8 Rule  30.743552  6.447806e-03\n",
              "Montecarlo         31.497335  7.473353e-01\n",
              "Romberg SP         30.750000  0.000000e+00\n",
              "Simpson SP         30.752773  2.773016e-03\n",
              "quad SP            30.750000  0.000000e+00\n",
              "trapz SP           30.805282  5.528244e-02\n",
              "Romberg            30.750000  3.552714e-15"
            ]
          },
          "metadata": {
            "tags": []
          },
          "execution_count": 11
        }
      ]
    },
    {
      "cell_type": "markdown",
      "metadata": {
        "id": "wyyqw7Sgq-d6"
      },
      "source": [
        "###Equation 3: "
      ]
    },
    {
      "cell_type": "markdown",
      "metadata": {
        "id": "ycrl7UDKGW4l"
      },
      "source": [
        "$$\\int_{0}^{\\pi/2}(sin(x)^7cos(x)^2)dx $$\n",
        "Theoretical Value = 16/315"
      ]
    },
    {
      "cell_type": "code",
      "metadata": {
        "id": "Nub_EbEJQ3La"
      },
      "source": [
        "f3 = lambda x : ((np.sin(x))**7)*(np.cos(x))**2\n",
        "a3, b3 = 0, np.pi/2"
      ],
      "execution_count": null,
      "outputs": []
    },
    {
      "cell_type": "code",
      "metadata": {
        "id": "OHynpAgZj3lG",
        "colab": {
          "base_uri": "https://localhost:8080/",
          "height": 328
        },
        "outputId": "8e128cb6-bc8b-4918-e8df-a888dc5003f8"
      },
      "source": [
        "eq3 = methods( f3, a3,b3, 10000)\n",
        "eq3_errors = method_errors(eq3, 16/315)\n",
        "df3 = difference(eq3, eq3_errors)\n",
        "df3"
      ],
      "execution_count": null,
      "outputs": [
        {
          "output_type": "execute_result",
          "data": {
            "text/html": [
              "<div>\n",
              "<style scoped>\n",
              "    .dataframe tbody tr th:only-of-type {\n",
              "        vertical-align: middle;\n",
              "    }\n",
              "\n",
              "    .dataframe tbody tr th {\n",
              "        vertical-align: top;\n",
              "    }\n",
              "\n",
              "    .dataframe thead th {\n",
              "        text-align: right;\n",
              "    }\n",
              "</style>\n",
              "<table border=\"1\" class=\"dataframe\">\n",
              "  <thead>\n",
              "    <tr style=\"text-align: right;\">\n",
              "      <th></th>\n",
              "      <th>Values</th>\n",
              "      <th>Error</th>\n",
              "    </tr>\n",
              "  </thead>\n",
              "  <tbody>\n",
              "    <tr>\n",
              "      <th>Trapezoidal rule</th>\n",
              "      <td>0.050794</td>\n",
              "      <td>6.938894e-18</td>\n",
              "    </tr>\n",
              "    <tr>\n",
              "      <th>Simpsons 1/3 Rule</th>\n",
              "      <td>0.050794</td>\n",
              "      <td>6.938894e-18</td>\n",
              "    </tr>\n",
              "    <tr>\n",
              "      <th>Simpsons 3/8 Rule</th>\n",
              "      <td>0.050794</td>\n",
              "      <td>1.614889e-13</td>\n",
              "    </tr>\n",
              "    <tr>\n",
              "      <th>Montecarlo</th>\n",
              "      <td>0.050029</td>\n",
              "      <td>7.642716e-04</td>\n",
              "    </tr>\n",
              "    <tr>\n",
              "      <th>Romberg SP</th>\n",
              "      <td>0.050794</td>\n",
              "      <td>9.478529e-15</td>\n",
              "    </tr>\n",
              "    <tr>\n",
              "      <th>Simpson SP</th>\n",
              "      <td>0.050796</td>\n",
              "      <td>2.734507e-06</td>\n",
              "    </tr>\n",
              "    <tr>\n",
              "      <th>quad SP</th>\n",
              "      <td>0.050794</td>\n",
              "      <td>0.000000e+00</td>\n",
              "    </tr>\n",
              "    <tr>\n",
              "      <th>trapz SP</th>\n",
              "      <td>0.050794</td>\n",
              "      <td>4.669876e-15</td>\n",
              "    </tr>\n",
              "    <tr>\n",
              "      <th>Romberg</th>\n",
              "      <td>0.050794</td>\n",
              "      <td>3.469447e-17</td>\n",
              "    </tr>\n",
              "  </tbody>\n",
              "</table>\n",
              "</div>"
            ],
            "text/plain": [
              "                     Values         Error\n",
              "Trapezoidal rule   0.050794  6.938894e-18\n",
              "Simpsons 1/3 Rule  0.050794  6.938894e-18\n",
              "Simpsons 3/8 Rule  0.050794  1.614889e-13\n",
              "Montecarlo         0.050029  7.642716e-04\n",
              "Romberg SP         0.050794  9.478529e-15\n",
              "Simpson SP         0.050796  2.734507e-06\n",
              "quad SP            0.050794  0.000000e+00\n",
              "trapz SP           0.050794  4.669876e-15\n",
              "Romberg            0.050794  3.469447e-17"
            ]
          },
          "metadata": {
            "tags": []
          },
          "execution_count": 13
        }
      ]
    },
    {
      "cell_type": "markdown",
      "metadata": {
        "id": "ngypLt6crHoF"
      },
      "source": [
        "###Equation 4:"
      ]
    },
    {
      "cell_type": "markdown",
      "metadata": {
        "id": "SowMlVowHVXN"
      },
      "source": [
        "$$\\int_{0}^{\\pi/2}(sin(x)^4)dx $$\n",
        "Theoretical Value = 3pi/16\n"
      ]
    },
    {
      "cell_type": "code",
      "metadata": {
        "id": "Lntf_FlnQ59T"
      },
      "source": [
        "f4 = lambda x : (np.sin(x))**4\n",
        "a4, b4 = 0, np.pi/2"
      ],
      "execution_count": null,
      "outputs": []
    },
    {
      "cell_type": "code",
      "metadata": {
        "id": "InXVutVpj7YJ",
        "colab": {
          "base_uri": "https://localhost:8080/",
          "height": 328
        },
        "outputId": "32024f35-6019-4a33-9952-6f3ef49106d0"
      },
      "source": [
        "eq4 = methods( f4, a4,b4, 10000)\n",
        "eq4_errors = method_errors(eq4, 3*np.pi/16)\n",
        "df4 = difference(eq4, eq4_errors)\n",
        "df4"
      ],
      "execution_count": null,
      "outputs": [
        {
          "output_type": "execute_result",
          "data": {
            "text/html": [
              "<div>\n",
              "<style scoped>\n",
              "    .dataframe tbody tr th:only-of-type {\n",
              "        vertical-align: middle;\n",
              "    }\n",
              "\n",
              "    .dataframe tbody tr th {\n",
              "        vertical-align: top;\n",
              "    }\n",
              "\n",
              "    .dataframe thead th {\n",
              "        text-align: right;\n",
              "    }\n",
              "</style>\n",
              "<table border=\"1\" class=\"dataframe\">\n",
              "  <thead>\n",
              "    <tr style=\"text-align: right;\">\n",
              "      <th></th>\n",
              "      <th>Values</th>\n",
              "      <th>Error</th>\n",
              "    </tr>\n",
              "  </thead>\n",
              "  <tbody>\n",
              "    <tr>\n",
              "      <th>Trapezoidal rule</th>\n",
              "      <td>0.589049</td>\n",
              "      <td>0.000000e+00</td>\n",
              "    </tr>\n",
              "    <tr>\n",
              "      <th>Simpsons 1/3 Rule</th>\n",
              "      <td>0.589049</td>\n",
              "      <td>0.000000e+00</td>\n",
              "    </tr>\n",
              "    <tr>\n",
              "      <th>Simpsons 3/8 Rule</th>\n",
              "      <td>0.589009</td>\n",
              "      <td>3.926991e-05</td>\n",
              "    </tr>\n",
              "    <tr>\n",
              "      <th>Montecarlo</th>\n",
              "      <td>0.576989</td>\n",
              "      <td>1.205978e-02</td>\n",
              "    </tr>\n",
              "    <tr>\n",
              "      <th>Romberg SP</th>\n",
              "      <td>0.589049</td>\n",
              "      <td>6.483702e-14</td>\n",
              "    </tr>\n",
              "    <tr>\n",
              "      <th>Simpson SP</th>\n",
              "      <td>0.589043</td>\n",
              "      <td>5.483085e-06</td>\n",
              "    </tr>\n",
              "    <tr>\n",
              "      <th>quad SP</th>\n",
              "      <td>0.589049</td>\n",
              "      <td>0.000000e+00</td>\n",
              "    </tr>\n",
              "    <tr>\n",
              "      <th>trapz SP</th>\n",
              "      <td>0.589049</td>\n",
              "      <td>0.000000e+00</td>\n",
              "    </tr>\n",
              "    <tr>\n",
              "      <th>Romberg</th>\n",
              "      <td>0.589049</td>\n",
              "      <td>0.000000e+00</td>\n",
              "    </tr>\n",
              "  </tbody>\n",
              "</table>\n",
              "</div>"
            ],
            "text/plain": [
              "                     Values         Error\n",
              "Trapezoidal rule   0.589049  0.000000e+00\n",
              "Simpsons 1/3 Rule  0.589049  0.000000e+00\n",
              "Simpsons 3/8 Rule  0.589009  3.926991e-05\n",
              "Montecarlo         0.576989  1.205978e-02\n",
              "Romberg SP         0.589049  6.483702e-14\n",
              "Simpson SP         0.589043  5.483085e-06\n",
              "quad SP            0.589049  0.000000e+00\n",
              "trapz SP           0.589049  0.000000e+00\n",
              "Romberg            0.589049  0.000000e+00"
            ]
          },
          "metadata": {
            "tags": []
          },
          "execution_count": 15
        }
      ]
    },
    {
      "cell_type": "markdown",
      "metadata": {
        "id": "Gktvc1F7rLfs"
      },
      "source": [
        "###Equation 5:"
      ]
    },
    {
      "cell_type": "markdown",
      "metadata": {
        "id": "QcN9SwepH1tW"
      },
      "source": [
        " $$\\int_{-4}^{4}(\\frac{1}{16+x^2})dx$$\n",
        "\n",
        "Theoretical Value = pi/8"
      ]
    },
    {
      "cell_type": "code",
      "metadata": {
        "id": "-qS0AepjQ-Bx"
      },
      "source": [
        "f5 = lambda x : ((1) / (16+ x**2))\n",
        "a5, b5 = -4, 4"
      ],
      "execution_count": null,
      "outputs": []
    },
    {
      "cell_type": "code",
      "metadata": {
        "id": "HyOq2WsDj_vW",
        "colab": {
          "base_uri": "https://localhost:8080/",
          "height": 328
        },
        "outputId": "dd042845-5f11-44e9-c4e2-65ad2a4086ae"
      },
      "source": [
        "eq5 = methods( f5, a5,b5, 10000)\n",
        "eq5_errors = method_errors(eq5, np.pi/8)\n",
        "df5 = difference(eq5, eq5_errors)\n",
        "df5"
      ],
      "execution_count": null,
      "outputs": [
        {
          "output_type": "execute_result",
          "data": {
            "text/html": [
              "<div>\n",
              "<style scoped>\n",
              "    .dataframe tbody tr th:only-of-type {\n",
              "        vertical-align: middle;\n",
              "    }\n",
              "\n",
              "    .dataframe tbody tr th {\n",
              "        vertical-align: top;\n",
              "    }\n",
              "\n",
              "    .dataframe thead th {\n",
              "        text-align: right;\n",
              "    }\n",
              "</style>\n",
              "<table border=\"1\" class=\"dataframe\">\n",
              "  <thead>\n",
              "    <tr style=\"text-align: right;\">\n",
              "      <th></th>\n",
              "      <th>Values</th>\n",
              "      <th>Error</th>\n",
              "    </tr>\n",
              "  </thead>\n",
              "  <tbody>\n",
              "    <tr>\n",
              "      <th>Trapezoidal rule</th>\n",
              "      <td>0.392699</td>\n",
              "      <td>8.333333e-10</td>\n",
              "    </tr>\n",
              "    <tr>\n",
              "      <th>Simpsons 1/3 Rule</th>\n",
              "      <td>0.392699</td>\n",
              "      <td>5.551115e-17</td>\n",
              "    </tr>\n",
              "    <tr>\n",
              "      <th>Simpsons 3/8 Rule</th>\n",
              "      <td>0.392693</td>\n",
              "      <td>6.250625e-06</td>\n",
              "    </tr>\n",
              "    <tr>\n",
              "      <th>Montecarlo</th>\n",
              "      <td>0.392289</td>\n",
              "      <td>4.096822e-04</td>\n",
              "    </tr>\n",
              "    <tr>\n",
              "      <th>Romberg SP</th>\n",
              "      <td>0.392699</td>\n",
              "      <td>5.392464e-12</td>\n",
              "    </tr>\n",
              "    <tr>\n",
              "      <th>Simpson SP</th>\n",
              "      <td>0.392700</td>\n",
              "      <td>7.077082e-07</td>\n",
              "    </tr>\n",
              "    <tr>\n",
              "      <th>quad SP</th>\n",
              "      <td>0.392699</td>\n",
              "      <td>5.551115e-17</td>\n",
              "    </tr>\n",
              "    <tr>\n",
              "      <th>trapz SP</th>\n",
              "      <td>0.392664</td>\n",
              "      <td>3.470776e-05</td>\n",
              "    </tr>\n",
              "    <tr>\n",
              "      <th>Romberg</th>\n",
              "      <td>0.392699</td>\n",
              "      <td>6.106227e-16</td>\n",
              "    </tr>\n",
              "  </tbody>\n",
              "</table>\n",
              "</div>"
            ],
            "text/plain": [
              "                     Values         Error\n",
              "Trapezoidal rule   0.392699  8.333333e-10\n",
              "Simpsons 1/3 Rule  0.392699  5.551115e-17\n",
              "Simpsons 3/8 Rule  0.392693  6.250625e-06\n",
              "Montecarlo         0.392289  4.096822e-04\n",
              "Romberg SP         0.392699  5.392464e-12\n",
              "Simpson SP         0.392700  7.077082e-07\n",
              "quad SP            0.392699  5.551115e-17\n",
              "trapz SP           0.392664  3.470776e-05\n",
              "Romberg            0.392699  6.106227e-16"
            ]
          },
          "metadata": {
            "tags": []
          },
          "execution_count": 17
        }
      ]
    },
    {
      "cell_type": "markdown",
      "metadata": {
        "id": "NMkhYm3prNNI"
      },
      "source": [
        "###Equation 6:"
      ]
    },
    {
      "cell_type": "markdown",
      "metadata": {
        "id": "HBfz5rCRH1xy"
      },
      "source": [
        "\n",
        " $$\\int_{2}^{4}(\\frac{6+x^2}{x^3})dx $$\n",
        " \n",
        "Theoretical Value = (9/16) + ln(2)"
      ]
    },
    {
      "cell_type": "code",
      "metadata": {
        "id": "JZugMuMpJTEQ"
      },
      "source": [
        "f6 = lambda x : ((6+x**2)/(x**3))\n",
        "a6, b6 = 2, 4 "
      ],
      "execution_count": null,
      "outputs": []
    },
    {
      "cell_type": "code",
      "metadata": {
        "id": "C8wABUQmkD6k",
        "colab": {
          "base_uri": "https://localhost:8080/",
          "height": 328
        },
        "outputId": "5fe36e4c-200d-444e-db3b-ca571bb58e16"
      },
      "source": [
        "eq6 = methods( f6, a6,b6, 10000)\n",
        "eq6_errors = method_errors(eq6, (9/16) + np.log(2) )\n",
        "df6 = difference(eq6, eq6_errors)\n",
        "df6"
      ],
      "execution_count": null,
      "outputs": [
        {
          "output_type": "execute_result",
          "data": {
            "text/html": [
              "<div>\n",
              "<style scoped>\n",
              "    .dataframe tbody tr th:only-of-type {\n",
              "        vertical-align: middle;\n",
              "    }\n",
              "\n",
              "    .dataframe tbody tr th {\n",
              "        vertical-align: top;\n",
              "    }\n",
              "\n",
              "    .dataframe thead th {\n",
              "        text-align: right;\n",
              "    }\n",
              "</style>\n",
              "<table border=\"1\" class=\"dataframe\">\n",
              "  <thead>\n",
              "    <tr style=\"text-align: right;\">\n",
              "      <th></th>\n",
              "      <th>Values</th>\n",
              "      <th>Error</th>\n",
              "    </tr>\n",
              "  </thead>\n",
              "  <tbody>\n",
              "    <tr>\n",
              "      <th>Trapezoidal rule</th>\n",
              "      <td>1.255647</td>\n",
              "      <td>4.140625e-09</td>\n",
              "    </tr>\n",
              "    <tr>\n",
              "      <th>Simpsons 1/3 Rule</th>\n",
              "      <td>1.255647</td>\n",
              "      <td>2.220446e-16</td>\n",
              "    </tr>\n",
              "    <tr>\n",
              "      <th>Simpsons 3/8 Rule</th>\n",
              "      <td>1.255630</td>\n",
              "      <td>1.718816e-05</td>\n",
              "    </tr>\n",
              "    <tr>\n",
              "      <th>Montecarlo</th>\n",
              "      <td>1.252421</td>\n",
              "      <td>3.226009e-03</td>\n",
              "    </tr>\n",
              "    <tr>\n",
              "      <th>Romberg SP</th>\n",
              "      <td>1.255647</td>\n",
              "      <td>1.476597e-13</td>\n",
              "    </tr>\n",
              "    <tr>\n",
              "      <th>Simpson SP</th>\n",
              "      <td>1.255654</td>\n",
              "      <td>7.128089e-06</td>\n",
              "    </tr>\n",
              "    <tr>\n",
              "      <th>quad SP</th>\n",
              "      <td>1.255647</td>\n",
              "      <td>0.000000e+00</td>\n",
              "    </tr>\n",
              "    <tr>\n",
              "      <th>trapz SP</th>\n",
              "      <td>1.255820</td>\n",
              "      <td>1.724315e-04</td>\n",
              "    </tr>\n",
              "    <tr>\n",
              "      <th>Romberg</th>\n",
              "      <td>1.255647</td>\n",
              "      <td>2.220446e-16</td>\n",
              "    </tr>\n",
              "  </tbody>\n",
              "</table>\n",
              "</div>"
            ],
            "text/plain": [
              "                     Values         Error\n",
              "Trapezoidal rule   1.255647  4.140625e-09\n",
              "Simpsons 1/3 Rule  1.255647  2.220446e-16\n",
              "Simpsons 3/8 Rule  1.255630  1.718816e-05\n",
              "Montecarlo         1.252421  3.226009e-03\n",
              "Romberg SP         1.255647  1.476597e-13\n",
              "Simpson SP         1.255654  7.128089e-06\n",
              "quad SP            1.255647  0.000000e+00\n",
              "trapz SP           1.255820  1.724315e-04\n",
              "Romberg            1.255647  2.220446e-16"
            ]
          },
          "metadata": {
            "tags": []
          },
          "execution_count": 19
        }
      ]
    },
    {
      "cell_type": "markdown",
      "metadata": {
        "id": "d28N4QRcwBwO"
      },
      "source": [
        "##PART 3:"
      ]
    },
    {
      "cell_type": "markdown",
      "metadata": {
        "id": "8x5xbJx2rTLS"
      },
      "source": [
        "###Equation:"
      ]
    },
    {
      "cell_type": "markdown",
      "metadata": {
        "id": "gqJ58SEeoE8S"
      },
      "source": [
        "\n",
        " $$\\int_{0}^{\\pi/2}(sin(x)^4)dx $$\n",
        "Theoretical Value = 3pi/16"
      ]
    },
    {
      "cell_type": "markdown",
      "metadata": {
        "id": "7x2ZHcOhc7Rt"
      },
      "source": [
        "##Law of Big Numbers - Simpson's 3/8 "
      ]
    },
    {
      "cell_type": "code",
      "metadata": {
        "id": "Gn_fiHP-ufoA"
      },
      "source": [
        "big_num_simp_38 = []\n",
        "for bin in np.linspace (100000, 0, 100, endpoint=False):\n",
        "  big_num_simp_38.append(abs(((123/4)) - (simp_38(f2, a2,b2,bin))))"
      ],
      "execution_count": null,
      "outputs": []
    },
    {
      "cell_type": "code",
      "metadata": {
        "id": "e0U_wEBSUcRE",
        "colab": {
          "base_uri": "https://localhost:8080/",
          "height": 279
        },
        "outputId": "d149f6fc-5abc-4f01-e051-173b59fe69ad"
      },
      "source": [
        "y = big_num_simp_38\n",
        "x = np.arange(0,100)\n",
        "plt.plot(x, y,label='Error',c=\"r\")\n",
        "plt.xlabel(\" decreasing bin sizes by factor of 100.\")\n",
        "plt.ylabel(\"Error\")\n",
        "plt.legend()\n",
        "plt.grid()\n",
        "plt.show()"
      ],
      "execution_count": null,
      "outputs": [
        {
          "output_type": "display_data",
          "data": {
            "image/png": "[encoded data removed]",
            "text/plain": [
              "<Figure size 432x288 with 1 Axes>"
            ]
          },
          "metadata": {
            "tags": [],
            "needs_background": "light"
          }
        }
      ]
    },
    {
      "cell_type": "markdown",
      "metadata": {
        "id": "EIrxqTcXimTa"
      },
      "source": [
        "With the Monte Carlo Simulation, as the bin size increases, the overall accuracy also increases. As shown in the output plot above, this code has a downward trend from 1 to 100 interactions increasing the bin size by a factor of 100, meaning the higher the bin size, the higher accuracy it will have. "
      ]
    },
    {
      "cell_type": "markdown",
      "metadata": {
        "id": "VPIs9bPIexpw"
      },
      "source": [
        "##Law of Big Numbers - Monte Carlo Simulation"
      ]
    },
    {
      "cell_type": "code",
      "metadata": {
        "id": "fR7bHniue3Jy"
      },
      "source": [
        "big_num_m_c = []\n",
        "for bin in np.linspace (500, 10000, 100, endpoint=True):\n",
        "  big_num_m_c.append(abs(((123/4)) - (m_c(f2, a2,b2,bin))))"
      ],
      "execution_count": null,
      "outputs": []
    },
    {
      "cell_type": "code",
      "metadata": {
        "colab": {
          "base_uri": "https://localhost:8080/",
          "height": 279
        },
        "id": "S4bcRJ9ZfLSu",
        "outputId": "443bfe12-8402-4df9-da11-19b44e54f321"
      },
      "source": [
        "y = big_num_m_c\n",
        "x = np.arange(0,100)\n",
        "plt.plot(x, y,label='Error',c=\"b\")\n",
        "plt.xlabel(\" increasing bin sizes by factor of 100.\")\n",
        "plt.ylabel(\"Error\")\n",
        "plt.legend()\n",
        "plt.grid()\n",
        "plt.show()"
      ],
      "execution_count": null,
      "outputs": [
        {
          "output_type": "display_data",
          "data": {
            "image/png": "[encoded data removed]",
            "text/plain": [
              "<Figure size 432x288 with 1 Axes>"
            ]
          },
          "metadata": {
            "tags": [],
            "needs_background": "light"
          }
        }
      ]
    },
    {
      "cell_type": "markdown",
      "metadata": {
        "id": "U0ZXy-MBg3lh"
      },
      "source": [
        "With the Monte Carlo Simulation, as the bin size incerease the over all accuracy also increases, as shown in the plot at the top it has a downward trend from 1 to 100 interations incereasing the bin size by a factor of 100 meaning the larger the bin size the higher accuracy it will have.  "
      ]
    },
    {
      "cell_type": "markdown",
      "metadata": {
        "id": "lBXJ28tRwNJh"
      },
      "source": [
        "#### Reference"
      ]
    },
    {
      "cell_type": "markdown",
      "metadata": {
        "id": "hD5v5OHvwRMC"
      },
      "source": [
        "\n",
        "[1]  “numeth2021/NuMeth_6_Numerical_Integration.ipynb at main · dyjdlopez/numeth2021.” https://github.com/dyjdlopez/numeth2021 - Numerical Integration/NuMeth_6_Numerical_Integration.ipynb (accessed May 15, 2021).\n",
        "\n",
        "[2] “Romberg Integration.” https://mathsci2.appstate.edu/~wmcb/Class/4310/ClassNotes131/Romberg_Program_Listings.pdf (accessed May 16, 2021).\n",
        "\n",
        "[3]\tJ. Lambers, “Romberg Integration.” https://www.math.usm.edu/lamber`s/mat460/fall09/lecture29.pdf (accessed May 16, 2021).\n",
        "\n",
        "[4]\t“Numerical Integration - Romberg Integration - YouTube.” https://www.youtube.com/watch?v=vzo47UoDwDA (accessed May 16, 2021).\n",
        "\n",
        "[5] SciPy.org(2021) - https://docs.scipy.org/doc/scipy/reference/generated/scipy.integrate.quad.html (accessed May 16, 2021).\n",
        "\n",
        "[6] geeksforgeeks(2020) -https://www.geeksforgeeks.org/python-scipy-integrate-quad-method/ (accessed May 16, 2021)\n",
        "\n",
        "[7] tutorialpoint(2019)- https://www.tutorialspoint.com/scipy/scipy_integrate.htm (accessed May 16, 2021).\n",
        "\n",
        "[8] SciPy.org(2021) - https://docs.scipy.org/doc/scipy/reference/generated/scipy.integrate.trapezoid.html#scipy.integrate.trapezoid (accessed May 16, 2021)\n",
        "\n",
        "[9] math.ubc.ca/~pwalls/math-python/integration/trapezoid-rule/ (accessed May 16, 2021)\n",
        "\n",
        "[10] southampton.ac.uk(2020)- https://www.southampton.ac.uk/~fangohr/teaching/python/book/html/16-scipy.html (accessed May 16, 2021)\n",
        "\n",
        "[11] SciPy.org(2021)- https://docs.scipy.org/doc/scipy/reference/generated/scipy.integrate.simpson.html#scipy.integrate.simpson (accessed May 16, 2021)\n",
        "\n",
        "[12] math.ubc.ca(2018) - https://www.math.ubc.ca/~pwalls/math-python/integration/simpsons-rule/ (accessed May 16, 2021)\n",
        "\n",
        "[13] pythonnumericalmethods.berkeley.edu(2020) - https://pythonnumericalmethods.berkeley.edu/notebooks/Index.html (accessed May 16, 2021)\n",
        "\n"
      ]
    }
  ]
}