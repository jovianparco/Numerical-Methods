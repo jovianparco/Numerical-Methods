{
  "nbformat": 4,
  "nbformat_minor": 0,
  "metadata": {
    "colab": {
      "name": "Copy of Coding Activity 3: Roots of Linear Equation Coding Activity 3: Roots of Linear Equation.ipynb",
      "provenance": [],
      "include_colab_link": true
    },
    "kernelspec": {
      "name": "python3",
      "display_name": "Python 3"
    }
  },
  "cells": [
    {
      "cell_type": "markdown",
      "metadata": {
        "id": "view-in-github",
        "colab_type": "text"
      },
      "source": [
        "<a href=\"https://colab.research.google.com/github/jovianparco/Numerical-Methods/blob/main/Copy_of_Coding_Activity_3_Roots_of_Linear_Equation_Coding_Activity_3_Roots_of_Linear_Equation.ipynb\" target=\"_parent\"><img src=\"https://colab.research.google.com/assets/colab-badge.svg\" alt=\"Open In Colab\"/></a>"
      ]
    },
    {
      "cell_type": "code",
      "metadata": {
        "id": "Cufljd7Rde5s"
      },
      "source": [
        "import numpy as np\r\n",
        "import scipy as opt\r\n",
        "import matplotlib.pyplot as plt"
      ],
      "execution_count": null,
      "outputs": []
    },
    {
      "cell_type": "markdown",
      "metadata": {
        "id": "R5TFeymdfmko"
      },
      "source": [
        "### ACTIVITY 2.1\r\n",
        "1. Identify two more polynomials preferably orders higher than 2 and two transcendental functions. Write them in LaTex.\r\n",
        "2. Plot their graphs you may choose your own set of pre-images.\r\n",
        "3. Manually solve for their roots and plot them along the graph of the equation."
      ]
    },
    {
      "cell_type": "markdown",
      "metadata": {
        "id": "XBZyyCJVda1r"
      },
      "source": [
        "$$ F(x)=2x^3-5x^2 $$"
      ]
    },
    {
      "cell_type": "code",
      "metadata": {
        "colab": {
          "base_uri": "https://localhost:8080/",
          "height": 320
        },
        "id": "loPoZ8GWdUEX",
        "outputId": "dee5c82a-da1d-4e11-8bc1-fcdb13db4bca"
      },
      "source": [
        "def f(x): #function\r\n",
        "  return 2*x**3-5*x**2\r\n",
        "X = np.arange(-3,3,0.1,dtype=float) #boundary, incerement in the graph\r\n",
        "Y = f(X)\r\n",
        "x0, x1 = 0,2.5 #roots of the function\r\n",
        "# Grid in the graph\r\n",
        "plt.figure(figsize=(10,5))\r\n",
        "plt.plot(X,Y,color='dodgerblue')\r\n",
        "###  the x and y axes of the graph\r\n",
        "plt.axhline(color='black')\r\n",
        "plt.axvline(color='black')\r\n",
        "plt.grid()\r\n",
        "### plot the roots of the equation\r\n",
        "plt.scatter([x0,x1],[0,0], c='red', label='roots')\r\n",
        "\r\n",
        "plt.legend()\r\n",
        "plt.show()"
      ],
      "execution_count": null,
      "outputs": [
        {
          "output_type": "display_data",
          "data": {
            "image/png": "[encoded data removed]",
            "text/plain": [
              "<Figure size 720x360 with 1 Axes>"
            ]
          },
          "metadata": {
            "tags": [],
            "needs_background": "light"
          }
        }
      ]
    },
    {
      "cell_type": "markdown",
      "metadata": {
        "id": "ZCaKHJNMeX4c"
      },
      "source": [
        "$$ F(x)=8x^3+24x^2-32x $$"
      ]
    },
    {
      "cell_type": "code",
      "metadata": {
        "colab": {
          "base_uri": "https://localhost:8080/",
          "height": 320
        },
        "id": "t5UMfL3qeaWs",
        "outputId": "ae8348dd-7af5-47df-ffbd-3b044c7ff414"
      },
      "source": [
        "def f(x): #function\r\n",
        "  return x**3+3*x**2-x-4\r\n",
        "X = np.arange(-3,3,0.1,dtype=float) #boundary, incerement in the graph\r\n",
        "Y = f(X)\r\n",
        "x0, x1, x2 = -2.86, 1.1, -1.2 #roots of the function\r\n",
        "### Now let's plot the images against the pre-images\r\n",
        "plt.figure(figsize=(10,5))\r\n",
        "plt.plot(X,Y,color='dodgerblue')\r\n",
        "### show the x and y axes of the graph\r\n",
        "plt.axhline(color='black')\r\n",
        "plt.axvline(color='black')\r\n",
        "plt.grid()\r\n",
        "###  plot the roots of the equation\r\n",
        "plt.scatter([x0,x1,x2],[0,0,0], c='red', label='roots')\r\n",
        "\r\n",
        "plt.legend()\r\n",
        "plt.show()"
      ],
      "execution_count": null,
      "outputs": [
        {
          "output_type": "display_data",
          "data": {
            "image/png": "[encoded data removed]",
            "text/plain": [
              "<Figure size 720x360 with 1 Axes>"
            ]
          },
          "metadata": {
            "tags": [],
            "needs_background": "light"
          }
        }
      ]
    },
    {
      "cell_type": "markdown",
      "metadata": {
        "id": "c1pKnCwLedj2"
      },
      "source": [
        "$$F(x)= \\pi x^2 + 3$$"
      ]
    },
    {
      "cell_type": "code",
      "metadata": {
        "colab": {
          "base_uri": "https://localhost:8080/",
          "height": 320
        },
        "id": "P8xbm19qegBf",
        "outputId": "63f7b1d1-ea43-43cc-e2ad-aac17ddad1e3"
      },
      "source": [
        "def f(x): #function\r\n",
        "  return np.pi*x**2+3\r\n",
        "X = np.arange(-3,3,0.1,dtype=float) #boundary, incerement in the graph\r\n",
        "Y = f(X)\r\n",
        "x0, x1 = np.sqrt(3/np.pi),-np.sqrt(3/np.pi) \r\n",
        "###  plot the images against the pre-images\r\n",
        "plt.figure(figsize=(10,5))\r\n",
        "plt.plot(X,Y,color='dodgerblue')\r\n",
        "###  show the x and y axes of the graph\r\n",
        "plt.axhline(color='black')\r\n",
        "plt.axvline(color='black')\r\n",
        "plt.grid()\r\n",
        "###  plot the roots of the equation\r\n",
        "plt.scatter([x0,x1],[0,0], c='red', label='roots')\r\n",
        "\r\n",
        "plt.legend()\r\n",
        "plt.show()"
      ],
      "execution_count": null,
      "outputs": [
        {
          "output_type": "display_data",
          "data": {
            "image/png": "[encoded data removed]",
            "text/plain": [
              "<Figure size 720x360 with 1 Axes>"
            ]
          },
          "metadata": {
            "tags": [],
            "needs_background": "light"
          }
        }
      ]
    },
    {
      "cell_type": "markdown",
      "metadata": {
        "id": "oIXf0wCvdv85"
      },
      "source": [
        "$$F(x)= \\log{x}+1$$"
      ]
    },
    {
      "cell_type": "code",
      "metadata": {
        "colab": {
          "base_uri": "https://localhost:8080/",
          "height": 374
        },
        "id": "ECbmKclHd8a0",
        "outputId": "4d65d278-f96c-401c-c78a-cfc6fe8a773e"
      },
      "source": [
        "def f(x): #function\r\n",
        "  return np.log(x)\r\n",
        "X = np.arange(-3,3,0.01,dtype=float) #boundary, incerement in the graph\r\n",
        "Y = f(X)\r\n",
        "x0 = 1 #roots of the function\r\n",
        "###  plot the images against the pre-images\r\n",
        "plt.figure(figsize=(10,5))\r\n",
        "plt.plot(X,Y,color='dodgerblue')\r\n",
        "###  show the x and y axes of the graph\r\n",
        "plt.axhline(color='black')\r\n",
        "plt.axvline(color='black')\r\n",
        "plt.grid()\r\n",
        "### plot the roots of the equation\r\n",
        "plt.scatter([x0],[0], c='red', label='roots')\r\n",
        "\r\n",
        "plt.legend()\r\n",
        "plt.show()"
      ],
      "execution_count": null,
      "outputs": [
        {
          "output_type": "stream",
          "text": [
            "/usr/local/lib/python3.7/dist-packages/ipykernel_launcher.py:2: RuntimeWarning: invalid value encountered in log\n",
            "  \n"
          ],
          "name": "stderr"
        },
        {
          "output_type": "display_data",
          "data": {
            "image/png": "[encoded data removed]",
            "text/plain": [
              "<Figure size 720x360 with 1 Axes>"
            ]
          },
          "metadata": {
            "tags": [],
            "needs_background": "light"
          }
        }
      ]
    },
    {
      "cell_type": "markdown",
      "metadata": {
        "id": "MsV4Nln7gf6B"
      },
      "source": [
        "##MODULE FOR ROOTS OF LINEAR EQUATION"
      ]
    },
    {
      "cell_type": "markdown",
      "metadata": {
        "id": "1VtcsuIsgqZ0"
      },
      "source": [
        "### Created Brute Force Algorithm ($F(x)=0$)\r\n",
        "\r\n"
      ]
    },
    {
      "cell_type": "code",
      "metadata": {
        "id": "j5cWVChRguDX"
      },
      "source": [
        "def brute_forcefx(funct,start,n_roots,epochs=100,tol=1.0e-06,incre=1):\r\n",
        "  roots = []\r\n",
        "  for epoch in range(epochs):\r\n",
        "    if np.allclose(0,funct(start),atol=tol):\r\n",
        "      roots.append(start)\r\n",
        "      if len(roots) == n_roots:\r\n",
        "        return roots, epoch\r\n",
        "        break\r\n",
        "    if epoch == epochs-1:\r\n",
        "      epoch+1\r\n",
        "      return roots, epoch\r\n",
        "      break\r\n",
        "    start+=incre\r\n",
        "\r\n",
        "#### Test ####\r\n",
        "def f(x):\r\n",
        "  return  np.sin(2*x)-np.cos(2*x)\r\n",
        " \r\n",
        "def g(x):\r\n",
        "  return x**2+x-2\r\n",
        "       \r\n",
        "shit = brute_forcefx(f,-3,3,epochs=10000,tol=1.0e-02,incre=.01)"
      ],
      "execution_count": null,
      "outputs": []
    },
    {
      "cell_type": "markdown",
      "metadata": {
        "id": "zbYldAwVhGP0"
      },
      "source": [
        "### Created Brute Force Algorithm (In terms of X)"
      ]
    },
    {
      "cell_type": "code",
      "metadata": {
        "id": "Q1JesMidhGuB"
      },
      "source": [
        "def brute_forcef(funcs,n_roots,epochs=100,tol=1.0e-05):\r\n",
        "  epoch_list = []\r\n",
        "  roots = []\r\n",
        "  for func in funcs:\r\n",
        "    x = 0\r\n",
        "    for epoch in range(epochs):\r\n",
        "      x_prime = func(x)\r\n",
        "      if np.allclose(x, x_prime,tol):\r\n",
        "        roots.append(x_prime)\r\n",
        "        epoch_list.append(epoch)\r\n",
        "        break\r\n",
        "      x = x_prime\r\n",
        "    if len(roots) == n_roots:\r\n",
        "      return roots, epoch_list\r\n",
        "      break\r\n",
        "  if len(roots) < n_roots:\r\n",
        "    return roots, epoch_list"
      ],
      "execution_count": null,
      "outputs": []
    },
    {
      "cell_type": "markdown",
      "metadata": {
        "id": "QQBcvcnVhHOU"
      },
      "source": [
        "### Created Newton-Raphson Algorithm"
      ]
    },
    {
      "cell_type": "code",
      "metadata": {
        "id": "MNk3Mpq5hHk0"
      },
      "source": [
        "def newton_raphson(funct, N_roots, epochs = 100, start = 0, end = 100, rnd_off = 3, Print = False):\r\n",
        "\r\n",
        "  x_inits = range(start, end, 1) #range of x\r\n",
        "  \r\n",
        "  roots = []\r\n",
        "  epochs_re = []\r\n",
        "  root_epoch = []\r\n",
        "  root_epoch_fi = []\r\n",
        "\r\n",
        "  # loop for finding the root\r\n",
        "  for x_init in x_inits:\r\n",
        "    if len(roots) == N_roots:\r\n",
        "      break\r\n",
        "    x = x_init\r\n",
        "    for epoch in range(epochs):\r\n",
        "      derivative = ((funct(x + .1e-6)  - funct(x))/(.1e-6)) # Derivative formula\r\n",
        "\r\n",
        "      if derivative == 0: # catch statement if derivative is equal to zero\r\n",
        "        print(\"Derivative is equal to zero cannot proceed with operation\")\r\n",
        "        break\r\n",
        "\r\n",
        "      x_prime = x - (funct(x)/derivative)\r\n",
        "      if np.allclose(x, x_prime):\r\n",
        "        root_epoch.append([round(x,rnd_off),epoch])\r\n",
        "        break\r\n",
        "\r\n",
        "      x = x_prime\r\n",
        "\r\n",
        " # selects 1 root of similar roots and its epoch\r\n",
        "  for i in range(len(root_epoch)):\r\n",
        "    for l in range(len(root_epoch)):\r\n",
        "      if (i == l):\r\n",
        "        break\r\n",
        "      if (root_epoch[i][0] == root_epoch[l][0]):\r\n",
        "          del root_epoch[l]\r\n",
        "          root_epoch.insert(0,[0])\r\n",
        "\r\n",
        "  #gets the root and epoch of the equation\r\n",
        "  for x in range(len(root_epoch)):\r\n",
        "    if any(root_epoch[x]) == True:\r\n",
        "      root_epoch_fi.append(root_epoch[x])\r\n",
        "\r\n",
        "  #separate the roots and epoch and add them in their respective list\r\n",
        "  if N_roots <= len(root_epoch_fi):\r\n",
        "      for elem in range(N_roots):  \r\n",
        "        roots.append(root_epoch_fi[elem][0])\r\n",
        "        epochs_re.append(root_epoch_fi[elem][1])\r\n",
        "  else:\r\n",
        "      for elem in range(len(root_epoch_fi)):  \r\n",
        "        roots.append(root_epoch_fi[elem][0])\r\n",
        "        epochs_re.append(root_epoch_fi[elem][1])\r\n",
        "\r\n",
        " # Catch statement when there is no roots found\r\n",
        "  if len(roots) == False:\r\n",
        "    print(f\"There are no roots found, please readjust arguments, Expected Number of Roots:{N_roots}, start:{start}, end:{end}, or epochs:{epochs} or check the input function.\")\r\n",
        "    return f'ERROR! Expected is {N_roots}, while returend is {len(roots)}'\r\n",
        "\r\n",
        "  # Prints the root/s and its epoch where it was found\r\n",
        "  if Print == True:\r\n",
        "    print(f'  Roots   |   Epochs ')\r\n",
        "    for num in range(len(roots)):\r\n",
        "     print(f'  {roots[num]}   |     {epochs_re[num]}')\r\n",
        "  \r\n",
        "  else:\r\n",
        "    return epochs_re, roots\r\n",
        "\r\n"
      ],
      "execution_count": null,
      "outputs": []
    },
    {
      "cell_type": "markdown",
      "metadata": {
        "id": "1PpdAY-_jBdX"
      },
      "source": [
        "### Package and Module with examples"
      ]
    },
    {
      "cell_type": "code",
      "metadata": {
        "id": "GTYV6HhWwWRe"
      },
      "source": [
        "from package_san import module_one"
      ],
      "execution_count": null,
      "outputs": []
    },
    {
      "cell_type": "markdown",
      "metadata": {
        "id": "s78HeF7VwW_9"
      },
      "source": [
        "package_san was used to import the module_one that consists different function of the roots of linear equations which are in terms Brute Force Algorithm ( F(x)=0 ), Brute Force Algorithm (In terms of X) ,and Newton-Raphson Algorithm. "
      ]
    },
    {
      "cell_type": "code",
      "metadata": {
        "id": "SNgoWjHGjEo2"
      },
      "source": [
        "def f(x): return x**2+x-2\r\n",
        "module_one.brute_forcefx(f,0,2,epochs=100,tol=1.0e-06,incre=1)\r\n",
        "## output : ([-2, 1.0000000000000007], 30)  "
      ],
      "execution_count": null,
      "outputs": []
    },
    {
      "cell_type": "markdown",
      "metadata": {
        "id": "zs1QabG_wHwe"
      },
      "source": [
        "module_one was called and the function inside that was created was named brute_forcefx so that the function created can be easily used and not to code repeatedly through out the process. The output consist of the roots in a list type where the elements are integers, the epochs are integer type."
      ]
    },
    {
      "cell_type": "code",
      "metadata": {
        "id": "J3UhZwPItEw_"
      },
      "source": [
        "def f1(x): return 2-x**2\r\n",
        "def f2(x): return np.sqrt(2-x)\r\n",
        "f = [f1, f2]\r\n",
        "module_one.brute_forcef(f,2,epochs=100,tol=1.0e-05)\r\n",
        "## output: ([-2, 1.00000172977337], [2, 18])"
      ],
      "execution_count": null,
      "outputs": []
    },
    {
      "cell_type": "markdown",
      "metadata": {
        "id": "upIdsrnqymyq"
      },
      "source": [
        "module_one was called and the function inside that was created was named brute_forcef so that the function created can be easily used and not to code repeatedly through out the process. The output consist of the roots in a list type where the elements are integers, the epochs are also in a list with element as integers."
      ]
    },
    {
      "cell_type": "code",
      "metadata": {
        "id": "doyLxpVcx98R"
      },
      "source": [
        "def f(x): return 2*x**2 - 5*x - 3\r\n",
        "module_one.newton_raphson(f,2, Print = True)\r\n",
        "## output: \r\n",
        "  ## Roots   |   Epochs \r\n",
        "  ## -0.5   |     6\r\n",
        "   ## 3.0   |     9"
      ],
      "execution_count": null,
      "outputs": []
    },
    {
      "cell_type": "markdown",
      "metadata": {
        "id": "wGOQkxuiy4D1"
      },
      "source": [
        "module_one was called and the function inside that was created was named newton_raphson so that the function created can be easily used and not to code repeatedly through out the process. This function finds the root of some equations using the Newton-Raphson method. The output of the function when Print = False is a tuple in which inside the tuple the list of roots and epochs are incased. The order of the list is the list of epochs followed by the list of roots. If Print = True there would be a side-by-side visualization of the roots and epochs."
      ]
    }
  ]
}