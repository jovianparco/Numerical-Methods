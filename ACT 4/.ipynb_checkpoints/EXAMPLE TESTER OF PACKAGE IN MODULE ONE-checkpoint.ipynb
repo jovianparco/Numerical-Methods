{
 "cells": [
  {
   "cell_type": "code",
   "execution_count": 20,
   "metadata": {
    "scrolled": false
   },
   "outputs": [],
   "source": [
    "from package_san import module_one\n",
    "import numpy as np\n",
    "import scipy as opt\n",
    "import matplotlib.pyplot as plt\n"
   ]
  },
  {
   "cell_type": "code",
   "execution_count": 21,
   "metadata": {},
   "outputs": [
    {
     "data": {
      "text/plain": [
       "([-2, 1], 3)"
      ]
     },
     "execution_count": 21,
     "metadata": {},
     "output_type": "execute_result"
    }
   ],
   "source": [
    "def f(x): return x**2+x-2\n",
    "module_one.brute_forcefx(f,-2,2,epochs=100,tol=1.0e-06,incre=1)"
   ]
  },
  {
   "cell_type": "code",
   "execution_count": 22,
   "metadata": {},
   "outputs": [
    {
     "data": {
      "text/plain": [
       "([-2, 1.00000172977337], [2, 18])"
      ]
     },
     "execution_count": 22,
     "metadata": {},
     "output_type": "execute_result"
    }
   ],
   "source": [
    "def f1(x): return 2-x**2\n",
    "def f2(x): return np.sqrt(2-x)\n",
    "f = [f1, f2]\n",
    "module_one.brute_forcef(f,2)"
   ]
  },
  {
   "cell_type": "code",
   "execution_count": 23,
   "metadata": {},
   "outputs": [
    {
     "name": "stdout",
     "output_type": "stream",
     "text": [
      "  Roots   |   Epochs \n",
      "  -0.5   |     6\n",
      "  3.0   |     9\n"
     ]
    }
   ],
   "source": [
    "def f(x): return 2*x**2 - 5*x - 3\n",
    "module_one.newton_raphson(f,2, Print = True)"
   ]
  },
  {
   "cell_type": "code",
   "execution_count": 24,
   "metadata": {
    "scrolled": true
   },
   "outputs": [
    {
     "data": {
      "text/plain": [
       "([0.393, -2.749], [24])"
      ]
     },
     "execution_count": 24,
     "metadata": {},
     "output_type": "execute_result"
    }
   ],
   "source": [
    "def f(x):\n",
    "  return  np.sin(2*x)-np.cos(2*x)\n",
    "\n",
    "def g(x):\n",
    "  return x**2+x-2\n",
    "\n",
    "module_one.bisection(f,[-5,5],2)"
   ]
  },
  {
   "cell_type": "code",
   "execution_count": 33,
   "metadata": {},
   "outputs": [
    {
     "name": "stdout",
     "output_type": "stream",
     "text": [
      "  Roots   |   Position \n",
      "  -2   |     0\n",
      "  1   |     0\n"
     ]
    }
   ],
   "source": [
    "def f(x): return x**2+x-2 #X\n",
    "module_one.regula_falsi(f,2, Print =True)"
   ]
  },
  {
   "cell_type": "code",
   "execution_count": 8,
   "metadata": {},
   "outputs": [
    {
     "data": {
      "text/plain": [
       "([1, -2], [0])"
      ]
     },
     "execution_count": 8,
     "metadata": {},
     "output_type": "execute_result"
    }
   ],
   "source": [
    "def f(x):\n",
    "  return  np.sin(2*x)-np.cos(2*x)\n",
    " \n",
    "def g(x):\n",
    "  return x**2+x-2\n",
    "\n",
    "module_one.secant(g,[-5,5],2)"
   ]
  }
 ],
 "metadata": {
  "kernelspec": {
   "display_name": "Python 3",
   "language": "python",
   "name": "python3"
  },
  "language_info": {
   "codemirror_mode": {
    "name": "ipython",
    "version": 3
   },
   "file_extension": ".py",
   "mimetype": "text/x-python",
   "name": "python",
   "nbconvert_exporter": "python",
   "pygments_lexer": "ipython3",
   "version": "3.8.3"
  }
 },
 "nbformat": 4,
 "nbformat_minor": 4
}
