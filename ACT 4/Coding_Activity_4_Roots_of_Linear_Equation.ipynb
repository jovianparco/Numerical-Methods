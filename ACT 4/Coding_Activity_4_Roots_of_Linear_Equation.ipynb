{
  "nbformat": 4,
  "nbformat_minor": 0,
  "metadata": {
    "colab": {
      "name": "Coding Activity 4: Roots of Linear Equation.ipynb",
      "provenance": [],
      "collapsed_sections": [],
      "include_colab_link": true
    },
    "kernelspec": {
      "name": "python3",
      "display_name": "Python 3"
    }
  },
  "cells": [
    {
      "cell_type": "markdown",
      "metadata": {
        "id": "view-in-github",
        "colab_type": "text"
      },
      "source": [
        "<a href=\"https://colab.research.google.com/github/Majelyn/Coding-Activity-4-Roots-of-Linear-Equation-Coding-Activity-4-Roots-of-Linear-Equation/blob/main/Coding_Activity_4_Roots_of_Linear_Equation.ipynb\" target=\"_parent\"><img src=\"https://colab.research.google.com/assets/colab-badge.svg\" alt=\"Open In Colab\"/></a>"
      ]
    },
    {
      "cell_type": "code",
      "metadata": {
        "id": "WdX58f_qM2xw"
      },
      "source": [
        "import numpy as np\r\n",
        "import scipy as opt\r\n",
        "import matplotlib.pyplot as plt"
      ],
      "execution_count": null,
      "outputs": []
    },
    {
      "cell_type": "markdown",
      "metadata": {
        "id": "onGMcCQ1NO6l"
      },
      "source": [
        "## 2.5 Bisection Method"
      ]
    },
    {
      "cell_type": "code",
      "metadata": {
        "id": "uwwZY1bTNP3G"
      },
      "source": [
        "def bisection(funct,intval,n_roots,rnd_off = 3,bilim=100,tol=1.0e-06):\r\n",
        "    end_bisect = []\r\n",
        "    roots = [] \r\n",
        "    if len(intval) != 2 or intval [0] >= intval [1]:\r\n",
        "        return \"Something Wrong With The Interval\"\r\n",
        "    for loop in range(intval[1]-intval[0]):\r\n",
        "        i1, i2 = intval[0], intval[1]\r\n",
        "        y1, y2 = funct(i1), funct(i2)\r\n",
        "        if np.sign(y1) == np.sign(y2):\r\n",
        "            pass\r\n",
        "        else:\r\n",
        "            for bisect in range(bilim):\r\n",
        "                midp = np.mean([i1,i2])\r\n",
        "                ymid = funct(midp)\r\n",
        "                y1 = funct(i1)\r\n",
        "                if np.allclose(0,y1, atol=tol):\r\n",
        "                    roots.append(round(i1,rnd_off)) \r\n",
        "                    end_bisect.append(bisect)\r\n",
        "                    break\r\n",
        "                elif np.sign(y1) != np.sign(ymid):\r\n",
        "                    i2 = midp\r\n",
        "                else:\r\n",
        "                    i1 = midp\r\n",
        "\r\n",
        "        if len(roots) == n_roots:\r\n",
        "            return list(set(roots)), list(set(end_bisect))\r\n",
        "        else:\r\n",
        "            intval[1], intval[0] = intval[1], intval[0]+1\r\n",
        "        \r\n",
        "    if len(roots) < bilim-1:\r\n",
        "        return list(set(roots)), list(set(end_bisect))\r\n",
        "    "
      ],
      "execution_count": null,
      "outputs": []
    },
    {
      "cell_type": "markdown",
      "metadata": {
        "id": "afkNVOGaNUGp"
      },
      "source": [
        "## 2.6 Regula Falsi (False Position) Method"
      ]
    },
    {
      "cell_type": "code",
      "metadata": {
        "id": "aFihqAxLNlpu"
      },
      "source": [
        "def regula_falsi(funct, N_roots, pos = range(0,100), a_range = range(-2,10,1), b_range = range(0,10,1), rnd_off = 3, Print = False):\r\n",
        "  roots = []\r\n",
        "  posn = []\r\n",
        "  unsort_root_pos = []\r\n",
        "  fi_root_pos = []\r\n",
        "\r\n",
        "  for b in b_range:\r\n",
        "    for a in a_range:\r\n",
        "      i = b/(3*5 + 1e-10)\r\n",
        "      b += i\r\n",
        "      y1, y2 = funct(a), funct(b)\r\n",
        "      if np.allclose(0,y1): unsort_root_pos.append([a,0])\r\n",
        "      elif np.allclose(0,y2): unsort_root_pos.append([b,0])\r\n",
        "      elif np.sign(y1) != np.sign(y2):\r\n",
        "        for p in pos: \r\n",
        "          c = b - (funct(b)*(b-a))/(funct(b)-funct(a)) ##false root\r\n",
        "          if np.allclose(0,funct(c), 1e-06):\r\n",
        "            unsort_root_pos.append([round(c,3),p]) \r\n",
        "            break\r\n",
        "          if np.sign(funct(a)) != np.sign(funct(c)): b,y2 = c,funct(c)\r\n",
        "          else: a,y1 = c,funct(c)\r\n",
        "      else:\r\n",
        "        pass \r\n",
        "\r\n",
        "  #delete common roots and their position\r\n",
        "  for i in range(len(unsort_root_pos)):\r\n",
        "    for l in range(len(unsort_root_pos)):\r\n",
        "      if (i == l):\r\n",
        "        break\r\n",
        "      if (unsort_root_pos[i][0] == unsort_root_pos[l][0]):\r\n",
        "          del unsort_root_pos[l]\r\n",
        "          unsort_root_pos.insert(0,[0])\r\n",
        "\r\n",
        "  #gets the root and position of the equation\r\n",
        "  for x in range(len(unsort_root_pos)):\r\n",
        "    if any(unsort_root_pos[x]) == True:\r\n",
        "      fi_root_pos.append(unsort_root_pos[x])\r\n",
        "\r\n",
        "  #separate the roots and position and add them in their respective list\r\n",
        "  if N_roots <= len(fi_root_pos):\r\n",
        "      for elem in range(N_roots):  \r\n",
        "        roots.append(fi_root_pos[elem][0])\r\n",
        "        posn.append(fi_root_pos[elem][1])\r\n",
        "  else:\r\n",
        "      for elem in range(len(fi_root_pos)):  \r\n",
        "        roots.append(fi_root_pos[elem][0])\r\n",
        "        posn.append(fi_root_pos[elem][1])\r\n",
        "\r\n",
        "  # Catch statement when there is no roots found\r\n",
        "  if len(roots) < N_roots:\r\n",
        "    print(f\"Warning! The roots found does not meet the number of expected roots please readjust arguments, Expected Number of Roots:{N_roots}, a_range:{a_range}, b_range:{b_range}, or pos:{pos} or check the input function.\")\r\n",
        "    print(\"Note: Make sure that the equation used passes through the negative and positive x-axis or no roots would be found.\")\r\n",
        "\r\n",
        "  # Prints the root/s and its position where it was found\r\n",
        "  if Print == True:\r\n",
        "    print(f'  Roots   |   Position ')\r\n",
        "    for num in range(len(roots)):\r\n",
        "      print(f'  {roots[num]}   |     {posn[num]}')\r\n",
        "\r\n",
        "  else:\r\n",
        "    return posn, roots"
      ],
      "execution_count": null,
      "outputs": []
    },
    {
      "cell_type": "markdown",
      "metadata": {
        "id": "loLmUGC2NvO8"
      },
      "source": [
        "## 2.7 Secant Method\r\n"
      ]
    },
    {
      "cell_type": "code",
      "metadata": {
        "id": "p7zSVGQ5N2PT"
      },
      "source": [
        "def secant(funct,intval,n_roots,rnd_off = 3,bilim=100,tol=1.0e-06):\r\n",
        "    end_secant = []\r\n",
        "    roots = [] \r\n",
        "    if len(intval) != 2 or intval [0] >= intval [1]:\r\n",
        "        return \"Something Wrong With The Input Interval\"\r\n",
        "    for loop in range(intval[1]-intval[0]):\r\n",
        "        i1, i2 = intval[0], intval[1]\r\n",
        "        y1, y2 = funct(i1), funct(i2)\r\n",
        "        if np.sign(y1) == np.sign(y2):\r\n",
        "            pass\r\n",
        "        else:\r\n",
        "            for secant in range(bilim):\r\n",
        "                midp = (i1*y2 - i2*y1)/(y2 - y1)\r\n",
        "                ymid = funct(midp)\r\n",
        "                y1 = funct(i1)\r\n",
        "                if np.allclose(0,y1, atol=tol):\r\n",
        "                    roots.append(round(i1,rnd_off)) \r\n",
        "                    end_secant.append(secant)\r\n",
        "                    break\r\n",
        "                elif np.sign(y1) != np.sign(ymid):\r\n",
        "                    i2 = midp\r\n",
        "                else:\r\n",
        "                    i1 = midp\r\n",
        "\r\n",
        "        if len(roots) == n_roots:\r\n",
        "            return list(set(roots)), list(set(end_secant))\r\n",
        "        else:\r\n",
        "            intval[1], intval[0] = intval[1], intval[0]+1\r\n",
        "        \r\n",
        "    if len(roots) < bilim-1:\r\n",
        "        return list(set(roots)), list(set(end_secant))\r\n"
      ],
      "execution_count": null,
      "outputs": []
    },
    {
      "cell_type": "markdown",
      "metadata": {
        "id": "3LK9cbZCN90t"
      },
      "source": [
        "### Package and Module with examples"
      ]
    },
    {
      "cell_type": "code",
      "metadata": {
        "id": "LBCyY9UUN_4L"
      },
      "source": [
        "from package_san import module_one"
      ],
      "execution_count": null,
      "outputs": []
    },
    {
      "cell_type": "markdown",
      "metadata": {
        "id": "PoiypasnOWxE"
      },
      "source": [
        "package_san is a collection of created files of function in python and  was used to import the module_one that consists different function of the roots of linear equations which are in terms of Bisection Method, Regula Falsi Method, and Secant method\r\n"
      ]
    },
    {
      "cell_type": "code",
      "metadata": {
        "id": "XnTveWn5SGTg"
      },
      "source": [
        "def f(x):\r\n",
        "  return  np.sin(2*x)-np.cos(2*x)\r\n",
        "\r\n",
        "def g(x):\r\n",
        "  return x**2+x-2\r\n",
        "\r\n",
        "module_one.bisection(f,[-5,5],2)\r\n",
        "#output:([0.393, -2.749], [24])"
      ],
      "execution_count": null,
      "outputs": []
    },
    {
      "cell_type": "markdown",
      "metadata": {
        "id": "nXyE2MWSSeLU"
      },
      "source": [
        "module_one was called and the function inside that was created was named bisection so that the function created can be easily used and not to code repeatedly through out the process. The Bisection algorithm is a method to get the roots of an equation; it uses the numerical sign to\r\n",
        "its advantage, where the difference between the signs can indicate how close or far the roots of the equations are, the return variable is \"roots\" and \"end_bisect\" which is list where the elements are integers.\r\n",
        " "
      ]
    },
    {
      "cell_type": "code",
      "metadata": {
        "colab": {
          "base_uri": "https://localhost:8080/",
          "height": 197
        },
        "id": "zIYSFygmYhBb",
        "outputId": "cf5a437b-868d-4789-9743-0cde5f8cc371"
      },
      "source": [
        "def f(x): return x**2+x-2 #X\r\n",
        "module_one.regula_falsi(f,2, Print =True)\r\n",
        "#output:  \r\n",
        "Roots  |   Position \r\n",
        "  -2   |     0\r\n",
        "  1    |     0"
      ],
      "execution_count": 1,
      "outputs": [
        {
          "output_type": "error",
          "ename": "NameError",
          "evalue": "ignored",
          "traceback": [
            "\u001b[0;31m---------------------------------------------------------------------------\u001b[0m",
            "\u001b[0;31mNameError\u001b[0m                                 Traceback (most recent call last)",
            "\u001b[0;32m<ipython-input-1-f9cbc0ed6dc6>\u001b[0m in \u001b[0;36m<module>\u001b[0;34m()\u001b[0m\n\u001b[1;32m      1\u001b[0m \u001b[0;32mdef\u001b[0m \u001b[0mf\u001b[0m\u001b[0;34m(\u001b[0m\u001b[0mx\u001b[0m\u001b[0;34m)\u001b[0m\u001b[0;34m:\u001b[0m \u001b[0;32mreturn\u001b[0m \u001b[0mx\u001b[0m\u001b[0;34m**\u001b[0m\u001b[0;36m2\u001b[0m\u001b[0;34m+\u001b[0m\u001b[0mx\u001b[0m\u001b[0;34m-\u001b[0m\u001b[0;36m2\u001b[0m \u001b[0;31m#X\u001b[0m\u001b[0;34m\u001b[0m\u001b[0;34m\u001b[0m\u001b[0m\n\u001b[0;32m----> 2\u001b[0;31m \u001b[0mmodule_one\u001b[0m\u001b[0;34m.\u001b[0m\u001b[0mregula_falsi\u001b[0m\u001b[0;34m(\u001b[0m\u001b[0mf\u001b[0m\u001b[0;34m,\u001b[0m \u001b[0;36m2\u001b[0m\u001b[0;34m,\u001b[0m \u001b[0mpos\u001b[0m \u001b[0;34m=\u001b[0m \u001b[0mrange\u001b[0m\u001b[0;34m(\u001b[0m\u001b[0;36m0\u001b[0m\u001b[0;34m,\u001b[0m\u001b[0;36m100\u001b[0m\u001b[0;34m)\u001b[0m\u001b[0;34m,\u001b[0m \u001b[0ma_range\u001b[0m \u001b[0;34m=\u001b[0m \u001b[0mrange\u001b[0m\u001b[0;34m(\u001b[0m\u001b[0;34m-\u001b[0m\u001b[0;36m2\u001b[0m\u001b[0;34m,\u001b[0m\u001b[0;36m10\u001b[0m\u001b[0;34m,\u001b[0m\u001b[0;36m1\u001b[0m\u001b[0;34m)\u001b[0m\u001b[0;34m,\u001b[0m \u001b[0mb_range\u001b[0m \u001b[0;34m=\u001b[0m \u001b[0mrange\u001b[0m\u001b[0;34m(\u001b[0m\u001b[0;36m0\u001b[0m\u001b[0;34m,\u001b[0m\u001b[0;36m10\u001b[0m\u001b[0;34m,\u001b[0m\u001b[0;36m1\u001b[0m\u001b[0;34m)\u001b[0m\u001b[0;34m,\u001b[0m \u001b[0mrnd_off\u001b[0m \u001b[0;34m=\u001b[0m \u001b[0;36m3\u001b[0m\u001b[0;34m,\u001b[0m \u001b[0mPrint\u001b[0m \u001b[0;34m=\u001b[0m \u001b[0;32mFalse\u001b[0m\u001b[0;34m)\u001b[0m\u001b[0;34m\u001b[0m\u001b[0;34m\u001b[0m\u001b[0m\n\u001b[0m\u001b[1;32m      3\u001b[0m \u001b[0;31m#output:\u001b[0m\u001b[0;34m\u001b[0m\u001b[0;34m\u001b[0m\u001b[0;34m\u001b[0m\u001b[0m\n",
            "\u001b[0;31mNameError\u001b[0m: name 'module_one' is not defined"
          ]
        }
      ]
    },
    {
      "cell_type": "markdown",
      "metadata": {
        "id": "uWUlAlHhZ1NR"
      },
      "source": [
        "module_one was called and the function inside that was created was named regula_falsi so that the function created can be easily used and not to code repeatedly through out the process. The Regula falsi or false position method is a method to find the roots of an equation by taking interval a and b in finding c and if f(c) is equal or extremely close to 0 then c is a root of the equation.  The equation used to find c is $c=b-\\frac{f(b)⋅(b-a)}{f(b) - f(a)}.$ The output of the equation without Print = True is a tuple in which a list of the positions of the roots and list of the roots are incased in. When if Print = True the output would be a side-by-side vizualization of the roots and its position."
      ]
    },
    {
      "cell_type": "code",
      "metadata": {
        "id": "LKWbhEdSSeit"
      },
      "source": [
        "def f(x):\r\n",
        "  return  np.sin(2*x)-np.cos(2*x)\r\n",
        " \r\n",
        "def g(x):\r\n",
        "  return x**2+x-2\r\n",
        "\r\n",
        "module_one.secant(g,[-5,5],2)\r\n",
        "#output: ([1, -2], [0])"
      ],
      "execution_count": null,
      "outputs": []
    },
    {
      "cell_type": "markdown",
      "metadata": {
        "id": "Jbyn3FUnZ8jE"
      },
      "source": [
        "module_one was called and the function inside that was created was named secant so that the function created can be easily used and not to code repeatedly through out the process. The secant method is a root-finding rule that uses a succession of roots of secant lines to raised approximate of a root to perform function of f. The secant method are often thought of as a finite-difference approximation of Newton's method. the return value are roots, where it will store the roots, and end_secant which is list. the elements are in integers type."
      ]
    }
  ]
}