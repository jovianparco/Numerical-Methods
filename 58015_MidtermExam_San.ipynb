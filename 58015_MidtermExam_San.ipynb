{
  "nbformat": 4,
  "nbformat_minor": 0,
  "metadata": {
    "colab": {
      "name": "58015_MidtermExam_San.ipynb",
      "provenance": [],
      "collapsed_sections": [],
      "include_colab_link": true
    },
    "kernelspec": {
      "display_name": "Python 3",
      "name": "python3"
    },
    "language_info": {
      "name": "python"
    }
  },
  "cells": [
    {
      "cell_type": "markdown",
      "metadata": {
        "id": "view-in-github",
        "colab_type": "text"
      },
      "source": [
        "<a href=\"https://colab.research.google.com/github/jovianparco/Numerical-Methods/blob/main/58015_MidtermExam_San.ipynb\" target=\"_parent\"><img src=\"https://colab.research.google.com/assets/colab-badge.svg\" alt=\"Open In Colab\"/></a>"
      ]
    },
    {
      "cell_type": "code",
      "metadata": {
        "id": "HwsSXlRONcxR"
      },
      "source": [
        "import numpy as np\n",
        "import matplotlib.pyplot as plt\n",
        "%matplotlib inline"
      ],
      "execution_count": null,
      "outputs": []
    },
    {
      "cell_type": "markdown",
      "metadata": {
        "id": "mN6dmJOsm9hI"
      },
      "source": [
        "##SYSTEM OF LINEAR EQUATIONS:"
      ]
    },
    {
      "cell_type": "markdown",
      "metadata": {
        "id": "RjxGP8dnnIne"
      },
      "source": [
        "###Word Problem:"
      ]
    },
    {
      "cell_type": "markdown",
      "metadata": {
        "id": "7lpeABy7mtLw"
      },
      "source": [
        "At a carry-out pizza restaurant, an order of 3 slices of pizza, 4 breadsticks, and 2 juice drinks costs 13.35 dollars.\n",
        "A second order of 5 slices of pizza, 2 breadsticks, and 3 juice drinks cost 19.50 dollars . \n",
        "If four breadsticks and a juice drink cost $.30 more than a slice of pizza, what is the cost of each item?​[1]"
      ]
    },
    {
      "cell_type": "markdown",
      "metadata": {
        "id": "15fy_5W8nQRl"
      },
      "source": [
        "######Equation/Representation:"
      ]
    },
    {
      "cell_type": "markdown",
      "metadata": {
        "id": "BJTB-zahnWXA"
      },
      "source": [
        "<i>Let:<br>a= slices of pizza  , b= breadsticks   , c=  juice drinks\n",
        "<br>C₁: 3a + 4b + 2c = 13.35 dollars\n",
        "<br>C₂: 5a + 2b + 3c = 19.50 dollars\n",
        "<br>C₃: a - 4b - c  = -0.30 dollars"
      ]
    },
    {
      "cell_type": "code",
      "metadata": {
        "id": "YGQn7A8VwUMB"
      },
      "source": [
        "food_drinks = np.array([\n",
        "                        [3,4,2],\n",
        "                        [5,2,3],\n",
        "                        [1,-4,-1]\n",
        "                        ])\n",
        "total = np.array([\n",
        "                  [13.35],\n",
        "                  [19.50],\n",
        "                  [-0.30]\n",
        "                  ])"
      ],
      "execution_count": null,
      "outputs": []
    },
    {
      "cell_type": "markdown",
      "metadata": {
        "id": "zqrUZ6GjxSe6"
      },
      "source": [
        "###Standard bracketed form"
      ]
    },
    {
      "cell_type": "markdown",
      "metadata": {
        "id": "khyZgk9TB1gT"
      },
      "source": [
        "$$\n",
        "\\left\\{\n",
        "    \\begin{array}\\\\\n",
        "        3a+4b+2c=13.35\\\\ \n",
        "        5a+2b+3c=19.50 \\\\\n",
        "        a- 4b -c=-0.30\n",
        "    \\end{array}\n",
        "\\right. $$"
      ]
    },
    {
      "cell_type": "markdown",
      "metadata": {
        "id": "5o5ihNAZxStz"
      },
      "source": [
        "###Linear Combination form (Matrix)##"
      ]
    },
    {
      "cell_type": "markdown",
      "metadata": {
        "id": "kaI3ETZTCxiu"
      },
      "source": [
        "$$\n",
        "\\begin{bmatrix}3&4&2\\\\5&2&3\\\\1&{-4}&{-1}\\end{bmatrix} \\cdot \\begin{bmatrix}a\\\\ b\\\\ c\\\\\\end{bmatrix} = \\begin{bmatrix}13.35\\\\19.50\\\\-0.30\\end{bmatrix}\n",
        "$$"
      ]
    },
    {
      "cell_type": "markdown",
      "metadata": {
        "id": "hmhyItcXeNPY"
      },
      "source": [
        "###Vector Visualization"
      ]
    },
    {
      "cell_type": "code",
      "metadata": {
        "colab": {
          "base_uri": "https://localhost:8080/",
          "height": 248
        },
        "id": "kY8xdXQB8ncG",
        "outputId": "bfde24ea-cc22-4c1d-82f1-e0f5473bfa22"
      },
      "source": [
        "########## FIG REPRESENTATION  #########\n",
        "fig = plt.figure()\n",
        "ax = fig.add_subplot(111, projection='3d')\n",
        "\n",
        "x, y = np.linspace(-10,10,100), np.linspace(-10,10,100)\n",
        "X, Y = np.meshgrid(x,y)\n",
        "Z1 = (13.25 - 3*X - 4*Y)/2 \n",
        "Z2 = (19.50 - 5*X + 3*Y) / 3\n",
        "Z3 = (30 + X - 4*Y)\n",
        "\n",
        "ax.plot_surface(X,Y,Z1, alpha=0.5)\n",
        "ax.plot_surface(X,Y,Z2, alpha=0.5)\n",
        "ax.plot_surface(X,Y,Z3, alpha=0.5)\n",
        "\n",
        "plt.show()"
      ],
      "execution_count": null,
      "outputs": [
        {
          "output_type": "display_data",
          "data": {
            "image/png": "[encoded data removed]",
            "text/plain": [
              "<Figure size 432x288 with 1 Axes>"
            ]
          },
          "metadata": {
            "tags": [],
            "needs_background": "light"
          }
        }
      ]
    },
    {
      "cell_type": "markdown",
      "metadata": {
        "id": "NSZrWPbetkxV"
      },
      "source": [
        "###Programmed Algorithm"
      ]
    },
    {
      "cell_type": "code",
      "metadata": {
        "colab": {
          "base_uri": "https://localhost:8080/"
        },
        "id": "kXp7gJ4ZNjCY",
        "outputId": "edfddec7-49e5-4c86-b66c-dd466d940b5c"
      },
      "source": [
        "def sle(term,expression):\n",
        "  lister = list()\n",
        "  incr = 0\n",
        "  ans = np.linalg.inv(term) @ expression\n",
        "  for nterm in ans:\n",
        "    incr= incr + 1\n",
        "    lister.append(\"{} Variable is Equal to {}\".format(incr,str(nterm).lstrip('[').rstrip(']')))\n",
        "  return(lister)\n",
        "\n",
        "sle(food_drinks,total)"
      ],
      "execution_count": null,
      "outputs": [
        {
          "output_type": "execute_result",
          "data": {
            "text/plain": [
              "['1 Variable is Equal to 2.95',\n",
              " '2 Variable is Equal to 0.5',\n",
              " '3 Variable is Equal to 1.25']"
            ]
          },
          "metadata": {
            "tags": []
          },
          "execution_count": 188
        }
      ]
    },
    {
      "cell_type": "markdown",
      "metadata": {
        "id": "Livm5hDJ06yW"
      },
      "source": [
        "##CURVE FITTING:\n"
      ]
    },
    {
      "cell_type": "markdown",
      "metadata": {
        "id": "ocAkTDaH1Ybl"
      },
      "source": [
        "###Importing Libraries\n"
      ]
    },
    {
      "cell_type": "code",
      "metadata": {
        "id": "zeO68tKP1jGc"
      },
      "source": [
        "import pandas as pd  \n",
        "import numpy as np  \n",
        "import matplotlib.pyplot as plt  \n",
        "import seaborn as sns \n",
        "from sklearn.model_selection import train_test_split \n",
        "from sklearn import datasets\n",
        "from sklearn import linear_model\n",
        "from sklearn import metrics\n",
        "from sklearn.preprocessing import PolynomialFeatures\n",
        "from sklearn.linear_model import LinearRegression"
      ],
      "execution_count": null,
      "outputs": []
    },
    {
      "cell_type": "markdown",
      "metadata": {
        "id": "mPIFB9AJ1n_n"
      },
      "source": [
        "###Loading Dataset\n"
      ]
    },
    {
      "cell_type": "code",
      "metadata": {
        "id": "e2kuiLW-1sg0"
      },
      "source": [
        "diabetes_df = datasets.load_diabetes()"
      ],
      "execution_count": null,
      "outputs": []
    },
    {
      "cell_type": "markdown",
      "metadata": {
        "id": "JOeBAcUs1tGK"
      },
      "source": [
        "###Describing Dataset\n"
      ]
    },
    {
      "cell_type": "code",
      "metadata": {
        "colab": {
          "base_uri": "https://localhost:8080/"
        },
        "id": "JIZrbQex1zje",
        "outputId": "6057cedc-e32b-4d06-ac5f-c20c76c6774b"
      },
      "source": [
        "diabetes = pd.DataFrame(diabetes_df.data, columns=diabetes_df.feature_names)\n",
        "diabetes_target = pd.Series(diabetes_df.target)\n",
        "print(diabetes_df.DESCR)"
      ],
      "execution_count": null,
      "outputs": [
        {
          "output_type": "stream",
          "text": [
            ".. _diabetes_dataset:\n",
            "\n",
            "Diabetes dataset\n",
            "----------------\n",
            "\n",
            "Ten baseline variables, age, sex, body mass index, average blood\n",
            "pressure, and six blood serum measurements were obtained for each of n =\n",
            "442 diabetes patients, as well as the response of interest, a\n",
            "quantitative measure of disease progression one year after baseline.\n",
            "\n",
            "**Data Set Characteristics:**\n",
            "\n",
            "  :Number of Instances: 442\n",
            "\n",
            "  :Number of Attributes: First 10 columns are numeric predictive values\n",
            "\n",
            "  :Target: Column 11 is a quantitative measure of disease progression one year after baseline\n",
            "\n",
            "  :Attribute Information:\n",
            "      - Age\n",
            "      - Sex\n",
            "      - Body mass index\n",
            "      - Average blood pressure\n",
            "      - S1\n",
            "      - S2\n",
            "      - S3\n",
            "      - S4\n",
            "      - S5\n",
            "      - S6\n",
            "\n",
            "Note: Each of these 10 feature variables have been mean centered and scaled by the standard deviation times `n_samples` (i.e. the sum of squares of each column totals 1).\n",
            "\n",
            "Source URL:\n",
            "https://www4.stat.ncsu.edu/~boos/var.select/diabetes.html\n",
            "\n",
            "For more information see:\n",
            "Bradley Efron, Trevor Hastie, Iain Johnstone and Robert Tibshirani (2004) \"Least Angle Regression,\" Annals of Statistics (with discussion), 407-499.\n",
            "(https://web.stanford.edu/~hastie/Papers/LARS/LeastAngle_2002.pdf)\n"
          ],
          "name": "stdout"
        }
      ]
    },
    {
      "cell_type": "markdown",
      "metadata": {
        "id": "vq_KvH8c15j7"
      },
      "source": [
        "###Data Triming"
      ]
    },
    {
      "cell_type": "code",
      "metadata": {
        "colab": {
          "base_uri": "https://localhost:8080/",
          "height": 281
        },
        "id": "6t_VakFF2CpI",
        "outputId": "2d2c8a36-7492-4fa2-e40e-49232eca83f3"
      },
      "source": [
        "plt.scatter(x=diabetes[\"s5\"], y=diabetes_target, alpha=0.5)\n",
        "plt.title(\"s5\") \n",
        "plt.show()"
      ],
      "execution_count": null,
      "outputs": [
        {
          "output_type": "display_data",
          "data": {
            "image/png": "[encoded data removed]",
            "text/plain": [
              "<Figure size 432x288 with 1 Axes>"
            ]
          },
          "metadata": {
            "tags": [],
            "needs_background": "light"
          }
        }
      ]
    },
    {
      "cell_type": "code",
      "metadata": {
        "colab": {
          "base_uri": "https://localhost:8080/",
          "height": 281
        },
        "id": "RPI0TfH2pTUL",
        "outputId": "8c4f3b48-f011-436a-84bf-cbd9d6bb6004"
      },
      "source": [
        "plt.scatter(x=diabetes[\"bmi\"], y=diabetes_target, alpha=0.5)\n",
        "plt.title(\"bmi\") \n",
        "plt.show()"
      ],
      "execution_count": null,
      "outputs": [
        {
          "output_type": "display_data",
          "data": {
            "image/png": "[encoded data removed]",
            "text/plain": [
              "<Figure size 432x288 with 1 Axes>"
            ]
          },
          "metadata": {
            "tags": [],
            "needs_background": "light"
          }
        }
      ]
    },
    {
      "cell_type": "markdown",
      "metadata": {
        "id": "1oAXvXkl2EW2"
      },
      "source": [
        "The researchers used the  s5(serum triglycerides level) and BMI as the independent, while the target value is disease progression one year after baseline.\n"
      ]
    },
    {
      "cell_type": "code",
      "metadata": {
        "id": "WzCG8SvN2KjW"
      },
      "source": [
        "X = pd.DataFrame(np.c_[diabetes['s5'], diabetes[\"bmi\"]], columns=['s5','bmi'])\n",
        "y = diabetes_target\n",
        "X_train, X_test, y_train, y_test = train_test_split(X, y, test_size = 0.2, random_state=1)"
      ],
      "execution_count": null,
      "outputs": []
    },
    {
      "cell_type": "markdown",
      "metadata": {
        "id": "DPfR6kQT3xBr"
      },
      "source": [
        "### Multiple Linear Regression"
      ]
    },
    {
      "cell_type": "code",
      "metadata": {
        "colab": {
          "base_uri": "https://localhost:8080/"
        },
        "id": "i_kl_yV6YGmB",
        "outputId": "c8d16e19-43b5-4f5f-fd52-6084795cb7b1"
      },
      "source": [
        "model = LinearRegression()\n",
        "model.fit(X_train,y_train)"
      ],
      "execution_count": null,
      "outputs": [
        {
          "output_type": "execute_result",
          "data": {
            "text/plain": [
              "LinearRegression(copy_X=True, fit_intercept=True, n_jobs=None, normalize=False)"
            ]
          },
          "metadata": {
            "tags": []
          },
          "execution_count": 195
        }
      ]
    },
    {
      "cell_type": "code",
      "metadata": {
        "colab": {
          "base_uri": "https://localhost:8080/",
          "height": 136
        },
        "id": "y-62KcNlcqNP",
        "outputId": "28c3ed44-5867-4aaf-a623-dd9337a58e3c"
      },
      "source": [
        "model_summary = pd.DataFrame(X.columns, columns=['Features'])\n",
        "model_summary['Weights Raw'] = model.coef_.reshape(2,1)\n",
        "model_summary = model_summary.append({'Features':'Intercept', 'Weights Raw':float(model.intercept_)}, ignore_index=True)\n",
        "model_summary"
      ],
      "execution_count": null,
      "outputs": [
        {
          "output_type": "execute_result",
          "data": {
            "text/html": [
              "<div>\n",
              "<style scoped>\n",
              "    .dataframe tbody tr th:only-of-type {\n",
              "        vertical-align: middle;\n",
              "    }\n",
              "\n",
              "    .dataframe tbody tr th {\n",
              "        vertical-align: top;\n",
              "    }\n",
              "\n",
              "    .dataframe thead th {\n",
              "        text-align: right;\n",
              "    }\n",
              "</style>\n",
              "<table border=\"1\" class=\"dataframe\">\n",
              "  <thead>\n",
              "    <tr style=\"text-align: right;\">\n",
              "      <th></th>\n",
              "      <th>Features</th>\n",
              "      <th>Weights Raw</th>\n",
              "    </tr>\n",
              "  </thead>\n",
              "  <tbody>\n",
              "    <tr>\n",
              "      <th>0</th>\n",
              "      <td>s5</td>\n",
              "      <td>604.623611</td>\n",
              "    </tr>\n",
              "    <tr>\n",
              "      <th>1</th>\n",
              "      <td>bmi</td>\n",
              "      <td>696.729783</td>\n",
              "    </tr>\n",
              "    <tr>\n",
              "      <th>2</th>\n",
              "      <td>Intercept</td>\n",
              "      <td>151.728781</td>\n",
              "    </tr>\n",
              "  </tbody>\n",
              "</table>\n",
              "</div>"
            ],
            "text/plain": [
              "    Features  Weights Raw\n",
              "0         s5   604.623611\n",
              "1        bmi   696.729783\n",
              "2  Intercept   151.728781"
            ]
          },
          "metadata": {
            "tags": []
          },
          "execution_count": 196
        }
      ]
    },
    {
      "cell_type": "code",
      "metadata": {
        "id": "FcHsAPinZ2DW"
      },
      "source": [
        "preds = model.predict(X_test)\n",
        "out = pd.DataFrame({'Actual': y_test, 'Predicted': preds})"
      ],
      "execution_count": null,
      "outputs": []
    },
    {
      "cell_type": "code",
      "metadata": {
        "colab": {
          "base_uri": "https://localhost:8080/",
          "height": 310
        },
        "id": "RbwEmwrQdccG",
        "outputId": "cb4dbe8e-e856-4342-a49e-6d47c5200e37"
      },
      "source": [
        "\n",
        "plt.title('Predictions', fontsize=32)\n",
        "\n",
        "plt.scatter(y_test, pred,s= 50, alpha=0.7)\n",
        "plt.xlabel('Ground Truth')\n",
        "plt.ylabel('Prediction', fontsize=20)\n",
        "\n",
        "plt.show()"
      ],
      "execution_count": null,
      "outputs": [
        {
          "output_type": "display_data",
          "data": {
            "image/png": "[encoded data removed]",
            "text/plain": [
              "<Figure size 432x288 with 1 Axes>"
            ]
          },
          "metadata": {
            "tags": [],
            "needs_background": "light"
          }
        }
      ]
    },
    {
      "cell_type": "code",
      "metadata": {
        "colab": {
          "base_uri": "https://localhost:8080/",
          "height": 166
        },
        "id": "_N6eaFK0hLn-",
        "outputId": "7d50caeb-0edb-4c1c-bcef-016657fa6304"
      },
      "source": [
        "MSE = metrics.mean_squared_error(y_test, preds)\n",
        "RMSE = np.sqrt(MSE)\n",
        "R2 = metrics.r2_score(y_test, preds)\n",
        "AR2 = 1-(1-R2)*(X_train.shape[0]-1)/(X_train.shape[0]-X_train.shape[1]-1)\n",
        "model_metrics = pd.DataFrame([['MSE'],['RMSE'],['R^2'],['ADJR^2']], \n",
        "                             columns=['Metrics'])\n",
        "model_metrics['Multiple Linear Regression'] = MSE, RMSE, R2, AR2\n",
        "model_metrics"
      ],
      "execution_count": null,
      "outputs": [
        {
          "output_type": "execute_result",
          "data": {
            "text/html": [
              "<div>\n",
              "<style scoped>\n",
              "    .dataframe tbody tr th:only-of-type {\n",
              "        vertical-align: middle;\n",
              "    }\n",
              "\n",
              "    .dataframe tbody tr th {\n",
              "        vertical-align: top;\n",
              "    }\n",
              "\n",
              "    .dataframe thead th {\n",
              "        text-align: right;\n",
              "    }\n",
              "</style>\n",
              "<table border=\"1\" class=\"dataframe\">\n",
              "  <thead>\n",
              "    <tr style=\"text-align: right;\">\n",
              "      <th></th>\n",
              "      <th>Metrics</th>\n",
              "      <th>Multiple Linear Regression</th>\n",
              "    </tr>\n",
              "  </thead>\n",
              "  <tbody>\n",
              "    <tr>\n",
              "      <th>0</th>\n",
              "      <td>MSE</td>\n",
              "      <td>3254.088753</td>\n",
              "    </tr>\n",
              "    <tr>\n",
              "      <th>1</th>\n",
              "      <td>RMSE</td>\n",
              "      <td>57.044621</td>\n",
              "    </tr>\n",
              "    <tr>\n",
              "      <th>2</th>\n",
              "      <td>R^2</td>\n",
              "      <td>0.389359</td>\n",
              "    </tr>\n",
              "    <tr>\n",
              "      <th>3</th>\n",
              "      <td>ADJR^2</td>\n",
              "      <td>0.385869</td>\n",
              "    </tr>\n",
              "  </tbody>\n",
              "</table>\n",
              "</div>"
            ],
            "text/plain": [
              "  Metrics  Multiple Linear Regression\n",
              "0     MSE                 3254.088753\n",
              "1    RMSE                   57.044621\n",
              "2     R^2                    0.389359\n",
              "3  ADJR^2                    0.385869"
            ]
          },
          "metadata": {
            "tags": []
          },
          "execution_count": 199
        }
      ]
    },
    {
      "cell_type": "markdown",
      "metadata": {
        "id": "ELliqKrJ4evF"
      },
      "source": [
        "### Normal Equation"
      ]
    },
    {
      "cell_type": "code",
      "metadata": {
        "id": "GtLVo1ZJ4kgR"
      },
      "source": [
        "X_trn = np.c_[np.ones((len(X_train),1)),X_train]\n",
        "pseudoinv = np.linalg.inv(X_trn.T @ X_trn)\n",
        "theta = pseudoinv @ X_trn.T @ y_train\n",
        "X_new_trn = np.c_[np.ones((len(X_test),1)),X_test]\n",
        "pred = X_new_trn @ theta"
      ],
      "execution_count": null,
      "outputs": []
    },
    {
      "cell_type": "code",
      "metadata": {
        "colab": {
          "base_uri": "https://localhost:8080/",
          "height": 166
        },
        "id": "EIZvfHskg65J",
        "outputId": "27e7b1e0-b08d-4c45-d5a0-4d10373a795b"
      },
      "source": [
        "MSE = metrics.mean_squared_error(y_test, pred)\n",
        "RMSE = np.sqrt(MSE)\n",
        "R2 = metrics.r2_score(y_test, pred)\n",
        "AR2 = 1-(1-R2)*(X_trn.shape[0]-1)/(X_trn.shape[0]-X_trn.shape[1]-1)\n",
        "model_metrics = pd.DataFrame([['MSE'],['RMSE'],['R^2'],['ADJR^2']], \n",
        "                             columns=['Metrics'])\n",
        "model_metrics['Multiple Linear Regression'] = MSE, RMSE, R2, AR2\n",
        "model_metrics"
      ],
      "execution_count": null,
      "outputs": [
        {
          "output_type": "execute_result",
          "data": {
            "text/html": [
              "<div>\n",
              "<style scoped>\n",
              "    .dataframe tbody tr th:only-of-type {\n",
              "        vertical-align: middle;\n",
              "    }\n",
              "\n",
              "    .dataframe tbody tr th {\n",
              "        vertical-align: top;\n",
              "    }\n",
              "\n",
              "    .dataframe thead th {\n",
              "        text-align: right;\n",
              "    }\n",
              "</style>\n",
              "<table border=\"1\" class=\"dataframe\">\n",
              "  <thead>\n",
              "    <tr style=\"text-align: right;\">\n",
              "      <th></th>\n",
              "      <th>Metrics</th>\n",
              "      <th>Multiple Linear Regression</th>\n",
              "    </tr>\n",
              "  </thead>\n",
              "  <tbody>\n",
              "    <tr>\n",
              "      <th>0</th>\n",
              "      <td>MSE</td>\n",
              "      <td>3254.088753</td>\n",
              "    </tr>\n",
              "    <tr>\n",
              "      <th>1</th>\n",
              "      <td>RMSE</td>\n",
              "      <td>57.044621</td>\n",
              "    </tr>\n",
              "    <tr>\n",
              "      <th>2</th>\n",
              "      <td>R^2</td>\n",
              "      <td>0.389359</td>\n",
              "    </tr>\n",
              "    <tr>\n",
              "      <th>3</th>\n",
              "      <td>ADJR^2</td>\n",
              "      <td>0.384110</td>\n",
              "    </tr>\n",
              "  </tbody>\n",
              "</table>\n",
              "</div>"
            ],
            "text/plain": [
              "  Metrics  Multiple Linear Regression\n",
              "0     MSE                 3254.088753\n",
              "1    RMSE                   57.044621\n",
              "2     R^2                    0.389359\n",
              "3  ADJR^2                    0.384110"
            ]
          },
          "metadata": {
            "tags": []
          },
          "execution_count": 201
        }
      ]
    },
    {
      "cell_type": "code",
      "metadata": {
        "id": "7HmsdpQ14klQ",
        "colab": {
          "base_uri": "https://localhost:8080/",
          "height": 310
        },
        "outputId": "a89201ee-4b4a-4901-86c3-d30a2100d885"
      },
      "source": [
        "\n",
        "plt.title('Predictions', fontsize=32)\n",
        "\n",
        "plt.scatter(y_test, pred,s= 50, alpha=0.7)\n",
        "plt.xlabel('Ground Truth')\n",
        "plt.ylabel('Prediction', fontsize=20)\n",
        "\n",
        "plt.show()"
      ],
      "execution_count": null,
      "outputs": [
        {
          "output_type": "display_data",
          "data": {
            "image/png": "[encoded data removed]",
            "text/plain": [
              "<Figure size 432x288 with 1 Axes>"
            ]
          },
          "metadata": {
            "tags": [],
            "needs_background": "light"
          }
        }
      ]
    },
    {
      "cell_type": "markdown",
      "metadata": {
        "id": "sQDEjpto2HqG"
      },
      "source": [
        "###Polynomial Regression (Perfect fit)"
      ]
    },
    {
      "cell_type": "markdown",
      "metadata": {
        "id": "qL9Q3IL42RZN"
      },
      "source": [
        "The researcher determines the perfect fit in Polynomial Regression by testing the degree of complexity, which is the 3-degree polynomial, because the variance is close to the predicted values and the graph shown below."
      ]
    },
    {
      "cell_type": "code",
      "metadata": {
        "id": "XKxHaDn82P37"
      },
      "source": [
        "quad_features= PolynomialFeatures(degree=3)  # DEGREE = 2 AND 3 \n",
        "x_quad = quad_features.fit_transform(X_train)"
      ],
      "execution_count": null,
      "outputs": []
    },
    {
      "cell_type": "code",
      "metadata": {
        "id": "UMkawdVN2Tts",
        "colab": {
          "base_uri": "https://localhost:8080/"
        },
        "outputId": "bb706912-3616-458e-967d-eb3314a199b9"
      },
      "source": [
        "model = LinearRegression()\n",
        "model.fit(x_quad, y_train)"
      ],
      "execution_count": null,
      "outputs": [
        {
          "output_type": "execute_result",
          "data": {
            "text/plain": [
              "LinearRegression(copy_X=True, fit_intercept=True, n_jobs=None, normalize=False)"
            ]
          },
          "metadata": {
            "tags": []
          },
          "execution_count": 204
        }
      ]
    },
    {
      "cell_type": "code",
      "metadata": {
        "id": "bcnqJxEZ2QGv"
      },
      "source": [
        "preds = model.predict(quad_features.fit_transform(X_test))"
      ],
      "execution_count": null,
      "outputs": []
    },
    {
      "cell_type": "code",
      "metadata": {
        "id": "zf75SJWY2QOB",
        "colab": {
          "base_uri": "https://localhost:8080/",
          "height": 445
        },
        "outputId": "a3c3fe51-a9e3-438a-c591-6137f39a4de6"
      },
      "source": [
        "poly_MSE = metrics.mean_squared_error(y_test, preds)\n",
        "poly_RMSE = np.sqrt(poly_MSE)\n",
        "poly_R2 = metrics.r2_score(y_test, preds)\n",
        "poly_AR2 = 1-(1-poly_R2)*(X_train.shape[0]-1)/(X_train.shape[0]-X_train.shape[1]-1)\n",
        "model_metrics = pd.DataFrame([['MSE'],['RMSE'],['R^2'],['ADJR^2']], \n",
        "                             columns=['Metrics'])\n",
        "model_metrics['Polynomial Regression (Quad)'] = poly_MSE, poly_RMSE, poly_R2, poly_AR2\n",
        "plt.figure()\n",
        "plt.title('Perfectfitting', fontsize=32)\n",
        "plt.scatter(y_test, preds,alpha=0.7)\n",
        "plt.show()\n",
        "model_metrics"
      ],
      "execution_count": null,
      "outputs": [
        {
          "output_type": "display_data",
          "data": {
            "image/png": "[encoded data removed]",
            "text/plain": [
              "<Figure size 432x288 with 1 Axes>"
            ]
          },
          "metadata": {
            "tags": [],
            "needs_background": "light"
          }
        },
        {
          "output_type": "execute_result",
          "data": {
            "text/html": [
              "<div>\n",
              "<style scoped>\n",
              "    .dataframe tbody tr th:only-of-type {\n",
              "        vertical-align: middle;\n",
              "    }\n",
              "\n",
              "    .dataframe tbody tr th {\n",
              "        vertical-align: top;\n",
              "    }\n",
              "\n",
              "    .dataframe thead th {\n",
              "        text-align: right;\n",
              "    }\n",
              "</style>\n",
              "<table border=\"1\" class=\"dataframe\">\n",
              "  <thead>\n",
              "    <tr style=\"text-align: right;\">\n",
              "      <th></th>\n",
              "      <th>Metrics</th>\n",
              "      <th>Polynomial Regression (Quad)</th>\n",
              "    </tr>\n",
              "  </thead>\n",
              "  <tbody>\n",
              "    <tr>\n",
              "      <th>0</th>\n",
              "      <td>MSE</td>\n",
              "      <td>3215.063572</td>\n",
              "    </tr>\n",
              "    <tr>\n",
              "      <th>1</th>\n",
              "      <td>RMSE</td>\n",
              "      <td>56.701531</td>\n",
              "    </tr>\n",
              "    <tr>\n",
              "      <th>2</th>\n",
              "      <td>R^2</td>\n",
              "      <td>0.396682</td>\n",
              "    </tr>\n",
              "    <tr>\n",
              "      <th>3</th>\n",
              "      <td>ADJR^2</td>\n",
              "      <td>0.393234</td>\n",
              "    </tr>\n",
              "  </tbody>\n",
              "</table>\n",
              "</div>"
            ],
            "text/plain": [
              "  Metrics  Polynomial Regression (Quad)\n",
              "0     MSE                   3215.063572\n",
              "1    RMSE                     56.701531\n",
              "2     R^2                      0.396682\n",
              "3  ADJR^2                      0.393234"
            ]
          },
          "metadata": {
            "tags": []
          },
          "execution_count": 206
        }
      ]
    },
    {
      "cell_type": "markdown",
      "metadata": {
        "id": "BJixjAYC2UW4"
      },
      "source": [
        "####Polynomial Regression (Under fit)"
      ]
    },
    {
      "cell_type": "markdown",
      "metadata": {
        "id": "JHSLiMFy2Ubw"
      },
      "source": [
        "The researcher determines the underfiyting in Polynomial Regression by testing the degree of complexity, which is the >=1 degree polynomial because variance to the predicted values is getting further, unlike degree 2 or 3, the causes of underfitting is oversimplifying the problem, which in this case is the polynomial degree."
      ]
    },
    {
      "cell_type": "code",
      "metadata": {
        "id": "G6yw54TJ2Uoq"
      },
      "source": [
        "quad_features= PolynomialFeatures(degree=1)  # DEGREE =>1\n",
        "x_quad = quad_features.fit_transform(X_train)"
      ],
      "execution_count": null,
      "outputs": []
    },
    {
      "cell_type": "code",
      "metadata": {
        "id": "MsKxoHQs2UwX",
        "colab": {
          "base_uri": "https://localhost:8080/"
        },
        "outputId": "df7fcc22-8453-40ba-91d4-80052a2fbfed"
      },
      "source": [
        "model = LinearRegression()\n",
        "model.fit(x_quad, y_train)"
      ],
      "execution_count": null,
      "outputs": [
        {
          "output_type": "execute_result",
          "data": {
            "text/plain": [
              "LinearRegression(copy_X=True, fit_intercept=True, n_jobs=None, normalize=False)"
            ]
          },
          "metadata": {
            "tags": []
          },
          "execution_count": 208
        }
      ]
    },
    {
      "cell_type": "code",
      "metadata": {
        "id": "23OtM00_2U3t"
      },
      "source": [
        "preds = model.predict(quad_features.fit_transform(X_test))"
      ],
      "execution_count": null,
      "outputs": []
    },
    {
      "cell_type": "code",
      "metadata": {
        "id": "QN-PCLHW2U_M",
        "colab": {
          "base_uri": "https://localhost:8080/",
          "height": 445
        },
        "outputId": "bd2a8ec6-a4f6-4d8b-a9a6-61733d64abe8"
      },
      "source": [
        "poly_MSE = metrics.mean_squared_error(y_test, preds)\n",
        "poly_RMSE = np.sqrt(poly_MSE)\n",
        "poly_R2 = metrics.r2_score(y_test, preds)\n",
        "poly_AR2 = 1-(1-poly_R2)*(X_train.shape[0]-1)/(X_train.shape[0]-X_train.shape[1]-1)\n",
        "model_metrics = pd.DataFrame([['MSE'],['RMSE'],['R^2'],['ADJR^2']], \n",
        "                             columns=['Metrics'])\n",
        "model_metrics['Polynomial Regression (Quad)'] = poly_MSE, poly_RMSE, poly_R2, poly_AR2\n",
        "plt.figure()\n",
        "plt.title('Underfitting', fontsize=32)\n",
        "plt.scatter(y_test, preds,alpha=0.7)\n",
        "plt.show()\n",
        "model_metrics"
      ],
      "execution_count": null,
      "outputs": [
        {
          "output_type": "display_data",
          "data": {
            "image/png": "[encoded data removed]",
            "text/plain": [
              "<Figure size 432x288 with 1 Axes>"
            ]
          },
          "metadata": {
            "tags": [],
            "needs_background": "light"
          }
        },
        {
          "output_type": "execute_result",
          "data": {
            "text/html": [
              "<div>\n",
              "<style scoped>\n",
              "    .dataframe tbody tr th:only-of-type {\n",
              "        vertical-align: middle;\n",
              "    }\n",
              "\n",
              "    .dataframe tbody tr th {\n",
              "        vertical-align: top;\n",
              "    }\n",
              "\n",
              "    .dataframe thead th {\n",
              "        text-align: right;\n",
              "    }\n",
              "</style>\n",
              "<table border=\"1\" class=\"dataframe\">\n",
              "  <thead>\n",
              "    <tr style=\"text-align: right;\">\n",
              "      <th></th>\n",
              "      <th>Metrics</th>\n",
              "      <th>Polynomial Regression (Quad)</th>\n",
              "    </tr>\n",
              "  </thead>\n",
              "  <tbody>\n",
              "    <tr>\n",
              "      <th>0</th>\n",
              "      <td>MSE</td>\n",
              "      <td>3254.088753</td>\n",
              "    </tr>\n",
              "    <tr>\n",
              "      <th>1</th>\n",
              "      <td>RMSE</td>\n",
              "      <td>57.044621</td>\n",
              "    </tr>\n",
              "    <tr>\n",
              "      <th>2</th>\n",
              "      <td>R^2</td>\n",
              "      <td>0.389359</td>\n",
              "    </tr>\n",
              "    <tr>\n",
              "      <th>3</th>\n",
              "      <td>ADJR^2</td>\n",
              "      <td>0.385869</td>\n",
              "    </tr>\n",
              "  </tbody>\n",
              "</table>\n",
              "</div>"
            ],
            "text/plain": [
              "  Metrics  Polynomial Regression (Quad)\n",
              "0     MSE                   3254.088753\n",
              "1    RMSE                     57.044621\n",
              "2     R^2                      0.389359\n",
              "3  ADJR^2                      0.385869"
            ]
          },
          "metadata": {
            "tags": []
          },
          "execution_count": 210
        }
      ]
    },
    {
      "cell_type": "markdown",
      "metadata": {
        "id": "z8-llUtF2VNZ"
      },
      "source": [
        "####Polynomial Regression (Over fit)"
      ]
    },
    {
      "cell_type": "markdown",
      "metadata": {
        "id": "2sxROojg2VUQ"
      },
      "source": [
        "The researcher determines the overfitting in Polynomial Regression by testing the degree of complexity, which is the <= 4-degree polynomial because variance to the predicted values is getting further, unlike degree 2 or 3, the causes of overfitting is overcomplicating the problem, which in this case is the polynomial degree, because of that minor errors or difference in the data is counted causing significant changes in the predictions."
      ]
    },
    {
      "cell_type": "code",
      "metadata": {
        "id": "0MezbPZx2Vdm"
      },
      "source": [
        "quad_features= PolynomialFeatures(degree=6)  # DEGREE 4=<\n",
        "x_quad = quad_features.fit_transform(X_train)"
      ],
      "execution_count": null,
      "outputs": []
    },
    {
      "cell_type": "code",
      "metadata": {
        "id": "_QtFfuJS2Vjb",
        "colab": {
          "base_uri": "https://localhost:8080/"
        },
        "outputId": "be76e942-f684-41dd-e0d0-6344955b06ad"
      },
      "source": [
        "model = LinearRegression()\n",
        "model.fit(x_quad, y_train)"
      ],
      "execution_count": null,
      "outputs": [
        {
          "output_type": "execute_result",
          "data": {
            "text/plain": [
              "LinearRegression(copy_X=True, fit_intercept=True, n_jobs=None, normalize=False)"
            ]
          },
          "metadata": {
            "tags": []
          },
          "execution_count": 212
        }
      ]
    },
    {
      "cell_type": "code",
      "metadata": {
        "id": "KNhGhiom2Vqo"
      },
      "source": [
        "preds = model.predict(quad_features.fit_transform(X_test))"
      ],
      "execution_count": null,
      "outputs": []
    },
    {
      "cell_type": "code",
      "metadata": {
        "id": "rxNMX9Qz2Vyz",
        "colab": {
          "base_uri": "https://localhost:8080/",
          "height": 445
        },
        "outputId": "3bd41a63-58d4-4bf9-9a09-2b57910d0c21"
      },
      "source": [
        "poly_MSE = metrics.mean_squared_error(y_test, preds)\n",
        "poly_RMSE = np.sqrt(poly_MSE)\n",
        "poly_R2 = metrics.r2_score(y_test, preds)\n",
        "poly_AR2 = 1-(1-poly_R2)*(X_train.shape[0]-1)/(X_train.shape[0]-X_train.shape[1]-1)\n",
        "model_metrics = pd.DataFrame([['MSE'],['RMSE'],['R^2'],['ADJR^2']], \n",
        "                             columns=['Metrics'])\n",
        "model_metrics['Polynomial Regression (Quad)'] = poly_MSE, poly_RMSE, poly_R2, poly_AR2\n",
        "plt.figure()\n",
        "plt.title('Overfitting', fontsize=32)\n",
        "plt.scatter(y_test, preds,alpha=0.7)\n",
        "plt.show()\n",
        "model_metrics "
      ],
      "execution_count": null,
      "outputs": [
        {
          "output_type": "display_data",
          "data": {
            "image/png": "[encoded data removed]",
            "text/plain": [
              "<Figure size 432x288 with 1 Axes>"
            ]
          },
          "metadata": {
            "tags": [],
            "needs_background": "light"
          }
        },
        {
          "output_type": "execute_result",
          "data": {
            "text/html": [
              "<div>\n",
              "<style scoped>\n",
              "    .dataframe tbody tr th:only-of-type {\n",
              "        vertical-align: middle;\n",
              "    }\n",
              "\n",
              "    .dataframe tbody tr th {\n",
              "        vertical-align: top;\n",
              "    }\n",
              "\n",
              "    .dataframe thead th {\n",
              "        text-align: right;\n",
              "    }\n",
              "</style>\n",
              "<table border=\"1\" class=\"dataframe\">\n",
              "  <thead>\n",
              "    <tr style=\"text-align: right;\">\n",
              "      <th></th>\n",
              "      <th>Metrics</th>\n",
              "      <th>Polynomial Regression (Quad)</th>\n",
              "    </tr>\n",
              "  </thead>\n",
              "  <tbody>\n",
              "    <tr>\n",
              "      <th>0</th>\n",
              "      <td>MSE</td>\n",
              "      <td>8188.260852</td>\n",
              "    </tr>\n",
              "    <tr>\n",
              "      <th>1</th>\n",
              "      <td>RMSE</td>\n",
              "      <td>90.489010</td>\n",
              "    </tr>\n",
              "    <tr>\n",
              "      <th>2</th>\n",
              "      <td>R^2</td>\n",
              "      <td>-0.536556</td>\n",
              "    </tr>\n",
              "    <tr>\n",
              "      <th>3</th>\n",
              "      <td>ADJR^2</td>\n",
              "      <td>-0.545336</td>\n",
              "    </tr>\n",
              "  </tbody>\n",
              "</table>\n",
              "</div>"
            ],
            "text/plain": [
              "  Metrics  Polynomial Regression (Quad)\n",
              "0     MSE                   8188.260852\n",
              "1    RMSE                     90.489010\n",
              "2     R^2                     -0.536556\n",
              "3  ADJR^2                     -0.545336"
            ]
          },
          "metadata": {
            "tags": []
          },
          "execution_count": 214
        }
      ]
    },
    {
      "cell_type": "markdown",
      "metadata": {
        "id": "B-aUqBQ56LPs"
      },
      "source": [
        "###REFERENCE:"
      ]
    },
    {
      "cell_type": "markdown",
      "metadata": {
        "id": "GtV1LWNxKnv2"
      },
      "source": [
        "<br>[1] Solving Systems of equations with more than two variable. https://www.emsd63.org/site/handlers/filedownload.ashx?moduleinstanceid=2661&dataid=1916&FileName=Alg%20II%20-%203.4%20notes.pdf. [Date Accessed: 04/29/21]\n",
        "<br>[2] Simplilearn, “Overfitting and UNDERFITTING machine Learning | machine learning tutorial for Beginners |Simplilearn,” 11-Sep-2020. [Online]. Available: https://www.youtube.com/watch?v=W-0-u6XVbE4. [Accessed: 01-May-2021]\n",
        "<Br>[3] D. Lopez, “Linear Regression,” in Numerical Methods, 2021. \n",
        "<Br>[4] Scikit-Learn, “scikit-learn/scikit-learn,” GitHub. [Online]. Available: https://github.com/scikit-learn/scikit-learn/blob/main/sklearn/datasets/descr/diabetes.rst. [Accessed: 01-May-2021]. \n",
        "<Br>[5] AI Basics, “Normal Equation code in python | AI Basics |,” 27-Aug-2020. [Online]. Available: https://www.youtube.com/watch?v=bVNe5cl5K54. [Accessed: 03-May-2021]. "
      ]
    }
  ]
}